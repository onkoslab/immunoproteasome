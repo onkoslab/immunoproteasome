{
 "cells": [
  {
   "cell_type": "code",
   "execution_count": 30,
   "metadata": {},
   "outputs": [],
   "source": [
    "import pandas as pd \n",
    "import numpy as np\n",
    "import matplotlib.pyplot as plt\n",
    "import sys\n",
    "import seaborn as sns\n",
    "from scipy import stats\n",
    "from statannot import add_stat_annotation\n",
    "from scipy.stats import mannwhitneyu\n",
    "import glob, os\n",
    "\n",
    "import warnings\n",
    "warnings.filterwarnings(\"ignore\")"
   ]
  },
  {
   "cell_type": "code",
   "execution_count": 31,
   "metadata": {},
   "outputs": [],
   "source": [
    "cp_ip={'none': '#bf812d','amplified':'#35978f','deleted':'#ff9f9b'}"
   ]
  },
  {
   "cell_type": "code",
   "execution_count": 32,
   "metadata": {},
   "outputs": [],
   "source": [
    "## Customizing plot\n",
    "commonFontsize=8\n",
    "def config_rcparams():\n",
    "    plt.rcParams['font.family'] = ['sans-serif']\n",
    "    plt.rcParams['font.sans-serif'] = ['arial']\n",
    "    plt.rcParams['font.size'] = commonFontsize\n",
    "    plt.rcParams['axes.labelsize'] = commonFontsize\n",
    "    plt.rcParams['xtick.labelsize'] = commonFontsize\n",
    "    plt.rcParams['ytick.labelsize'] = commonFontsize\n",
    "    plt.rcParams['axes.titlesize'] = commonFontsize\n",
    "    plt.rcParams['svg.fonttype'] = 'none'\n",
    "    plt.rcParams['mathtext.fontset'] = 'custom'\n",
    "    plt.rcParams['mathtext.cal'] = 'arial'\n",
    "    plt.rcParams['mathtext.rm'] = 'arial'\n",
    "    plt.rcParams['axes.edgecolor'] = 'black'\n",
    "    plt.rcParams['ytick.color'] = 'black'\n",
    "    plt.rcParams['axes.linewidth'] = 0.7\n",
    "    plt.rcParams['xtick.major.width'] = 0.7\n",
    "    plt.rcParams['ytick.major.width'] = 0.7\n",
    "    plt.rcParams['xtick.major.size' ] = 3\n",
    "    plt.rcParams['ytick.major.size' ] = 3\n",
    "    plt.rcParams['text.usetex' ] = False\n",
    "config_rcparams()"
   ]
  },
  {
   "cell_type": "markdown",
   "metadata": {},
   "source": [
    "## Collect all the probes for the methylation"
   ]
  },
  {
   "cell_type": "code",
   "execution_count": 33,
   "metadata": {},
   "outputs": [],
   "source": [
    "## listing the file name\n",
    "os.chdir(\"data/correlation_methylation_vs_mRNA/\")\n",
    "methylation_tumor_corr=[]\n",
    "for  i in glob.glob(\"*.txt\"):\n",
    "    methylation_tumor_corr.append(i)\n",
    "os.chdir(\"/workspace/projects/immunoproteasome/\")"
   ]
  },
  {
   "cell_type": "code",
   "execution_count": 34,
   "metadata": {},
   "outputs": [],
   "source": [
    "### Importing methylation beta value\n",
    "input_path2=\"data/\"\n",
    "meth_df_beta_value=pd.read_csv(input_path2+\"jhu-usc.edu_PANCAN_merged_HumanMethylation27_HumanMethylation450.betaValue_whitelisted.tsv\",sep=\"\\t\")\n",
    "meth_df_beta_value.columns= meth_df_beta_value.columns.str.split('-').str[0:3].str.join('.')\n",
    "meth_df_beta_value1=meth_df_beta_value.set_index('Composite Element REF')\n",
    "meth_df_beta_value2=meth_df_beta_value1.T"
   ]
  },
  {
   "cell_type": "code",
   "execution_count": 35,
   "metadata": {},
   "outputs": [],
   "source": [
    "### Importing copy number file\n",
    "copy_no_df=pd.read_csv(\"data/all_thresholded.by_genes_whitelisted.tsv\",index_col='Gene Symbol',sep=\"\\t\")\n",
    "copy_no_df=copy_no_df.drop(['Locus ID','Cytoband'],axis=1)\n",
    "copy_no_df.columns= copy_no_df.columns.str.split('-').str[0:3].str.join('.')\n",
    "copy_no_df2=copy_no_df.T[['PSMB8','PSMB9','PSMB10','IRF1']]"
   ]
  },
  {
   "cell_type": "code",
   "execution_count": 36,
   "metadata": {},
   "outputs": [],
   "source": [
    "copy_no_meth_df=pd.merge(copy_no_df2, meth_df_beta_value2, left_index=True, right_index=True)"
   ]
  },
  {
   "cell_type": "code",
   "execution_count": 37,
   "metadata": {
    "scrolled": false
   },
   "outputs": [],
   "source": [
    "## Collecting genes probe combination intersecting the probes in the methylation correaltion file with the methylation beta value file\n",
    "input_path1=\"data/correlation_methylation_vs_mRNA/\"\n",
    "meth_beta_value_probe_list=list(meth_df_beta_value2.columns)\n",
    "meth_probe_list=[]\n",
    "frames={}\n",
    "frames1={}\n",
    "gene_probes=['PSMB8','PSMB9','PSMB10','IRF1']\n",
    "for j in range(4):\n",
    "    meth_probe_list=[]\n",
    "    tissue_type=[]\n",
    "    for i in range(len(methylation_tumor_corr)):\n",
    "        meth_df = pd.read_csv(input_path1+methylation_tumor_corr[i],delimiter=\"\\t\")\n",
    "        meth_probe_list.append(list(meth_df[meth_df['Gene']==gene_probes[j]]['Meth_Probe']))\n",
    "        tissue_type.append(methylation_tumor_corr[i].split('_')[4].split('-')[0])\n",
    "        \n",
    "    df_tissue_probe=pd.DataFrame(meth_probe_list,columns=['probe'])\n",
    "    df_tissue_probe['tumor_type']=tissue_type\n",
    "    df_tissue_probe['genes']=gene_probes[j]\n",
    "    frames1[j]=df_tissue_probe                \n",
    "\n",
    "    meth_probe_list_all=list(set(sum(meth_probe_list,[])))\n",
    "    all_beta_value_int_list=list(set(meth_beta_value_probe_list).intersection(meth_probe_list_all))\n",
    "    \n",
    "    df_probe_gene=pd.DataFrame()\n",
    "    df_probe_gene['probes']=all_beta_value_int_list\n",
    "    df_probe_gene['genes']=gene_probes[j]\n",
    "    frames[j]=df_probe_gene\n",
    "\n",
    "## extracting tumor type specific probe\n",
    "probe_gene_df=pd.concat(frames)\n",
    "df_probe_tt_genes=pd.concat(frames1)\n",
    "df_probe_tt_genes_final=df_probe_tt_genes[df_probe_tt_genes['probe'].isin(list(probe_gene_df['probes']))]"
   ]
  },
  {
   "cell_type": "code",
   "execution_count": 38,
   "metadata": {},
   "outputs": [
    {
     "data": {
      "text/html": [
       "<div>\n",
       "<style scoped>\n",
       "    .dataframe tbody tr th:only-of-type {\n",
       "        vertical-align: middle;\n",
       "    }\n",
       "\n",
       "    .dataframe tbody tr th {\n",
       "        vertical-align: top;\n",
       "    }\n",
       "\n",
       "    .dataframe thead th {\n",
       "        text-align: right;\n",
       "    }\n",
       "</style>\n",
       "<table border=\"1\" class=\"dataframe\">\n",
       "  <thead>\n",
       "    <tr style=\"text-align: right;\">\n",
       "      <th></th>\n",
       "      <th></th>\n",
       "      <th>probe</th>\n",
       "      <th>tumor_type</th>\n",
       "      <th>genes</th>\n",
       "    </tr>\n",
       "  </thead>\n",
       "  <tbody>\n",
       "    <tr>\n",
       "      <th rowspan=\"2\" valign=\"top\">1</th>\n",
       "      <th>17</th>\n",
       "      <td>cg12762680</td>\n",
       "      <td>GBM</td>\n",
       "      <td>PSMB9</td>\n",
       "    </tr>\n",
       "    <tr>\n",
       "      <th>29</th>\n",
       "      <td>cg12762680</td>\n",
       "      <td>OV</td>\n",
       "      <td>PSMB9</td>\n",
       "    </tr>\n",
       "    <tr>\n",
       "      <th rowspan=\"5\" valign=\"top\">2</th>\n",
       "      <th>2</th>\n",
       "      <td>cg11451801</td>\n",
       "      <td>TGCT</td>\n",
       "      <td>PSMB10</td>\n",
       "    </tr>\n",
       "    <tr>\n",
       "      <th>6</th>\n",
       "      <td>cg11451801</td>\n",
       "      <td>THCA</td>\n",
       "      <td>PSMB10</td>\n",
       "    </tr>\n",
       "    <tr>\n",
       "      <th>17</th>\n",
       "      <td>cg11451801</td>\n",
       "      <td>GBM</td>\n",
       "      <td>PSMB10</td>\n",
       "    </tr>\n",
       "    <tr>\n",
       "      <th>22</th>\n",
       "      <td>cg11451801</td>\n",
       "      <td>KIRC</td>\n",
       "      <td>PSMB10</td>\n",
       "    </tr>\n",
       "    <tr>\n",
       "      <th>29</th>\n",
       "      <td>cg11451801</td>\n",
       "      <td>OV</td>\n",
       "      <td>PSMB10</td>\n",
       "    </tr>\n",
       "    <tr>\n",
       "      <th rowspan=\"2\" valign=\"top\">3</th>\n",
       "      <th>17</th>\n",
       "      <td>cg20287640</td>\n",
       "      <td>GBM</td>\n",
       "      <td>IRF1</td>\n",
       "    </tr>\n",
       "    <tr>\n",
       "      <th>29</th>\n",
       "      <td>cg20287640</td>\n",
       "      <td>OV</td>\n",
       "      <td>IRF1</td>\n",
       "    </tr>\n",
       "  </tbody>\n",
       "</table>\n",
       "</div>"
      ],
      "text/plain": [
       "           probe tumor_type   genes\n",
       "1 17  cg12762680        GBM   PSMB9\n",
       "  29  cg12762680         OV   PSMB9\n",
       "2 2   cg11451801       TGCT  PSMB10\n",
       "  6   cg11451801       THCA  PSMB10\n",
       "  17  cg11451801        GBM  PSMB10\n",
       "  22  cg11451801       KIRC  PSMB10\n",
       "  29  cg11451801         OV  PSMB10\n",
       "3 17  cg20287640        GBM    IRF1\n",
       "  29  cg20287640         OV    IRF1"
      ]
     },
     "execution_count": 38,
     "metadata": {},
     "output_type": "execute_result"
    }
   ],
   "source": [
    "df_probe_tt_genes_final"
   ]
  },
  {
   "cell_type": "markdown",
   "metadata": {},
   "source": [
    "### IL6-JAK STAT pathways analysis"
   ]
  },
  {
   "cell_type": "code",
   "execution_count": 39,
   "metadata": {},
   "outputs": [],
   "source": [
    "## listing the file name\n",
    "os.chdir(\"data/r_output/\")\n",
    "tumor_tissue_pathway_score=[]\n",
    "for  i in glob.glob(\"GSVA*.tsv\"):\n",
    "    tumor_tissue_pathway_score.append(i)"
   ]
  },
  {
   "cell_type": "code",
   "execution_count": 40,
   "metadata": {
    "scrolled": false
   },
   "outputs": [],
   "source": [
    "tt_list=list(df_probe_tt_genes_final['tumor_type'])\n",
    "gene_list=list(df_probe_tt_genes_final['genes'])\n",
    "probe_list=list(df_probe_tt_genes_final['probe'])\n",
    "\n",
    "input_path11=\"data/r_output/\"\n",
    "frames_jak_stat={}\n",
    "for i in range(len(tumor_tissue_pathway_score)):\n",
    "    pathway_score_df=pd.read_csv(input_path11+tumor_tissue_pathway_score[i],sep='\\t')\n",
    "    jak_stat_pathway_score_df=pathway_score_df.T[['HALLMARK_IL6_JAK_STAT3_SIGNALING']]\n",
    "    jak_stat_pathway_score_df=jak_stat_pathway_score_df.reset_index(level=0)\n",
    "    frames_jak_stat[i]=jak_stat_pathway_score_df\n",
    "df_jak_stat=pd.concat(frames_jak_stat)\n",
    "df_jak_stat=df_jak_stat.set_index(['index'])\n",
    "\n",
    "copy_no_meth_jak_stat_gene_df=pd.merge(copy_no_meth_df, df_jak_stat, left_index=True, right_index=True)"
   ]
  },
  {
   "cell_type": "code",
   "execution_count": 41,
   "metadata": {},
   "outputs": [],
   "source": [
    "box_pairs=[(('PSMB8', 'none'),\n",
    "  ('PSMB8', 'amplified')),\n",
    " (('PSMB8', 'none'),\n",
    "  ('PSMB8', 'deleted')),\n",
    " (('PSMB8', 'amplified'),\n",
    "  ('PSMB8', 'deleted')),\n",
    " (('PSMB9', 'none'),\n",
    "  ('PSMB9', 'amplified')),\n",
    " (('PSMB9', 'none'),\n",
    "  ('PSMB9', 'deleted')),\n",
    " (('PSMB9', 'amplified'),\n",
    "  ('PSMB9', 'deleted')),\n",
    " (('PSMB10', 'none'),\n",
    "  ('PSMB10', 'amplified')),\n",
    " (('PSMB10', 'none'),\n",
    "  ('PSMB10', 'deleted')),\n",
    " (('PSMB10', 'amplified'),\n",
    "  ('PSMB10', 'deleted'))]"
   ]
  },
  {
   "cell_type": "code",
   "execution_count": 42,
   "metadata": {},
   "outputs": [
    {
     "name": "stdout",
     "output_type": "stream",
     "text": [
      "p-value annotation legend:\n",
      "ns: 5.00e-02 < p <= 1.00e+00\n",
      "*: 1.00e-02 < p <= 5.00e-02\n",
      "**: 1.00e-03 < p <= 1.00e-02\n",
      "***: 1.00e-04 < p <= 1.00e-03\n",
      "****: p <= 1.00e-04\n",
      "\n",
      "PSMB9_amplified v.s. PSMB9_deleted: Mann-Whitney-Wilcoxon test two-sided, P_val=2.083e-01 U_stat=1.390e+06\n",
      "PSMB10_none v.s. PSMB10_amplified: Mann-Whitney-Wilcoxon test two-sided, P_val=1.277e-06 U_stat=4.800e+06\n",
      "PSMB10_amplified v.s. PSMB10_deleted: Mann-Whitney-Wilcoxon test two-sided, P_val=1.387e-02 U_stat=1.866e+06\n",
      "PSMB8_none v.s. PSMB8_amplified: Mann-Whitney-Wilcoxon test two-sided, P_val=6.317e-07 U_stat=7.397e+06\n",
      "PSMB8_amplified v.s. PSMB8_deleted: Mann-Whitney-Wilcoxon test two-sided, P_val=2.083e-01 U_stat=1.390e+06\n",
      "PSMB9_none v.s. PSMB9_amplified: Mann-Whitney-Wilcoxon test two-sided, P_val=6.317e-07 U_stat=7.397e+06\n",
      "PSMB10_none v.s. PSMB10_deleted: Mann-Whitney-Wilcoxon test two-sided, P_val=6.075e-03 U_stat=8.527e+06\n",
      "PSMB9_none v.s. PSMB9_deleted: Mann-Whitney-Wilcoxon test two-sided, P_val=5.449e-09 U_stat=5.150e+06\n",
      "PSMB8_none v.s. PSMB8_deleted: Mann-Whitney-Wilcoxon test two-sided, P_val=5.449e-09 U_stat=5.150e+06\n"
     ]
    },
    {
     "data": {
      "image/png": "[encoded data removed]",
      "text/plain": [
       "<Figure size 360x216 with 1 Axes>"
      ]
     },
     "metadata": {
      "needs_background": "light"
     },
     "output_type": "display_data"
    }
   ],
   "source": [
    "### plot showing IL6-JAK STAT enrichment level in sample having amplification deletion or no-alteration in PSMB8/9/10 genes\n",
    "dft_PSMB8=copy_no_meth_jak_stat_gene_df[['PSMB8','HALLMARK_IL6_JAK_STAT3_SIGNALING']]\n",
    "dft_PSMB8['gene']='PSMB8'\n",
    "dft_PSMB8=dft_PSMB8.rename({'PSMB8': 'copy_no'}, axis=1)\n",
    "\n",
    "dft_PSMB9=copy_no_meth_jak_stat_gene_df[['PSMB9','HALLMARK_IL6_JAK_STAT3_SIGNALING']]\n",
    "dft_PSMB9['gene']='PSMB9'\n",
    "dft_PSMB9=dft_PSMB9.rename({'PSMB9': 'copy_no'}, axis=1)\n",
    "\n",
    "dft_PSMB10=copy_no_meth_jak_stat_gene_df[['PSMB10','HALLMARK_IL6_JAK_STAT3_SIGNALING']]\n",
    "dft_PSMB10['gene']='PSMB10'\n",
    "dft_PSMB10=dft_PSMB10.rename({'PSMB10': 'copy_no'}, axis=1)\n",
    "\n",
    "dft_PSMB9_PSMB10=dft_PSMB9.append(dft_PSMB10)\n",
    "dft_PSMB8_PSMB9_PSMB10=dft_PSMB8.append(dft_PSMB9_PSMB10)\n",
    "dft_PSMB8_PSMB9_PSMB10=dft_PSMB8_PSMB9_PSMB10.dropna()\n",
    "\n",
    "dft_PSMB8_PSMB9_PSMB10.loc[dft_PSMB8_PSMB9_PSMB10[\"copy_no\"] == 0,'copy_no'] = 'none'\n",
    "dft_PSMB8_PSMB9_PSMB10.loc[dft_PSMB8_PSMB9_PSMB10[\"copy_no\"] == 1,'copy_no'] = 'amplified'\n",
    "dft_PSMB8_PSMB9_PSMB10.loc[dft_PSMB8_PSMB9_PSMB10[\"copy_no\"] == 2,'copy_no'] = 'amplified'\n",
    "dft_PSMB8_PSMB9_PSMB10.loc[dft_PSMB8_PSMB9_PSMB10[\"copy_no\"] == -1,'copy_no'] = 'deleted'\n",
    "dft_PSMB8_PSMB9_PSMB10.loc[dft_PSMB8_PSMB9_PSMB10[\"copy_no\"] == -2,'copy_no'] = 'deleted'\n",
    "\n",
    "plt.figure(figsize=(5,3))\n",
    "res=sns.boxplot(x=\"gene\",y=\"HALLMARK_IL6_JAK_STAT3_SIGNALING\",hue=\"copy_no\",data=dft_PSMB8_PSMB9_PSMB10,width=.9,linewidth=1,fliersize=.02,palette={'none': '#bf812d','amplified':'#35978f','deleted':'#a1c9f4'})\n",
    "add_stat_annotation(res, data=dft_PSMB8_PSMB9_PSMB10, x=\"gene\", y=\"HALLMARK_IL6_JAK_STAT3_SIGNALING\",hue=\"copy_no\",box_pairs=box_pairs,test='Mann-Whitney',comparisons_correction=None, text_format='star', loc='inside', verbose=2,linewidth=0.7,fontsize = 9)\n",
    "res.set_xticklabels(res.get_xmajorticklabels(), fontsize = 10)\n",
    "res.set_yticklabels(res.get_ymajorticklabels(), fontsize = 10)\n",
    "plt.setp(res.get_legend().get_texts(), fontsize='10')\n",
    "plt.setp(res.get_legend().get_title(), fontsize='10')\n",
    "plt.xlabel(\"Genes\",fontsize=10)\n",
    "plt.ylabel(\"HALLMARK IL6 JAK STAT3 SIGNALING\",fontsize=7)\n",
    "#plt.savefig('plots/PSMB8_9_10_JAK_STAT_plot.svg',bbox_inches = \"tight\",dpi=500)\n",
    "plt.show()"
   ]
  },
  {
   "cell_type": "markdown",
   "metadata": {},
   "source": [
    "## Interferon-alpha analysis"
   ]
  },
  {
   "cell_type": "code",
   "execution_count": 43,
   "metadata": {},
   "outputs": [],
   "source": [
    "## listing the file name\n",
    "os.chdir(\"data/r_output/\")\n",
    "tumor_tissue_pathway_score=[]\n",
    "for  i in glob.glob(\"GSVA*.tsv\"):\n",
    "    tumor_tissue_pathway_score.append(i)"
   ]
  },
  {
   "cell_type": "code",
   "execution_count": 44,
   "metadata": {},
   "outputs": [],
   "source": [
    "tt_list=list(df_probe_tt_genes_final['tumor_type'])\n",
    "gene_list=list(df_probe_tt_genes_final['genes'])\n",
    "probe_list=list(df_probe_tt_genes_final['probe'])\n",
    "\n",
    "input_path11=\"data/r_output/\"\n",
    "frames_jak_stat={}\n",
    "for i in range(len(tumor_tissue_pathway_score)):\n",
    "    pathway_score_df=pd.read_csv(input_path11+tumor_tissue_pathway_score[i],sep='\\t')\n",
    "    jak_stat_pathway_score_df=pathway_score_df.T[['HALLMARK_INTERFERON_ALPHA_RESPONSE']]\n",
    "    jak_stat_pathway_score_df=jak_stat_pathway_score_df.reset_index(level=0)\n",
    "    frames_jak_stat[i]=jak_stat_pathway_score_df\n",
    "df_jak_stat=pd.concat(frames_jak_stat)\n",
    "df_jak_stat=df_jak_stat.set_index(['index'])\n",
    "\n",
    "copy_no_meth_jak_stat_gene_df=pd.merge(copy_no_meth_df, df_jak_stat, left_index=True, right_index=True)"
   ]
  },
  {
   "cell_type": "code",
   "execution_count": 45,
   "metadata": {},
   "outputs": [
    {
     "name": "stdout",
     "output_type": "stream",
     "text": [
      "p-value annotation legend:\n",
      "ns: 5.00e-02 < p <= 1.00e+00\n",
      "*: 1.00e-02 < p <= 5.00e-02\n",
      "**: 1.00e-03 < p <= 1.00e-02\n",
      "***: 1.00e-04 < p <= 1.00e-03\n",
      "****: p <= 1.00e-04\n",
      "\n",
      "PSMB9_amplified v.s. PSMB9_deleted: Mann-Whitney-Wilcoxon test two-sided, P_val=3.782e-01 U_stat=1.380e+06\n",
      "PSMB10_none v.s. PSMB10_amplified: Mann-Whitney-Wilcoxon test two-sided, P_val=7.451e-07 U_stat=4.808e+06\n",
      "PSMB10_amplified v.s. PSMB10_deleted: Mann-Whitney-Wilcoxon test two-sided, P_val=4.024e-02 U_stat=1.881e+06\n",
      "PSMB8_none v.s. PSMB8_amplified: Mann-Whitney-Wilcoxon test two-sided, P_val=1.332e-02 U_stat=7.143e+06\n",
      "PSMB8_amplified v.s. PSMB8_deleted: Mann-Whitney-Wilcoxon test two-sided, P_val=3.782e-01 U_stat=1.380e+06\n",
      "PSMB9_none v.s. PSMB9_amplified: Mann-Whitney-Wilcoxon test two-sided, P_val=1.332e-02 U_stat=7.143e+06\n",
      "PSMB10_none v.s. PSMB10_deleted: Mann-Whitney-Wilcoxon test two-sided, P_val=1.355e-03 U_stat=8.578e+06\n",
      "PSMB9_none v.s. PSMB9_deleted: Mann-Whitney-Wilcoxon test two-sided, P_val=1.279e-03 U_stat=4.940e+06\n",
      "PSMB8_none v.s. PSMB8_deleted: Mann-Whitney-Wilcoxon test two-sided, P_val=1.279e-03 U_stat=4.940e+06\n"
     ]
    },
    {
     "data": {
      "image/png": "[encoded data removed]",
      "text/plain": [
       "<Figure size 360x216 with 1 Axes>"
      ]
     },
     "metadata": {
      "needs_background": "light"
     },
     "output_type": "display_data"
    }
   ],
   "source": [
    "### plot showing interferon-alpha enrichment level in sample having amplification deletion or no-alteration in PSMB8/9/10 genes\n",
    "dft_PSMB8=copy_no_meth_jak_stat_gene_df[['PSMB8','HALLMARK_INTERFERON_ALPHA_RESPONSE']]\n",
    "dft_PSMB8['gene']='PSMB8'\n",
    "dft_PSMB8=dft_PSMB8.rename({'PSMB8': 'copy_no'}, axis=1)\n",
    "\n",
    "dft_PSMB9=copy_no_meth_jak_stat_gene_df[['PSMB9','HALLMARK_INTERFERON_ALPHA_RESPONSE']]\n",
    "dft_PSMB9['gene']='PSMB9'\n",
    "dft_PSMB9=dft_PSMB9.rename({'PSMB9': 'copy_no'}, axis=1)\n",
    "\n",
    "dft_PSMB10=copy_no_meth_jak_stat_gene_df[['PSMB10','HALLMARK_INTERFERON_ALPHA_RESPONSE']]\n",
    "dft_PSMB10['gene']='PSMB10'\n",
    "dft_PSMB10=dft_PSMB10.rename({'PSMB10': 'copy_no'}, axis=1)\n",
    "\n",
    "dft_PSMB9_PSMB10=dft_PSMB9.append(dft_PSMB10)\n",
    "dft_PSMB8_PSMB9_PSMB10=dft_PSMB8.append(dft_PSMB9_PSMB10)\n",
    "dft_PSMB8_PSMB9_PSMB10=dft_PSMB8_PSMB9_PSMB10.dropna()\n",
    "\n",
    "dft_PSMB8_PSMB9_PSMB10.loc[dft_PSMB8_PSMB9_PSMB10[\"copy_no\"] == 0,'copy_no'] = 'none'\n",
    "dft_PSMB8_PSMB9_PSMB10.loc[dft_PSMB8_PSMB9_PSMB10[\"copy_no\"] == 1,'copy_no'] = 'amplified'\n",
    "dft_PSMB8_PSMB9_PSMB10.loc[dft_PSMB8_PSMB9_PSMB10[\"copy_no\"] == 2,'copy_no'] = 'amplified'\n",
    "dft_PSMB8_PSMB9_PSMB10.loc[dft_PSMB8_PSMB9_PSMB10[\"copy_no\"] == -1,'copy_no'] = 'deleted'\n",
    "dft_PSMB8_PSMB9_PSMB10.loc[dft_PSMB8_PSMB9_PSMB10[\"copy_no\"] == -2,'copy_no'] = 'deleted'\n",
    "\n",
    "plt.figure(figsize=(5,3))\n",
    "res=sns.boxplot(x=\"gene\",y=\"HALLMARK_INTERFERON_ALPHA_RESPONSE\",hue=\"copy_no\",data=dft_PSMB8_PSMB9_PSMB10,width=.8,linewidth=1,fliersize=.02,palette={'none': '#bf812d','amplified':'#35978f','deleted':'#a1c9f4'})\n",
    "add_stat_annotation(res, data=dft_PSMB8_PSMB9_PSMB10, x=\"gene\", y=\"HALLMARK_INTERFERON_ALPHA_RESPONSE\",hue=\"copy_no\",box_pairs=box_pairs,test='Mann-Whitney',comparisons_correction=None, text_format='star', loc='inside', verbose=2,linewidth=0.7,fontsize = 9)\n",
    "res.set_xticklabels(res.get_xmajorticklabels(), fontsize = 10)\n",
    "res.set_yticklabels(res.get_ymajorticklabels(), fontsize = 10)\n",
    "plt.setp(res.get_legend().get_texts(), fontsize='10')\n",
    "plt.setp(res.get_legend().get_title(), fontsize='10')\n",
    "plt.xlabel(\"Genes\",fontsize=10)\n",
    "plt.ylabel(\"HALLMARK INTERFERON ALPHA RESPONSE\",fontsize=7)\n",
    "#plt.savefig('plots/PSMB8_9_10_Interferon_plot.svg',bbox_inches = \"tight\",dpi=500)\n",
    "plt.show()"
   ]
  },
  {
   "cell_type": "markdown",
   "metadata": {},
   "source": [
    "### IRF1 methylation status with respect to PSMB8/9/10 Copy number"
   ]
  },
  {
   "cell_type": "code",
   "execution_count": 46,
   "metadata": {},
   "outputs": [],
   "source": [
    "dft_PSMB8=copy_no_meth_df[['PSMB8','cg20287640']]\n",
    "dft_PSMB8['gene']='PSMB8'\n",
    "dft_PSMB8=dft_PSMB8.rename({'PSMB8': 'copy_no'}, axis=1)\n",
    "dft_PSMB8=dft_PSMB8.rename({'cg20287640': 'meth_score'}, axis=1)\n",
    "\n",
    "dft_PSMB9=copy_no_meth_df[['PSMB9','cg20287640']]\n",
    "dft_PSMB9['gene']='PSMB9'\n",
    "dft_PSMB9=dft_PSMB9.rename({'PSMB9': 'copy_no'}, axis=1)\n",
    "dft_PSMB9=dft_PSMB9.rename({'cg20287640': 'meth_score'}, axis=1)\n",
    "\n",
    "dft_PSMB10=copy_no_meth_df[['PSMB10','cg20287640']]\n",
    "dft_PSMB10['gene']='PSMB10'\n",
    "dft_PSMB10=dft_PSMB10.rename({'PSMB10': 'copy_no'}, axis=1)\n",
    "dft_PSMB10=dft_PSMB10.rename({'cg20287640': 'meth_score'}, axis=1)\n",
    "\n",
    "dft_PSMB9_PSMB10=dft_PSMB9.append(dft_PSMB10)\n",
    "dft_PSMB8_PSMB9_PSMB10=dft_PSMB8.append(dft_PSMB9_PSMB10)\n",
    "dft_PSMB8_PSMB9_PSMB10=dft_PSMB8_PSMB9_PSMB10.dropna()\n",
    "\n",
    "dft_PSMB8_PSMB9_PSMB10.loc[dft_PSMB8_PSMB9_PSMB10[\"copy_no\"] == 0,'copy_no'] = 'none'\n",
    "dft_PSMB8_PSMB9_PSMB10.loc[dft_PSMB8_PSMB9_PSMB10[\"copy_no\"] == 1,'copy_no'] = 'amplified'\n",
    "dft_PSMB8_PSMB9_PSMB10.loc[dft_PSMB8_PSMB9_PSMB10[\"copy_no\"] == 2,'copy_no'] = 'amplified'\n",
    "dft_PSMB8_PSMB9_PSMB10.loc[dft_PSMB8_PSMB9_PSMB10[\"copy_no\"] == -1,'copy_no'] = 'deleted'\n",
    "dft_PSMB8_PSMB9_PSMB10.loc[dft_PSMB8_PSMB9_PSMB10[\"copy_no\"] == -2,'copy_no'] = 'deleted'"
   ]
  },
  {
   "cell_type": "code",
   "execution_count": 47,
   "metadata": {},
   "outputs": [],
   "source": [
    "box_pairs=[(('PSMB8', 'none'),\n",
    "  ('PSMB8', 'amplified')),\n",
    " (('PSMB8', 'none'),\n",
    "  ('PSMB8', 'deleted')),\n",
    " (('PSMB8', 'amplified'),\n",
    "  ('PSMB8', 'deleted')),\n",
    " (('PSMB9', 'none'),\n",
    "  ('PSMB9', 'amplified')),\n",
    " (('PSMB9', 'none'),\n",
    "  ('PSMB9', 'deleted')),\n",
    " (('PSMB9', 'amplified'),\n",
    "  ('PSMB9', 'deleted')),\n",
    " (('PSMB10', 'none'),\n",
    "  ('PSMB10', 'amplified')),\n",
    " (('PSMB10', 'none'),\n",
    "  ('PSMB10', 'deleted')),\n",
    " (('PSMB10', 'amplified'),\n",
    "  ('PSMB10', 'deleted'))]"
   ]
  },
  {
   "cell_type": "code",
   "execution_count": 48,
   "metadata": {},
   "outputs": [
    {
     "name": "stdout",
     "output_type": "stream",
     "text": [
      "p-value annotation legend:\n",
      "ns: 5.00e-02 < p <= 1.00e+00\n",
      "*: 1.00e-02 < p <= 5.00e-02\n",
      "**: 1.00e-03 < p <= 1.00e-02\n",
      "***: 1.00e-04 < p <= 1.00e-03\n",
      "****: p <= 1.00e-04\n",
      "\n",
      "PSMB9_amplified v.s. PSMB9_deleted: Mann-Whitney-Wilcoxon test two-sided, P_val=1.180e-02 U_stat=1.704e+06\n",
      "PSMB10_none v.s. PSMB10_amplified: Mann-Whitney-Wilcoxon test two-sided, P_val=5.695e-01 U_stat=5.136e+06\n",
      "PSMB10_amplified v.s. PSMB10_deleted: Mann-Whitney-Wilcoxon test two-sided, P_val=3.256e-03 U_stat=2.426e+06\n",
      "PSMB8_none v.s. PSMB8_amplified: Mann-Whitney-Wilcoxon test two-sided, P_val=4.344e-01 U_stat=8.391e+06\n",
      "PSMB8_amplified v.s. PSMB8_deleted: Mann-Whitney-Wilcoxon test two-sided, P_val=1.180e-02 U_stat=1.704e+06\n",
      "PSMB9_none v.s. PSMB9_amplified: Mann-Whitney-Wilcoxon test two-sided, P_val=4.344e-01 U_stat=8.391e+06\n",
      "PSMB10_none v.s. PSMB10_deleted: Mann-Whitney-Wilcoxon test two-sided, P_val=2.653e-04 U_stat=1.072e+07\n",
      "PSMB9_none v.s. PSMB9_deleted: Mann-Whitney-Wilcoxon test two-sided, P_val=1.839e-02 U_stat=5.830e+06\n",
      "PSMB8_none v.s. PSMB8_deleted: Mann-Whitney-Wilcoxon test two-sided, P_val=1.839e-02 U_stat=5.830e+06\n"
     ]
    },
    {
     "data": {
      "image/png": "[encoded data removed]",
      "text/plain": [
       "<Figure size 360x216 with 1 Axes>"
      ]
     },
     "metadata": {
      "needs_background": "light"
     },
     "output_type": "display_data"
    }
   ],
   "source": [
    "### plot showing IRF1 methylation status in sample having amplification deletion or no-alteration in PSMB8/9/10 genes\n",
    "plt.figure(figsize=(5,3))\n",
    "res=sns.boxplot(x=\"gene\",y=\"meth_score\",hue=\"copy_no\",data=dft_PSMB8_PSMB9_PSMB10,showfliers=False,width=.8,linewidth=1,fliersize=.02,palette={'none': '#bf812d','amplified':'#35978f','deleted':'#a1c9f4'})\n",
    "add_stat_annotation(res, data=dft_PSMB8_PSMB9_PSMB10, x=\"gene\", y=\"meth_score\",hue=\"copy_no\",box_pairs=box_pairs,test='Mann-Whitney',comparisons_correction=None, text_format='star', loc='outside', verbose=2,linewidth=0.7,fontsize = 9)\n",
    "\n",
    "res.set(ylim=(0, 0.3))\n",
    "res.set_xticklabels(res.get_xmajorticklabels(), fontsize = 10)\n",
    "res.set_yticklabels(res.get_ymajorticklabels(), fontsize = 10)\n",
    "plt.setp(res.get_legend().get_texts(), fontsize='10')\n",
    "plt.setp(res.get_legend().get_title(), fontsize='10')\n",
    "plt.xlabel(\"Genes\",fontsize=10)\n",
    "plt.ylabel(\"IRF1 methylation score\",fontsize=10)\n",
    "#plt.savefig('plots/PSMB8_9_10_meth_IRF1_plot.svg',bbox_inches = \"tight\",dpi=500)\n",
    "plt.show()"
   ]
  },
  {
   "cell_type": "code",
   "execution_count": null,
   "metadata": {},
   "outputs": [],
   "source": []
  },
  {
   "cell_type": "code",
   "execution_count": null,
   "metadata": {},
   "outputs": [],
   "source": []
  },
  {
   "cell_type": "code",
   "execution_count": null,
   "metadata": {},
   "outputs": [],
   "source": []
  }
 ],
 "metadata": {
  "kernelspec": {
   "display_name": "Python 3",
   "language": "python",
   "name": "python3"
  },
  "language_info": {
   "codemirror_mode": {
    "name": "ipython",
    "version": 3
   },
   "file_extension": ".py",
   "mimetype": "text/x-python",
   "name": "python",
   "nbconvert_exporter": "python",
   "pygments_lexer": "ipython3",
   "version": "3.6.8"
  }
 },
 "nbformat": 4,
 "nbformat_minor": 2
}
