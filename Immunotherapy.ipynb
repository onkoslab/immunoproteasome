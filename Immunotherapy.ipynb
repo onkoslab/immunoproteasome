{
 "cells": [
  {
   "cell_type": "markdown",
   "id": "cf551f58-e97c-4c16-8ed6-db4deb0e1c17",
   "metadata": {},
   "source": [
    "## Immunotherapy data processing and figure 5. "
   ]
  },
  {
   "cell_type": "code",
   "execution_count": 149,
   "id": "eb4198e3-6c95-439a-915d-b49dd9d94a2b",
   "metadata": {},
   "outputs": [],
   "source": [
    "%matplotlib inline"
   ]
  },
  {
   "cell_type": "code",
   "execution_count": 80,
   "id": "2fef9c45",
   "metadata": {
    "tags": []
   },
   "outputs": [],
   "source": [
    "import numpy as np\n",
    "import math\n",
    "import seaborn as sns\n",
    "import  statsmodels.stats.multitest\n",
    "import pandas as pd\n",
    "import matplotlib.pyplot as plt\n",
    "import scipy\n",
    "from statannot import add_stat_annotation\n",
    "from scipy import stats\n",
    "from adjustText import adjust_text\n",
    "from sklearn.preprocessing import StandardScaler"
   ]
  },
  {
   "cell_type": "code",
   "execution_count": 81,
   "id": "4101b664",
   "metadata": {},
   "outputs": [],
   "source": [
    "## single sample gsva score calculator for python https://github.com/DavisLaboratory/PySingscore\n",
    "from importlib.machinery import SourceFileLoader\n",
    "singscore = SourceFileLoader(\"singscore\", \"path/to/singscore/\").load_module()\n",
    "from singscore.singscore import *"
   ]
  },
  {
   "cell_type": "code",
   "execution_count": 82,
   "id": "4cd1e65d",
   "metadata": {},
   "outputs": [],
   "source": [
    "## file path to data\n",
    "res=\"data/Immunotherapy/\""
   ]
  },
  {
   "cell_type": "markdown",
   "id": "8fe718c1-d6e4-48a8-9131-8957f79fb06b",
   "metadata": {},
   "source": [
    "## Functions"
   ]
  },
  {
   "cell_type": "code",
   "execution_count": 83,
   "id": "469d42b5-27c7-4246-9f02-dc431ac9eac4",
   "metadata": {},
   "outputs": [],
   "source": [
    "def gsva(df,study):\n",
    "    \n",
    "    if True in  set(np.array(df.index.str.contains('PSMB'))):\n",
    "        df= df\n",
    "    else:\n",
    "        df=df.T\n",
    "        \n",
    "    ##Genes for different GSVA score category\n",
    "    B_cells=['ABCB4','BACH2','BCL11A','BLK','BLNK','CCR9','CD19','CD72','COCH','CR2','DTNB','FCRL2','GLDC','GNG7','HLA-DOB','HLA-DQA1','IGHA1','IGHG1','IGHM','IGKC','IGLC6','FAM30A','MEF2C','MICAL3','MS4A1','OSBPL10','PNOC','QRSL1','SCN3A','SLC15A2','SPIB','TCL1A','TNFRSF17']\n",
    "    Eosinophils=['ABHD2','ACACB','TRMO','CAT','CCR3','CLC','CYSLTR2','ADGRE1','EPN2','GALC','PTGDR2','HES1','HIST1H1C','HRH4','CD101','IL5RA','KBTBD11','KCNH2','LRP5L','MYO15B','RCOR3','RNASE2','RRP12','SIAH1','SMPD3','SYNJ1','TGIF1','THBS1','THBS4','TIPARP','TKTL1']\n",
    "    Macrophages=['APOE','ATG7','BCAT1','CCL7','CD163','CD68','CD84','CHI3L1','CHIT1','CLEC5A','COL8A2','COLEC12','CTSK','CXCL5','CYBB','DNASE2B','EMP1','FDX1','FN1','GM2A','GPC4','ANOS1','MARCO','ME1','MS4A4A','MSR1','PCOLCE2','PTGDS','RAI14','SCARB2','SCG5','SGMS1','SULT1C2']\n",
    "    Mast_cells=['ABCC4','ADCYAP1','CALB2','CEACAM8','CMA1','CPA3','CTSG','ELANE','GATA2','HDC','HPGD','HPGDS','KIT','LINC01140','MAOB','MLPH','MPO','MS4A2','NR0B1','PPM1H','PRG2','PTGS1','SCG2','SIGLEC6','SLC18A2','SLC24A3','TAL1','TPSAB1','TPSB2','VWA5A']\n",
    "    NK_CD56bright=['DUSP4','FOXJ1','LPCAT4','MADD','MARCH6','MPPED1','MUC3B','TRAPPC9','PLA2G6','RRAD','XCL1']\n",
    "    NK_CD56dim= ['S1PR5','TTC38','GTF3C1','GZMB','IL21R','KIR2DL3','KIR2DS1','KIR2DS2','KIR2DS5','KIR3DL1','KIR3DL2','KIR3DL3','KIR3DS1','SPON2','PMEPA1']\n",
    "    Neutrophils=['ALPL','BST1','CD93','CEACAM3','CREB5','CRISPLD2','CSF3R','CYP4F3','DYSF','FCAR','FCGR3B','CPPED1','FPR1','FPR2','G0S2','HIST1H2BC','HPSE','CXCR1','CXCR2','KCNJ15','LILRB2','MGAM','MME','PDE4B','S100A12','SIGLEC5','SLC22A4','SLC25A37','TECPR2','TNFRSF10C','VNN3']\n",
    "    T_helper = ['ANP32B','ASF1A','ATF2','BATF','BORA','CD28','DDX50','FAM111A','FRYL','GOLGA8A','ICOS','ITM2A','LRBA','NAP1L4','NUP107','PHF10','PPP2R5C','RPA1','SEC24C','SLC25A12','SRSF10','TRA','UBE2L3','YME1L1']\n",
    "    Tem = ['AKT3','SND1-IT1','CCR2','DDX17','EWSR1','FLI1','GDPD5','LTK','MEFV','NFATC4','PRKY','TBC1D5','TBCD','TRA','EZR']\n",
    "    Tfh = ['B3GAT1','CXCR5','LDLRAD4','CDK5R1','CHGB','CHI3L2','CXCL13','HEY1','HIST1H4K','ICA1','KCNK5','KIAA1324','MAF','MAGEH1','MKL2','MYO6','MYO7A','PASK','PDCD1','POMT1','PTPN13','PVALB','SH3TC1','SIRPG','SLC7A10','SMAD1','ST8SIA1','STK39','THADA','TOX','TSHR','ZNF764']\n",
    "    aDC=['CCL1','EBI3','IDO1','LAMP3','OAS3']\n",
    "    iDC=['ABCG2','BLVRB','CARD9','CD1A','CD1B','CD1C','CD1E','CH25H','CLEC10A','CSF1R','CTNS','F13A1','FABP4','FZD2','GSTT1','GUCA1A','HS3ST2','LMAN2L','MMP12','MS4A6A','NUDT9','PDXK','PPARG','PREP','RAP1GAP','SLC26A6','SLC7A8','SYT17','TACSTD2','DCSTAMP','VASH1']\n",
    "    Activated_CD8_T= ['ADRM1','AHSA1','C1GALT1C1','CCT6B','CD37','CD3D','CD3E','CD3G','CD69','CD8A','CETN3','CSE1L','GEMIN6','GNLY','GPT2','GZMA','GZMH','GZMK','IL2RB','LCK','MPZL1','NKG7','PIK3IP1','PTRH2','TIMM13','ZAP70']\n",
    "    Gamma_delta_T  =['ACP5','AQP9','BTN3A2','C1orf54','CARD8','CCL18','CD209','CD33','CD36','CDK5','IL10RB','KLRF1','LGALS1','MAPK7','KLHL7','KRT80','LAMC1','LCORL','LMNB1','MEIS3P1','MPL','FABP1','FABP5','FADD','MFAP3L','MINPP1','RPS24','RPS7','RPS9','DBNL','CCL13']\n",
    "    Regulatory_T= ['CCL3L1','CD72','CLEC5A','FOXP3','ITGA4','L1CAM','LIPA','LRP1','LRRC42','MARCO','MMP12','MNDA','MRC1','MS4A6A','PELO','PLEK','PRSS23','PTGIR','ST8SIA4','STAB1']\n",
    "    Tcm = ['AQP3','ATF7IP','ATM','CASP8','CDC14A','CEP68','CLUAP1','CREBZF','CYLD','DOCK9','FAM153B','FOXP1','FYB1','HNRNPH1','INPP4B','KLF12','MAP3K1','KMT2A','N4BP2L2-IT2','NEFL','NFATC3','PCM1','PCNX1','PDXDC2P','PHC3','PSPC1','REPS1','RPP38','SLC7A6','SNRPN','ST3GAL1','STX16','TIMM8A','TRAF3IP3','TXK','TXLNGY','USP9Y']\n",
    "    Cytotox=['APBA2','APOL3','CTSW','DUSP2','GNLY','GZMA','GZMH','KLRB1','KLRD1','KLRF1','KLRK1','NKG7','RORA','RUNX3','SIGIRR','WHAMMP3','ZBTB16']\n",
    "    Exhausted=[\"LAG3\", \"HAVCR2\", \"PDCD1\"]\n",
    "    EMT=['CDH1','DSP','TJP1','VIM','CDH2','FOXC2','SNAI1','SNAI2','TWIST1','GSC','FN1','ITBG6','MMP2','MMP3','MMP9','SOX10']\n",
    "\n",
    "    ###Features\n",
    "    features=['B_cells','Eosinophils','Macrophages','Mast_cells','NK_CD56bright','NK_CD56dim','Neutrophils','T_helper','Tem','Tfh','aDC','iDC','Activated_CD8_T','Gamma_delta_T','Regulatory_T','Tcm','Cytotox','Exhausted','EMT']\n",
    "    \n",
    "    ## Calculating gsva for cells\n",
    "    for cl in features:\n",
    "        df.loc[cl,]=score(up_gene=eval(cl),sample=df,norm_method='standard')['total_score']\n",
    "    \n",
    "    df.index.name='Gene'\n",
    "    df.loc[features,].to_csv(F\"data/Immunotherapy/GSVA/{study}.csv\")\n",
    "    \n",
    "    return df"
   ]
  },
  {
   "cell_type": "code",
   "execution_count": 84,
   "id": "97225e58-c5c4-402c-bce1-ad1c1c1c8b53",
   "metadata": {},
   "outputs": [],
   "source": [
    "def avg(df,res,name):\n",
    "    features=['B_cells','Eosinophils','Macrophages','Mast_cells','NK_CD56bright','NK_CD56dim','Neutrophils','T_helper','Tem','Tfh','aDC','iDC','Activated_CD8_T','Gamma_delta_T','Regulatory_T','Tcm','Cytotox','Exhausted','EMT']\n",
    "    if True in  set(np.array(df.index.str.contains('PSMB'))):\n",
    "        df= df.T\n",
    "    \n",
    "    tst=pd.DataFrame(index=df.index)\n",
    "    tst['Immunoproteasome']=(1/3)*(np.log2(df[\"PSMB8\"]+1)+np.log2(df[\"PSMB9\"]+1)+np.log2(df[\"PSMB10\"]+1))\n",
    "    tst['Const_proteasome']=(1/3)*(np.log2(df[\"PSMB5\"]+1)+np.log2(df[\"PSMB6\"]+1)+np.log2(df[\"PSMB7\"]+1))\n",
    "    for cl in features:\n",
    "        tst[cl]=df[cl]\n",
    "    tst['clust']=1\n",
    "    tst['clust'][tst.index.isin(res)]=0\n",
    "    tst['name']=\"Responders\"\n",
    "    tst['name'][tst['clust']==1]='Non-Responders'\n",
    "    tst['study']=name\n",
    "    \n",
    "    return tst"
   ]
  },
  {
   "cell_type": "code",
   "execution_count": 85,
   "id": "7e2c2fa9-7ca0-434e-9dab-73e66f1d3203",
   "metadata": {},
   "outputs": [],
   "source": [
    "def plot_median_score(tst):\n",
    "    name=tst['study'].unique()\n",
    "    med=tst.groupby('name').median().T[2:-1]\n",
    "    for ff in med.index:\n",
    "        x=np.array(tst[ff][tst['name']=='Responders'])\n",
    "        y=np.array(tst[ff][tst['name']!='Responders'])\n",
    "        s,p=scipy.stats.mannwhitneyu(x, y)\n",
    "        med.loc[ff,'p-value']=p\n",
    "    med=med.sort_values('p-value')\n",
    "    med['label']=med.index\n",
    "    fig, ax = plt.subplots(figsize=(8, 8))\n",
    "    g=sns.scatterplot(x=\"Non-Responders\", y=\"Responders\",data=med ,alpha=1,linewidth=0,palette='flare',hue=-np.log10(med[\"p-value\"]),ax=ax)\n",
    "    ax.set(xlim=(med[['Non-Responders', 'Responders']].min().min()-0.02, med[['Non-Responders', 'Responders']].max().max()+0.02))\n",
    "    ax.set(ylim=(med[['Non-Responders', 'Responders']].min().min()-0.02, med[['Non-Responders', 'Responders']].max().max()+0.02))\n",
    "    plt.plot([med[['Non-Responders', 'Responders']].min().min()-0.02, med[['Non-Responders', 'Responders']].max().max()+0.02], [med[['Non-Responders', 'Responders']].min().min()-0.02, med[['Non-Responders', 'Responders']].max().max()+0.02], linewidth=1,color='black',alpha=0.5,linestyle=\"dashed\")\n",
    "    norm = plt.Normalize(vmin=med['p-value'].min(), vmax=med['p-value'].max())\n",
    "    sm = plt.cm.ScalarMappable(cmap=\"flare\", norm=norm)\n",
    "    sm.set_array([])\n",
    "    ax.figure.colorbar(sm,shrink=1,aspect=30,orientation='horizontal',label='-log10(p-value)')\n",
    "    text=[]\n",
    "    for (x,y,label) in np.array(med[['Non-Responders', 'Responders', 'label']][:5]):\n",
    "        text.append(plt.text(x,y,label,zorder=8,size=8))\n",
    "    adjust_text(text, arrowprops=dict(arrowstyle='->', color='red',lw=0.5))\n",
    "    ax.get_legend().remove()\n",
    "    ax.set_title(F\"Immune Signature in {name}\")\n",
    "    #plt.savefig(\"Melanoma_pd_sig.png\",bbox_inches='tight',format=\"svg\")\n",
    "    plt.show()"
   ]
  },
  {
   "cell_type": "markdown",
   "id": "13682f1d",
   "metadata": {},
   "source": [
    "## Immunothrapy studies"
   ]
  },
  {
   "cell_type": "code",
   "execution_count": 86,
   "id": "bd8c03e2-497d-4a42-a93e-a1a7153761b9",
   "metadata": {},
   "outputs": [],
   "source": [
    "##combine studies\n",
    "ips=[]"
   ]
  },
  {
   "cell_type": "markdown",
   "id": "6681e2d5",
   "metadata": {
    "tags": []
   },
   "source": [
    "### PD-1 on melanoma \n",
    "pembrolizumab"
   ]
  },
  {
   "cell_type": "code",
   "execution_count": 87,
   "id": "ddde9d9c",
   "metadata": {},
   "outputs": [
    {
     "name": "stderr",
     "output_type": "stream",
     "text": [
      "/home/sabari/dbhavya/miniconda3/envs/single-cell/lib/python3.7/site-packages/ipykernel_launcher.py:2: FutureWarning: The default value of regex will change from True to False in a future version.\n",
      "  \n",
      "/home/sabari/dbhavya/miniconda3/envs/single-cell/lib/python3.7/site-packages/ipykernel_launcher.py:3: FutureWarning: The default value of regex will change from True to False in a future version.\n",
      "  This is separate from the ipykernel package so we can avoid doing imports until\n"
     ]
    }
   ],
   "source": [
    "st1= pd.read_csv(res+\"mel_ucla_2016/FPKM.tsv\", sep='\\t',index_col=0)\n",
    "st1.columns=st1.columns.str.replace('.baseline','')\n",
    "st1.columns=st1.columns.str.replace('.OnTx','')\n",
    "##low qualtiy sample\n",
    "st1.drop(['Pt27B','Pt27A'],axis=1,inplace=True)"
   ]
  },
  {
   "cell_type": "code",
   "execution_count": 88,
   "id": "b1c0ed60",
   "metadata": {},
   "outputs": [],
   "source": [
    "### clinical information\n",
    "meta1=pd.read_csv(res+'mel_ucla_2016/data_clinical_patient.txt',sep='\\t',index_col=0,skiprows=4)\n",
    "meta1=meta1[meta1.index.isin(st1.columns)]\n",
    "meta2=pd.read_csv(res+'mel_ucla_2016/data_clinical_sample.txt',sep='\\t',index_col=0,skiprows=4)\n",
    "meta2=meta2[meta2.index.isin(st1.columns)]"
   ]
  },
  {
   "cell_type": "code",
   "execution_count": 89,
   "id": "2bf52612-719b-4b96-9ff2-03f3f5f49548",
   "metadata": {},
   "outputs": [],
   "source": [
    "st1=gsva(st1,\"Melanoma_pd\")"
   ]
  },
  {
   "cell_type": "code",
   "execution_count": 90,
   "id": "85bcc143-827b-46f9-89af-07e39c9eacd7",
   "metadata": {},
   "outputs": [
    {
     "name": "stderr",
     "output_type": "stream",
     "text": [
      "/home/sabari/dbhavya/miniconda3/envs/single-cell/lib/python3.7/site-packages/ipykernel_launcher.py:12: SettingWithCopyWarning: \n",
      "A value is trying to be set on a copy of a slice from a DataFrame\n",
      "\n",
      "See the caveats in the documentation: https://pandas.pydata.org/pandas-docs/stable/user_guide/indexing.html#returning-a-view-versus-a-copy\n",
      "  if sys.path[0] == '':\n",
      "/home/sabari/dbhavya/miniconda3/envs/single-cell/lib/python3.7/site-packages/ipykernel_launcher.py:14: SettingWithCopyWarning: \n",
      "A value is trying to be set on a copy of a slice from a DataFrame\n",
      "\n",
      "See the caveats in the documentation: https://pandas.pydata.org/pandas-docs/stable/user_guide/indexing.html#returning-a-view-versus-a-copy\n",
      "  \n"
     ]
    }
   ],
   "source": [
    "###IP average expression\n",
    "rs=meta2[meta2['TREATMENT_RESPONSE']!='Non-responder'].index ##responders\n",
    "sc=avg(st1,rs,\"Melanoma (pembrolizumab)\")"
   ]
  },
  {
   "cell_type": "code",
   "execution_count": 91,
   "id": "8d875035-c072-45ae-be1d-1d7650cba0be",
   "metadata": {},
   "outputs": [],
   "source": [
    "plot_median_score(sc)"
   ]
  },
  {
   "cell_type": "code",
   "execution_count": 92,
   "id": "bd790b32-5568-41b3-93bc-25244839ba13",
   "metadata": {},
   "outputs": [],
   "source": [
    "ips.append(sc[['Immunoproteasome','Const_proteasome', 'clust','name', 'study','EMT']])"
   ]
  },
  {
   "cell_type": "markdown",
   "id": "7a908fce",
   "metadata": {},
   "source": [
    "### CTAL-4 on melanoma "
   ]
  },
  {
   "cell_type": "code",
   "execution_count": 93,
   "id": "e7830d18",
   "metadata": {},
   "outputs": [],
   "source": [
    "st2= pd.read_csv(res+\"skcm_dfci_2015/data_RNA_Seq_expression_median.txt\", sep='\\t',index_col=0)\n",
    "gn=pd.read_csv(res+\"../genes_symbolz.tsv\",sep='\\t')\n",
    "gn.columns=['Entrez_Gene_Id','symbol']\n",
    "st2=pd.merge(gn,st2,on='Entrez_Gene_Id',how='right')\n",
    "st2.dropna(inplace=True)\n",
    "st2.index=st2.symbol\n",
    "st2.drop(['Entrez_Gene_Id','symbol'],axis=1,inplace=True)\n",
    "### clinical information\n",
    "meta1=pd.read_csv(res+'/skcm_dfci_2015//data_clinical_patient.txt',sep='\\t',index_col=0,skiprows=4)\n",
    "meta1=meta1[meta1.index.isin(st2.columns)]\n",
    "meta2=pd.read_csv(res+'/skcm_dfci_2015/data_clinical_sample.txt',sep='\\t',index_col=0,skiprows=4)\n",
    "meta2=meta2[meta2.index.isin(st2.columns)]"
   ]
  },
  {
   "cell_type": "code",
   "execution_count": 94,
   "id": "264ec969",
   "metadata": {
    "scrolled": true
   },
   "outputs": [
    {
     "name": "stderr",
     "output_type": "stream",
     "text": [
      "/home/sabari/dbhavya/miniconda3/envs/single-cell/lib/python3.7/site-packages/ipykernel_launcher.py:7: SettingWithCopyWarning: \n",
      "A value is trying to be set on a copy of a slice from a DataFrame\n",
      "\n",
      "See the caveats in the documentation: https://pandas.pydata.org/pandas-docs/stable/user_guide/indexing.html#returning-a-view-versus-a-copy\n",
      "  import sys\n"
     ]
    }
   ],
   "source": [
    "##Selecting only responders and non-responders\n",
    "st2=st2.T\n",
    "sts=['response','nonresponse','response','nonresponse','nonresponse','nonresponse','nonresponse','long-survival','nonresponse','nonresponse','nonresponse','long-survival','long-survival','response','nonresponse','nonresponse','nonresponse','response','response','nonresponse','nonresponse','nonresponse','nonresponse','nonresponse','nonresponse','response','response','nonresponse','response','response','nonresponse','long-survival','nonresponse','nonresponse','response','response','response','nonresponse','nonresponse','long-survival','response','response']\n",
    "pt=['Pat02','Pat03','Pat04','Pat06','Pat08','Pat14','Pat15','Pat16','Pat19','Pat20','Pat25','Pat27','Pat28','Pat29','Pat33','Pat36','Pat37','Pat38','Pat39','Pat40','Pat41','Pat43','Pat44','Pat45','Pat46','Pat47','Pat49','Pat50','Pat79','Pat80','Pat81','Pat83','Pat85','Pat86','Pat88','Pat90','Pat91','Pat98','Pat118','Pat119','Pat123','Pat126']\n",
    "meta1[\"res\"]=''\n",
    "for i,j in zip(sts,pt):\n",
    "    meta1['res'][meta1.index.isin([j])]=i\n",
    "    \n",
    "non=meta1[meta1['res']=='nonresponse'].index\n",
    "rs=meta1[meta1['res']=='response'].index\n",
    "l=meta1[meta1['res']=='long-survival'].index\n",
    "\n",
    "st2.drop(l,inplace=True)\n",
    "st2=st2[st2.index.isin(pt)]"
   ]
  },
  {
   "cell_type": "code",
   "execution_count": 95,
   "id": "52f71238",
   "metadata": {},
   "outputs": [],
   "source": [
    "st2=gsva(st2,\"Melanoma_ct\")"
   ]
  },
  {
   "cell_type": "code",
   "execution_count": 96,
   "id": "94387b82-c833-4ab1-b5bb-f3921d76a2f0",
   "metadata": {},
   "outputs": [
    {
     "name": "stderr",
     "output_type": "stream",
     "text": [
      "/home/sabari/dbhavya/miniconda3/envs/single-cell/lib/python3.7/site-packages/ipykernel_launcher.py:12: SettingWithCopyWarning: \n",
      "A value is trying to be set on a copy of a slice from a DataFrame\n",
      "\n",
      "See the caveats in the documentation: https://pandas.pydata.org/pandas-docs/stable/user_guide/indexing.html#returning-a-view-versus-a-copy\n",
      "  if sys.path[0] == '':\n",
      "/home/sabari/dbhavya/miniconda3/envs/single-cell/lib/python3.7/site-packages/ipykernel_launcher.py:14: SettingWithCopyWarning: \n",
      "A value is trying to be set on a copy of a slice from a DataFrame\n",
      "\n",
      "See the caveats in the documentation: https://pandas.pydata.org/pandas-docs/stable/user_guide/indexing.html#returning-a-view-versus-a-copy\n",
      "  \n"
     ]
    }
   ],
   "source": [
    "###IP average expression\n",
    "sc=avg(st2,rs,\"Melanoma (ipilimumab)\")"
   ]
  },
  {
   "cell_type": "code",
   "execution_count": 97,
   "id": "baebdbde-2ae9-4575-8def-fa20bca22a80",
   "metadata": {},
   "outputs": [],
   "source": [
    "plot_median_score(sc)"
   ]
  },
  {
   "cell_type": "code",
   "execution_count": 98,
   "id": "2f54a417-cab5-4e0c-bf4a-ffe68ada4b25",
   "metadata": {},
   "outputs": [],
   "source": [
    "ips.append(sc[['Immunoproteasome', 'Const_proteasome','clust','name', 'study','EMT']])"
   ]
  },
  {
   "cell_type": "markdown",
   "id": "a1b31411",
   "metadata": {},
   "source": [
    "### PD-1   oral cavity cancer \n",
    "treatment used\n",
    "\n",
    "\"Here, using longitudinal blood and tumor tissues obtained from 12 individuals with newly diagnosed, locally invasive OCSCC who were treated with neoadjuvant anti-PD-1 therapy\"\n",
    "https://www.sciencedirect.com/science/article/pii/S266637912100269X#appsec2"
   ]
  },
  {
   "cell_type": "code",
   "execution_count": 99,
   "id": "b8d3d5b4",
   "metadata": {},
   "outputs": [],
   "source": [
    "st4= pd.read_csv(res+\"OCSC/GSE179730_RNAseq-combinedCPM.txt.gz\", sep='\\t',index_col=0)\n",
    "## Calculating gsva for cells\n",
    "st4=st4.T\n",
    "st4_pre=st4[st4.index.str.contains('Pre')] ##selecting pre treatment only"
   ]
  },
  {
   "cell_type": "code",
   "execution_count": 100,
   "id": "c318a86d",
   "metadata": {},
   "outputs": [],
   "source": [
    "meta1=pd.read_csv(res+\"OCSC/clinical.tsv\",sep='\\t',index_col=0)\n",
    "meta1=meta1[meta1.index.str.contains('Pre')]\n",
    "st4_pre.index=st4_pre.index.str.slice(0,-4)\n",
    "meta1.index=meta1.index.str.slice(0,-4)\n",
    "meta1=meta1[meta1['Response']!='Stable']\n",
    "rs=meta1[meta1['Response']=='Responder'].index"
   ]
  },
  {
   "cell_type": "code",
   "execution_count": 101,
   "id": "dca4c5c8",
   "metadata": {},
   "outputs": [],
   "source": [
    "st4_pre=gsva(st4_pre,\"Oral_pd\")"
   ]
  },
  {
   "cell_type": "code",
   "execution_count": 102,
   "id": "d82a36e5",
   "metadata": {
    "scrolled": true,
    "tags": []
   },
   "outputs": [
    {
     "name": "stderr",
     "output_type": "stream",
     "text": [
      "/home/sabari/dbhavya/miniconda3/envs/single-cell/lib/python3.7/site-packages/ipykernel_launcher.py:12: SettingWithCopyWarning: \n",
      "A value is trying to be set on a copy of a slice from a DataFrame\n",
      "\n",
      "See the caveats in the documentation: https://pandas.pydata.org/pandas-docs/stable/user_guide/indexing.html#returning-a-view-versus-a-copy\n",
      "  if sys.path[0] == '':\n",
      "/home/sabari/dbhavya/miniconda3/envs/single-cell/lib/python3.7/site-packages/ipykernel_launcher.py:14: SettingWithCopyWarning: \n",
      "A value is trying to be set on a copy of a slice from a DataFrame\n",
      "\n",
      "See the caveats in the documentation: https://pandas.pydata.org/pandas-docs/stable/user_guide/indexing.html#returning-a-view-versus-a-copy\n",
      "  \n"
     ]
    }
   ],
   "source": [
    "###IP average expression\n",
    "sc=avg(st4_pre,rs,\"Oral (nivolumab)\")"
   ]
  },
  {
   "cell_type": "code",
   "execution_count": 103,
   "id": "68a2cfcf-cbe4-4a0f-9e0f-a2790c4b1d4d",
   "metadata": {},
   "outputs": [],
   "source": [
    "plot_median_score(sc)"
   ]
  },
  {
   "cell_type": "code",
   "execution_count": 104,
   "id": "c6dcd4c3-210c-4eb7-97e9-730f26742c88",
   "metadata": {},
   "outputs": [],
   "source": [
    "ips.append(sc[['Immunoproteasome', 'Const_proteasome','clust','name', 'study','EMT']])"
   ]
  },
  {
   "cell_type": "markdown",
   "id": "fad25e4f",
   "metadata": {},
   "source": [
    "### PD-1   non small lung\n",
    "https://www.ncbi.nlm.nih.gov/pmc/articles/PMC6971301/"
   ]
  },
  {
   "cell_type": "code",
   "execution_count": 105,
   "id": "1121d6f6-b9f2-4cda-b60a-180799e6989e",
   "metadata": {},
   "outputs": [],
   "source": [
    "st5=pd.read_csv(res+\"GSE126044/RNA_Counts_CPM.tsv\",index_col=0)\n",
    "### clinical information\n",
    "meta=pd.read_csv(res+\"GSE126044/meta.tsv\",index_col=0,sep='\\t')\n",
    "rs=meta[meta['Responsiveness']=='Responder'].index"
   ]
  },
  {
   "cell_type": "code",
   "execution_count": 106,
   "id": "3df3ac0c-3284-4e52-97b8-c35413da6377",
   "metadata": {},
   "outputs": [],
   "source": [
    "st5=gsva(st5,\"lung_pd\")"
   ]
  },
  {
   "cell_type": "code",
   "execution_count": 107,
   "id": "6c14cfa8-abdc-4dcf-beb7-2c0118479f79",
   "metadata": {},
   "outputs": [
    {
     "name": "stderr",
     "output_type": "stream",
     "text": [
      "/home/sabari/dbhavya/miniconda3/envs/single-cell/lib/python3.7/site-packages/ipykernel_launcher.py:12: SettingWithCopyWarning: \n",
      "A value is trying to be set on a copy of a slice from a DataFrame\n",
      "\n",
      "See the caveats in the documentation: https://pandas.pydata.org/pandas-docs/stable/user_guide/indexing.html#returning-a-view-versus-a-copy\n",
      "  if sys.path[0] == '':\n",
      "/home/sabari/dbhavya/miniconda3/envs/single-cell/lib/python3.7/site-packages/ipykernel_launcher.py:14: SettingWithCopyWarning: \n",
      "A value is trying to be set on a copy of a slice from a DataFrame\n",
      "\n",
      "See the caveats in the documentation: https://pandas.pydata.org/pandas-docs/stable/user_guide/indexing.html#returning-a-view-versus-a-copy\n",
      "  \n"
     ]
    }
   ],
   "source": [
    "###IP average expression\n",
    "sc=avg(st5,rs,\"NSCLC (nivolumab)\")"
   ]
  },
  {
   "cell_type": "code",
   "execution_count": 108,
   "id": "3609587f-28b3-4dca-9194-8c700f86d416",
   "metadata": {},
   "outputs": [],
   "source": [
    "plot_median_score(sc)"
   ]
  },
  {
   "cell_type": "code",
   "execution_count": 109,
   "id": "a1a62600-f288-490e-b1e7-dc43e5c3551b",
   "metadata": {},
   "outputs": [],
   "source": [
    "ips.append(sc[['Immunoproteasome','Const_proteasome','clust', 'name', 'study','EMT']])"
   ]
  },
  {
   "cell_type": "markdown",
   "id": "50d31d62",
   "metadata": {},
   "source": [
    "### PD-1   renal cancer\n",
    "https://www.ncbi.nlm.nih.gov/pmc/articles/PMC5584610/"
   ]
  },
  {
   "cell_type": "code",
   "execution_count": 110,
   "id": "b0d401c7",
   "metadata": {},
   "outputs": [],
   "source": [
    "st6=pd.read_csv(res+\"renal/GSE67501_Non-normalized_data.txt.gz\", sep='\\t',index_col=0)\n",
    "st6=st6.T[st6.T.index.str.contains('RCC')]\n",
    "##official gene symbols\n",
    "chs=pd.read_csv(res+\"HumanHT-12_V4_0_R2_15002873_B.txt\",skiprows=101,sep='\\t',header=None)\n",
    "chs=chs.drop_duplicates([4],keep='first')\n",
    "rename=pd.Series(chs[4][chs[13].isin(st6.columns)].values,index=chs[13][chs[13].isin(st6.columns)]).to_dict()\n",
    "st6=st6.rename(columns=rename)\n",
    "#st6=st6.loc[:,~st6.columns.duplicated()]"
   ]
  },
  {
   "cell_type": "code",
   "execution_count": 111,
   "id": "c0aa9fc0",
   "metadata": {},
   "outputs": [],
   "source": [
    "### clinical information\n",
    "meta1=pd.read_csv(res+\"renal/clinical.tsv\", sep='\\t',index_col=0)\n",
    "meta1.index=['RCC-1', 'RCC-2 ', 'RCC-3', 'RCC-4', 'RCC-5 ', 'RCC-6 ', 'RCC-7 ',\n",
    "       'RCC-8 ', 'RCC-9', 'RCC-10', 'RCC-11', 'RCC-12 ', 'RCC-13']\n",
    "rs=['RCC-1', 'RCC-3', 'RCC-7', 'RCC-8']"
   ]
  },
  {
   "cell_type": "code",
   "execution_count": 112,
   "id": "82735f26-ead8-45fa-b384-68b4eae1adcb",
   "metadata": {},
   "outputs": [],
   "source": [
    "st6=gsva(st6,\"renal_pd\")"
   ]
  },
  {
   "cell_type": "code",
   "execution_count": 113,
   "id": "b50757c2-8718-4a92-bd0f-e9392129909b",
   "metadata": {},
   "outputs": [
    {
     "name": "stderr",
     "output_type": "stream",
     "text": [
      "/home/sabari/dbhavya/miniconda3/envs/single-cell/lib/python3.7/site-packages/ipykernel_launcher.py:12: SettingWithCopyWarning: \n",
      "A value is trying to be set on a copy of a slice from a DataFrame\n",
      "\n",
      "See the caveats in the documentation: https://pandas.pydata.org/pandas-docs/stable/user_guide/indexing.html#returning-a-view-versus-a-copy\n",
      "  if sys.path[0] == '':\n",
      "/home/sabari/dbhavya/miniconda3/envs/single-cell/lib/python3.7/site-packages/ipykernel_launcher.py:14: SettingWithCopyWarning: \n",
      "A value is trying to be set on a copy of a slice from a DataFrame\n",
      "\n",
      "See the caveats in the documentation: https://pandas.pydata.org/pandas-docs/stable/user_guide/indexing.html#returning-a-view-versus-a-copy\n",
      "  \n"
     ]
    }
   ],
   "source": [
    "###IP average expression\n",
    "sc=avg(st6,rs,\"Renal (nivolumab)\")"
   ]
  },
  {
   "cell_type": "code",
   "execution_count": 114,
   "id": "cc8d4cfc-d661-486d-adf5-018cf87aaeec",
   "metadata": {},
   "outputs": [],
   "source": [
    "plot_median_score(sc)"
   ]
  },
  {
   "cell_type": "code",
   "execution_count": 115,
   "id": "70779dd0-9e0e-420e-880c-aeb5b894e87b",
   "metadata": {},
   "outputs": [],
   "source": [
    "ips.append(sc[['Immunoproteasome', 'Const_proteasome','clust','name', 'study','EMT']])"
   ]
  },
  {
   "cell_type": "markdown",
   "id": "828a685d-6eb3-4b17-8cfd-4e4f0d2cb480",
   "metadata": {},
   "source": [
    "### PD-1 Eso-gastric cancer"
   ]
  },
  {
   "cell_type": "code",
   "execution_count": 116,
   "id": "c1e4cdb2-24c5-4c39-8c06-527efa9e5048",
   "metadata": {},
   "outputs": [],
   "source": [
    "st7=pd.read_csv(res+\"GSE183924/GSE183924_FPKM.txt.gz\", sep='\\t',index_col=0)\n",
    "### clinical information\n",
    "meta1=pd.read_csv(res+\"GSE183924/metadata.tsv\", sep='\\t',index_col=0)\n",
    "rs=meta1['RNA-Seq ID'][meta1['Relapse']=='No']"
   ]
  },
  {
   "cell_type": "code",
   "execution_count": 117,
   "id": "b32744fa-b63d-48a0-8606-ed7ade903701",
   "metadata": {},
   "outputs": [],
   "source": [
    "st7=gsva(st7,\"Eso_pd\")"
   ]
  },
  {
   "cell_type": "code",
   "execution_count": 118,
   "id": "45c9c1e8-c640-414b-a718-e22947ad03b2",
   "metadata": {},
   "outputs": [
    {
     "name": "stderr",
     "output_type": "stream",
     "text": [
      "/home/sabari/dbhavya/miniconda3/envs/single-cell/lib/python3.7/site-packages/ipykernel_launcher.py:12: SettingWithCopyWarning: \n",
      "A value is trying to be set on a copy of a slice from a DataFrame\n",
      "\n",
      "See the caveats in the documentation: https://pandas.pydata.org/pandas-docs/stable/user_guide/indexing.html#returning-a-view-versus-a-copy\n",
      "  if sys.path[0] == '':\n",
      "/home/sabari/dbhavya/miniconda3/envs/single-cell/lib/python3.7/site-packages/ipykernel_launcher.py:14: SettingWithCopyWarning: \n",
      "A value is trying to be set on a copy of a slice from a DataFrame\n",
      "\n",
      "See the caveats in the documentation: https://pandas.pydata.org/pandas-docs/stable/user_guide/indexing.html#returning-a-view-versus-a-copy\n",
      "  \n"
     ]
    }
   ],
   "source": [
    "###IP average expression\n",
    "sc=avg(st7,rs,\"Eso-gastric (Durvalumab)\")"
   ]
  },
  {
   "cell_type": "code",
   "execution_count": 119,
   "id": "5cfa7acf-9acf-4791-a5a5-73a6ad4a01eb",
   "metadata": {},
   "outputs": [],
   "source": [
    "plot_median_score(sc)"
   ]
  },
  {
   "cell_type": "code",
   "execution_count": 120,
   "id": "c8b446d3-8939-4208-a73f-d394fe45edd0",
   "metadata": {},
   "outputs": [],
   "source": [
    "ips.append(sc[['Immunoproteasome','Const_proteasome', 'clust','name', 'study','EMT']])"
   ]
  },
  {
   "cell_type": "markdown",
   "id": "aca7d675-321d-496a-ad29-87080c82d986",
   "metadata": {},
   "source": [
    "### PD-L1 Thymus cancer"
   ]
  },
  {
   "cell_type": "code",
   "execution_count": 121,
   "id": "0661d8b1-7198-459b-8ab9-c48dd9bbe9de",
   "metadata": {},
   "outputs": [
    {
     "name": "stderr",
     "output_type": "stream",
     "text": [
      "/home/sabari/dbhavya/miniconda3/envs/single-cell/lib/python3.7/site-packages/ipykernel_launcher.py:5: FutureWarning: The default value of regex will change from True to False in a future version. In addition, single character regular expressions will *not* be treated as literal strings when regex=True.\n",
      "  \"\"\"\n"
     ]
    }
   ],
   "source": [
    "st8=pd.read_csv(res+'GSE181815/GSE181815_20180514_ThymusCa_countMatrix_anno.csv.gz',index_col=0)\n",
    "st8.index=st8['GeneSymbol']\n",
    "st8=st8[st8.columns[:-1]]\n",
    "st8.columns=st8.columns.str.slice(0,-14)\n",
    "st8.columns=st8.columns.str.replace('.','-')\n",
    "st8=st8[~st8.index.duplicated(keep='first')]\n",
    "### clinical information\n",
    "meta1=pd.read_csv(res+\"GSE181815/metadata.tsv\", sep='\\t',index_col=0)\n",
    "rs=meta1[meta1['characteristics: Response to pembrolizumab'].str.contains('Response')].index"
   ]
  },
  {
   "cell_type": "code",
   "execution_count": 122,
   "id": "715c925b-78e0-49d4-8923-48f1a5d1b005",
   "metadata": {},
   "outputs": [],
   "source": [
    "st8=gsva(st8,\"Thyme_pd\")"
   ]
  },
  {
   "cell_type": "code",
   "execution_count": 123,
   "id": "d6dc78d0-cb81-46b1-91d2-5553cc5290d4",
   "metadata": {},
   "outputs": [
    {
     "name": "stderr",
     "output_type": "stream",
     "text": [
      "/home/sabari/dbhavya/miniconda3/envs/single-cell/lib/python3.7/site-packages/ipykernel_launcher.py:12: SettingWithCopyWarning: \n",
      "A value is trying to be set on a copy of a slice from a DataFrame\n",
      "\n",
      "See the caveats in the documentation: https://pandas.pydata.org/pandas-docs/stable/user_guide/indexing.html#returning-a-view-versus-a-copy\n",
      "  if sys.path[0] == '':\n",
      "/home/sabari/dbhavya/miniconda3/envs/single-cell/lib/python3.7/site-packages/ipykernel_launcher.py:14: SettingWithCopyWarning: \n",
      "A value is trying to be set on a copy of a slice from a DataFrame\n",
      "\n",
      "See the caveats in the documentation: https://pandas.pydata.org/pandas-docs/stable/user_guide/indexing.html#returning-a-view-versus-a-copy\n",
      "  \n"
     ]
    }
   ],
   "source": [
    "###IP average expression\n",
    "sc=avg(st8,rs,\"Thyme (pembrolizumab)\")"
   ]
  },
  {
   "cell_type": "code",
   "execution_count": 124,
   "id": "e942885e-462b-4e57-9dff-ae618270a9fd",
   "metadata": {},
   "outputs": [],
   "source": [
    "plot_median_score(sc)"
   ]
  },
  {
   "cell_type": "code",
   "execution_count": 125,
   "id": "180a81bd-6b06-4650-b2a4-27ab173cd388",
   "metadata": {},
   "outputs": [],
   "source": [
    "ips.append(sc[['Immunoproteasome','Const_proteasome', 'clust','name', 'study','EMT']])"
   ]
  },
  {
   "cell_type": "markdown",
   "id": "c29c693a-88f3-4944-85f3-afe97df0d3a4",
   "metadata": {},
   "source": [
    "### PD-L1 Breast cancer"
   ]
  },
  {
   "cell_type": "code",
   "execution_count": 126,
   "id": "79cf5d73-0b20-4ffe-bc2a-e34268f1ed92",
   "metadata": {},
   "outputs": [],
   "source": [
    "st9=pd.read_csv(res+'Breast_21/Breast_sc_norm_immuno.csv',index_col=0)"
   ]
  },
  {
   "cell_type": "code",
   "execution_count": 127,
   "id": "35be2386-60ae-4973-8ced-3ae742373f98",
   "metadata": {},
   "outputs": [],
   "source": [
    "meta=pd.read_csv(res+\"Breast_21/Breast_sc_immuno_meta.csv\",index_col=0)\n",
    "meta=meta.dropna()\n",
    "meta.index=meta['patient_id']\n",
    "rs=meta[meta['expansion']=='E'].index\n",
    "st9=st9.loc[meta.index,].T"
   ]
  },
  {
   "cell_type": "code",
   "execution_count": 128,
   "id": "8cb5bfbb-ebee-4cdc-b4ab-9eda846ee439",
   "metadata": {},
   "outputs": [],
   "source": [
    "st9=gsva(st9,\"Breast_pd\")"
   ]
  },
  {
   "cell_type": "code",
   "execution_count": 129,
   "id": "dcbf5243-f309-4ad5-be4d-c151cbcf8d5a",
   "metadata": {},
   "outputs": [
    {
     "name": "stderr",
     "output_type": "stream",
     "text": [
      "/home/sabari/dbhavya/miniconda3/envs/single-cell/lib/python3.7/site-packages/ipykernel_launcher.py:12: SettingWithCopyWarning: \n",
      "A value is trying to be set on a copy of a slice from a DataFrame\n",
      "\n",
      "See the caveats in the documentation: https://pandas.pydata.org/pandas-docs/stable/user_guide/indexing.html#returning-a-view-versus-a-copy\n",
      "  if sys.path[0] == '':\n",
      "/home/sabari/dbhavya/miniconda3/envs/single-cell/lib/python3.7/site-packages/ipykernel_launcher.py:14: SettingWithCopyWarning: \n",
      "A value is trying to be set on a copy of a slice from a DataFrame\n",
      "\n",
      "See the caveats in the documentation: https://pandas.pydata.org/pandas-docs/stable/user_guide/indexing.html#returning-a-view-versus-a-copy\n",
      "  \n"
     ]
    }
   ],
   "source": [
    "###IP average expression\n",
    "sc=avg(st9,rs,\"Breast (pembrolizumab)\")"
   ]
  },
  {
   "cell_type": "code",
   "execution_count": 130,
   "id": "135610c3-7003-49bd-a092-eee15601d4b0",
   "metadata": {},
   "outputs": [],
   "source": [
    "plot_median_score(sc)"
   ]
  },
  {
   "cell_type": "code",
   "execution_count": 131,
   "id": "844dc8b3-ff30-4e51-92c9-92ae4e9cece7",
   "metadata": {},
   "outputs": [],
   "source": [
    "ips.append(sc[['Immunoproteasome','Const_proteasome', 'clust','name', 'study','EMT']])"
   ]
  },
  {
   "cell_type": "markdown",
   "id": "213bdb74-7328-42a9-bcbd-b2a791e4c07b",
   "metadata": {},
   "source": [
    "### PD-L1 Bladder cancer"
   ]
  },
  {
   "cell_type": "code",
   "execution_count": 132,
   "id": "61dddde9-15d3-4718-b1d0-2ca947c5292d",
   "metadata": {},
   "outputs": [
    {
     "data": {
      "text/html": [
       "<div>\n",
       "<style scoped>\n",
       "    .dataframe tbody tr th:only-of-type {\n",
       "        vertical-align: middle;\n",
       "    }\n",
       "\n",
       "    .dataframe tbody tr th {\n",
       "        vertical-align: top;\n",
       "    }\n",
       "\n",
       "    .dataframe thead th {\n",
       "        text-align: right;\n",
       "    }\n",
       "</style>\n",
       "<table border=\"1\" class=\"dataframe\">\n",
       "  <thead>\n",
       "    <tr style=\"text-align: right;\">\n",
       "      <th></th>\n",
       "      <th>SAMf2ce197162ce</th>\n",
       "      <th>SAM698d8d76b934</th>\n",
       "      <th>SAMc1b27bc16435</th>\n",
       "      <th>SAM85e41e7f33f9</th>\n",
       "      <th>SAMf275eb859a39</th>\n",
       "      <th>SAM7f0d9cc7f001</th>\n",
       "      <th>SAM4305ab968b90</th>\n",
       "      <th>SAMcf018fee2acd</th>\n",
       "      <th>SAMb2f1d0e54ece</th>\n",
       "      <th>SAMcc4675f394a1</th>\n",
       "      <th>...</th>\n",
       "      <th>SAMe7e4f7c076a7</th>\n",
       "      <th>SAMbe25e2c88f3e</th>\n",
       "      <th>SAM4caabd64e7fd</th>\n",
       "      <th>SAMc6eff056c89a</th>\n",
       "      <th>SAM5cfa1699bdb7</th>\n",
       "      <th>SAMda4d892fddc8</th>\n",
       "      <th>SAM3a1c9632ff7b</th>\n",
       "      <th>SAM8b4b8b0f9e73</th>\n",
       "      <th>SAMe3d4266775a9</th>\n",
       "      <th>SAM2de7cffb5f72</th>\n",
       "    </tr>\n",
       "    <tr>\n",
       "      <th>Symbol</th>\n",
       "      <th></th>\n",
       "      <th></th>\n",
       "      <th></th>\n",
       "      <th></th>\n",
       "      <th></th>\n",
       "      <th></th>\n",
       "      <th></th>\n",
       "      <th></th>\n",
       "      <th></th>\n",
       "      <th></th>\n",
       "      <th></th>\n",
       "      <th></th>\n",
       "      <th></th>\n",
       "      <th></th>\n",
       "      <th></th>\n",
       "      <th></th>\n",
       "      <th></th>\n",
       "      <th></th>\n",
       "      <th></th>\n",
       "      <th></th>\n",
       "      <th></th>\n",
       "    </tr>\n",
       "  </thead>\n",
       "  <tbody>\n",
       "    <tr>\n",
       "      <th>A1BG</th>\n",
       "      <td>0.740221</td>\n",
       "      <td>3.633903</td>\n",
       "      <td>0.475172</td>\n",
       "      <td>0.682958</td>\n",
       "      <td>1.537799</td>\n",
       "      <td>1.882777</td>\n",
       "      <td>0.290233</td>\n",
       "      <td>1.351356</td>\n",
       "      <td>1.312980</td>\n",
       "      <td>322.301075</td>\n",
       "      <td>...</td>\n",
       "      <td>0.462783</td>\n",
       "      <td>3.325711</td>\n",
       "      <td>2.674139</td>\n",
       "      <td>0.856346</td>\n",
       "      <td>40.332996</td>\n",
       "      <td>2.722115</td>\n",
       "      <td>0.873807</td>\n",
       "      <td>4.156058</td>\n",
       "      <td>3.593866</td>\n",
       "      <td>0.962434</td>\n",
       "    </tr>\n",
       "    <tr>\n",
       "      <th>NAT2</th>\n",
       "      <td>0.099258</td>\n",
       "      <td>0.000000</td>\n",
       "      <td>0.000000</td>\n",
       "      <td>0.000000</td>\n",
       "      <td>0.000000</td>\n",
       "      <td>0.000000</td>\n",
       "      <td>0.000000</td>\n",
       "      <td>0.547835</td>\n",
       "      <td>0.000000</td>\n",
       "      <td>7.613022</td>\n",
       "      <td>...</td>\n",
       "      <td>0.000000</td>\n",
       "      <td>0.000000</td>\n",
       "      <td>0.000000</td>\n",
       "      <td>0.000000</td>\n",
       "      <td>0.414751</td>\n",
       "      <td>0.000000</td>\n",
       "      <td>0.000000</td>\n",
       "      <td>0.474295</td>\n",
       "      <td>0.000000</td>\n",
       "      <td>0.000000</td>\n",
       "    </tr>\n",
       "    <tr>\n",
       "      <th>ADA</th>\n",
       "      <td>31.715593</td>\n",
       "      <td>33.923669</td>\n",
       "      <td>13.465451</td>\n",
       "      <td>86.468284</td>\n",
       "      <td>31.634483</td>\n",
       "      <td>13.122827</td>\n",
       "      <td>12.362187</td>\n",
       "      <td>5.654888</td>\n",
       "      <td>17.147316</td>\n",
       "      <td>16.157783</td>\n",
       "      <td>...</td>\n",
       "      <td>19.572810</td>\n",
       "      <td>18.288913</td>\n",
       "      <td>10.733297</td>\n",
       "      <td>16.178120</td>\n",
       "      <td>6.936735</td>\n",
       "      <td>34.925713</td>\n",
       "      <td>25.156978</td>\n",
       "      <td>21.168994</td>\n",
       "      <td>11.147834</td>\n",
       "      <td>40.910260</td>\n",
       "    </tr>\n",
       "    <tr>\n",
       "      <th>CDH2</th>\n",
       "      <td>11.043545</td>\n",
       "      <td>268.013710</td>\n",
       "      <td>0.838408</td>\n",
       "      <td>12.067059</td>\n",
       "      <td>3.743990</td>\n",
       "      <td>3.858926</td>\n",
       "      <td>0.303464</td>\n",
       "      <td>0.702374</td>\n",
       "      <td>15.918050</td>\n",
       "      <td>55.176372</td>\n",
       "      <td>...</td>\n",
       "      <td>9.056267</td>\n",
       "      <td>0.686315</td>\n",
       "      <td>7.658747</td>\n",
       "      <td>6.025201</td>\n",
       "      <td>50.669153</td>\n",
       "      <td>12.736805</td>\n",
       "      <td>2.569622</td>\n",
       "      <td>20.109631</td>\n",
       "      <td>3.114942</td>\n",
       "      <td>1.367953</td>\n",
       "    </tr>\n",
       "    <tr>\n",
       "      <th>AKT3</th>\n",
       "      <td>3.812259</td>\n",
       "      <td>8.530073</td>\n",
       "      <td>1.984418</td>\n",
       "      <td>5.000220</td>\n",
       "      <td>1.865844</td>\n",
       "      <td>10.316194</td>\n",
       "      <td>0.344864</td>\n",
       "      <td>3.085200</td>\n",
       "      <td>4.577756</td>\n",
       "      <td>2.129216</td>\n",
       "      <td>...</td>\n",
       "      <td>2.443458</td>\n",
       "      <td>1.279238</td>\n",
       "      <td>1.097701</td>\n",
       "      <td>2.154283</td>\n",
       "      <td>6.175300</td>\n",
       "      <td>1.437256</td>\n",
       "      <td>1.583493</td>\n",
       "      <td>4.411682</td>\n",
       "      <td>2.778874</td>\n",
       "      <td>3.649692</td>\n",
       "    </tr>\n",
       "  </tbody>\n",
       "</table>\n",
       "<p>5 rows × 348 columns</p>\n",
       "</div>"
      ],
      "text/plain": [
       "        SAMf2ce197162ce  SAM698d8d76b934  SAMc1b27bc16435  SAM85e41e7f33f9  \\\n",
       "Symbol                                                                       \n",
       "A1BG           0.740221         3.633903         0.475172         0.682958   \n",
       "NAT2           0.099258         0.000000         0.000000         0.000000   \n",
       "ADA           31.715593        33.923669        13.465451        86.468284   \n",
       "CDH2          11.043545       268.013710         0.838408        12.067059   \n",
       "AKT3           3.812259         8.530073         1.984418         5.000220   \n",
       "\n",
       "        SAMf275eb859a39  SAM7f0d9cc7f001  SAM4305ab968b90  SAMcf018fee2acd  \\\n",
       "Symbol                                                                       \n",
       "A1BG           1.537799         1.882777         0.290233         1.351356   \n",
       "NAT2           0.000000         0.000000         0.000000         0.547835   \n",
       "ADA           31.634483        13.122827        12.362187         5.654888   \n",
       "CDH2           3.743990         3.858926         0.303464         0.702374   \n",
       "AKT3           1.865844        10.316194         0.344864         3.085200   \n",
       "\n",
       "        SAMb2f1d0e54ece  SAMcc4675f394a1  ...  SAMe7e4f7c076a7  \\\n",
       "Symbol                                    ...                    \n",
       "A1BG           1.312980       322.301075  ...         0.462783   \n",
       "NAT2           0.000000         7.613022  ...         0.000000   \n",
       "ADA           17.147316        16.157783  ...        19.572810   \n",
       "CDH2          15.918050        55.176372  ...         9.056267   \n",
       "AKT3           4.577756         2.129216  ...         2.443458   \n",
       "\n",
       "        SAMbe25e2c88f3e  SAM4caabd64e7fd  SAMc6eff056c89a  SAM5cfa1699bdb7  \\\n",
       "Symbol                                                                       \n",
       "A1BG           3.325711         2.674139         0.856346        40.332996   \n",
       "NAT2           0.000000         0.000000         0.000000         0.414751   \n",
       "ADA           18.288913        10.733297        16.178120         6.936735   \n",
       "CDH2           0.686315         7.658747         6.025201        50.669153   \n",
       "AKT3           1.279238         1.097701         2.154283         6.175300   \n",
       "\n",
       "        SAMda4d892fddc8  SAM3a1c9632ff7b  SAM8b4b8b0f9e73  SAMe3d4266775a9  \\\n",
       "Symbol                                                                       \n",
       "A1BG           2.722115         0.873807         4.156058         3.593866   \n",
       "NAT2           0.000000         0.000000         0.474295         0.000000   \n",
       "ADA           34.925713        25.156978        21.168994        11.147834   \n",
       "CDH2          12.736805         2.569622        20.109631         3.114942   \n",
       "AKT3           1.437256         1.583493         4.411682         2.778874   \n",
       "\n",
       "        SAM2de7cffb5f72  \n",
       "Symbol                   \n",
       "A1BG           0.962434  \n",
       "NAT2           0.000000  \n",
       "ADA           40.910260  \n",
       "CDH2           1.367953  \n",
       "AKT3           3.649692  \n",
       "\n",
       "[5 rows x 348 columns]"
      ]
     },
     "execution_count": 132,
     "metadata": {},
     "output_type": "execute_result"
    }
   ],
   "source": [
    "st10=pd.read_csv(res+'bladder/Bladder_tpm.csv',index_col=0)\n",
    "gns=pd.read_csv(res+'bladder/Bladder_genes_nfo.csv',index_col=0)\n",
    "st10.index=gns['Symbol']\n",
    "st10.head()"
   ]
  },
  {
   "cell_type": "code",
   "execution_count": 133,
   "id": "d84c5410-af3e-4481-a426-7dd3c1210e18",
   "metadata": {},
   "outputs": [],
   "source": [
    "meta=pd.read_csv(res+'bladder/Bladder_clinical.csv',index_col=0)\n",
    "meta=meta.dropna(subset=['binaryResponse'])\n",
    "st10_sel=st10[meta.index]\n",
    "rs=meta[meta['binaryResponse'].str.contains('CR/PR')].index"
   ]
  },
  {
   "cell_type": "code",
   "execution_count": 134,
   "id": "6e542366-01e6-4b3b-adb8-6d255e62004a",
   "metadata": {},
   "outputs": [],
   "source": [
    "st0=gsva(st10,\"bladder_pd\")"
   ]
  },
  {
   "cell_type": "code",
   "execution_count": 135,
   "id": "1e1b50c1-6505-4139-976c-54a2e170a969",
   "metadata": {},
   "outputs": [
    {
     "name": "stderr",
     "output_type": "stream",
     "text": [
      "/home/sabari/dbhavya/miniconda3/envs/single-cell/lib/python3.7/site-packages/ipykernel_launcher.py:12: SettingWithCopyWarning: \n",
      "A value is trying to be set on a copy of a slice from a DataFrame\n",
      "\n",
      "See the caveats in the documentation: https://pandas.pydata.org/pandas-docs/stable/user_guide/indexing.html#returning-a-view-versus-a-copy\n",
      "  if sys.path[0] == '':\n",
      "/home/sabari/dbhavya/miniconda3/envs/single-cell/lib/python3.7/site-packages/ipykernel_launcher.py:14: SettingWithCopyWarning: \n",
      "A value is trying to be set on a copy of a slice from a DataFrame\n",
      "\n",
      "See the caveats in the documentation: https://pandas.pydata.org/pandas-docs/stable/user_guide/indexing.html#returning-a-view-versus-a-copy\n",
      "  \n"
     ]
    }
   ],
   "source": [
    "###IP average expression\n",
    "sc=avg(st10,rs,\"Bladder (atezolizumab)\")"
   ]
  },
  {
   "cell_type": "code",
   "execution_count": 136,
   "id": "7b0c7233-3e35-4248-89e6-cdd35918dd72",
   "metadata": {},
   "outputs": [],
   "source": [
    "plot_median_score(sc)"
   ]
  },
  {
   "cell_type": "code",
   "execution_count": 137,
   "id": "9eee7895-335b-45bf-b888-ff076a543546",
   "metadata": {},
   "outputs": [],
   "source": [
    "ips.append(sc[['Immunoproteasome','Const_proteasome', 'clust','name', 'study','EMT']])"
   ]
  },
  {
   "cell_type": "markdown",
   "id": "0103c3d2-8782-44c7-b991-671cd3e9382f",
   "metadata": {},
   "source": [
    "## Figure 5B"
   ]
  },
  {
   "cell_type": "code",
   "execution_count": 147,
   "id": "224afa64-2b93-4a2d-87f1-9f82cbb78184",
   "metadata": {},
   "outputs": [],
   "source": [
    "order=['Melanoma (pembrolizumab)', 'Melanoma (ipilimumab)','NSCLC (nivolumab)','Thyme (pembrolizumab)','Breast (pembrolizumab)', 'Bladder (atezolizumab)'\n",
    "       ,'Eso-gastric (Durvalumab)','Oral (nivolumab)', 'Renal (nivolumab)']"
   ]
  },
  {
   "cell_type": "code",
   "execution_count": 161,
   "id": "6d3356f7-27b4-46d2-9458-5430156d49dc",
   "metadata": {},
   "outputs": [],
   "source": [
    "non_z=pd.concat(ips)\n",
    "non_z['Patient Name']=non_z.index\n",
    "non_z[['Patient Name','study','name','Immunoproteasome', 'Const_proteasome']].to_csv('Results/supplementary_T8_non.tsv',sep='\\t',index=None)"
   ]
  },
  {
   "cell_type": "code",
   "execution_count": 139,
   "id": "ffb51df4-dbb1-4571-87c9-0c011348bbfa",
   "metadata": {},
   "outputs": [
    {
     "name": "stderr",
     "output_type": "stream",
     "text": [
      "/home/sabari/dbhavya/miniconda3/envs/single-cell/lib/python3.7/site-packages/pandas/core/frame.py:3678: SettingWithCopyWarning: \n",
      "A value is trying to be set on a copy of a slice from a DataFrame.\n",
      "Try using .loc[row_indexer,col_indexer] = value instead\n",
      "\n",
      "See the caveats in the documentation: https://pandas.pydata.org/pandas-docs/stable/user_guide/indexing.html#returning-a-view-versus-a-copy\n",
      "  self[col] = igetitem(value, i)\n"
     ]
    }
   ],
   "source": [
    "for i in np.arange(0,9):\n",
    "    ips[i][['Immunoproteasome','Const_proteasome']]=StandardScaler().fit_transform(ips[i][['Immunoproteasome','Const_proteasome']])"
   ]
  },
  {
   "cell_type": "code",
   "execution_count": 140,
   "id": "867c8e19-0fe4-4c66-9e03-677454ab3665",
   "metadata": {},
   "outputs": [],
   "source": [
    "ip=pd.concat(ips)\n",
    "ip['Patient Name']=ip.index"
   ]
  },
  {
   "cell_type": "code",
   "execution_count": 141,
   "id": "50b259f6-1236-4eb0-b824-4b50eda82406",
   "metadata": {},
   "outputs": [
    {
     "data": {
      "text/plain": [
       "study                     name          \n",
       "Bladder (atezolizumab)    Non-Responders    280\n",
       "                          Responders         68\n",
       "Breast (pembrolizumab)    Non-Responders     20\n",
       "                          Responders          9\n",
       "Eso-gastric (Durvalumab)  Non-Responders     18\n",
       "                          Responders         21\n",
       "Melanoma (ipilimumab)     Non-Responders     22\n",
       "                          Responders         13\n",
       "Melanoma (pembrolizumab)  Non-Responders     13\n",
       "                          Responders         13\n",
       "NSCLC (nivolumab)         Non-Responders     11\n",
       "                          Responders          5\n",
       "Oral (nivolumab)          Non-Responders      8\n",
       "                          Responders          3\n",
       "Renal (nivolumab)         Non-Responders      7\n",
       "                          Responders          4\n",
       "Thyme (pembrolizumab)     Non-Responders      5\n",
       "                          Responders          4\n",
       "dtype: int64"
      ]
     },
     "execution_count": 141,
     "metadata": {},
     "output_type": "execute_result"
    }
   ],
   "source": [
    "ip.groupby(['study','name']).size()"
   ]
  },
  {
   "cell_type": "code",
   "execution_count": 159,
   "id": "d8aad298-79f0-4a9d-a314-e5ea474d9295",
   "metadata": {},
   "outputs": [],
   "source": [
    "ip.to_csv(\"Results/supplementary_T8_non_Z.tsv\")"
   ]
  },
  {
   "cell_type": "code",
   "execution_count": 160,
   "id": "6314c01f-277c-4acc-8b60-ba25fcf439db",
   "metadata": {},
   "outputs": [
    {
     "data": {
      "text/html": [
       "<div>\n",
       "<style scoped>\n",
       "    .dataframe tbody tr th:only-of-type {\n",
       "        vertical-align: middle;\n",
       "    }\n",
       "\n",
       "    .dataframe tbody tr th {\n",
       "        vertical-align: top;\n",
       "    }\n",
       "\n",
       "    .dataframe thead th {\n",
       "        text-align: right;\n",
       "    }\n",
       "</style>\n",
       "<table border=\"1\" class=\"dataframe\">\n",
       "  <thead>\n",
       "    <tr style=\"text-align: right;\">\n",
       "      <th></th>\n",
       "      <th>Immunoproteasome</th>\n",
       "      <th>Const_proteasome</th>\n",
       "      <th>clust</th>\n",
       "      <th>name</th>\n",
       "      <th>study</th>\n",
       "      <th>EMT</th>\n",
       "      <th>Patient Name</th>\n",
       "    </tr>\n",
       "  </thead>\n",
       "  <tbody>\n",
       "    <tr>\n",
       "      <th>Pt1</th>\n",
       "      <td>-0.692358</td>\n",
       "      <td>-1.842488</td>\n",
       "      <td>1</td>\n",
       "      <td>Non-Responders</td>\n",
       "      <td>Melanoma (pembrolizumab)</td>\n",
       "      <td>0.260706</td>\n",
       "      <td>Pt1</td>\n",
       "    </tr>\n",
       "    <tr>\n",
       "      <th>Pt2</th>\n",
       "      <td>0.806901</td>\n",
       "      <td>-0.353918</td>\n",
       "      <td>0</td>\n",
       "      <td>Responders</td>\n",
       "      <td>Melanoma (pembrolizumab)</td>\n",
       "      <td>0.156756</td>\n",
       "      <td>Pt2</td>\n",
       "    </tr>\n",
       "    <tr>\n",
       "      <th>Pt4</th>\n",
       "      <td>-0.653527</td>\n",
       "      <td>0.069488</td>\n",
       "      <td>0</td>\n",
       "      <td>Responders</td>\n",
       "      <td>Melanoma (pembrolizumab)</td>\n",
       "      <td>0.218487</td>\n",
       "      <td>Pt4</td>\n",
       "    </tr>\n",
       "    <tr>\n",
       "      <th>Pt5</th>\n",
       "      <td>-0.207254</td>\n",
       "      <td>-0.252492</td>\n",
       "      <td>0</td>\n",
       "      <td>Responders</td>\n",
       "      <td>Melanoma (pembrolizumab)</td>\n",
       "      <td>0.198487</td>\n",
       "      <td>Pt5</td>\n",
       "    </tr>\n",
       "    <tr>\n",
       "      <th>Pt6</th>\n",
       "      <td>-1.718683</td>\n",
       "      <td>0.120916</td>\n",
       "      <td>0</td>\n",
       "      <td>Responders</td>\n",
       "      <td>Melanoma (pembrolizumab)</td>\n",
       "      <td>0.255385</td>\n",
       "      <td>Pt6</td>\n",
       "    </tr>\n",
       "  </tbody>\n",
       "</table>\n",
       "</div>"
      ],
      "text/plain": [
       "     Immunoproteasome  Const_proteasome  clust            name  \\\n",
       "Pt1         -0.692358         -1.842488      1  Non-Responders   \n",
       "Pt2          0.806901         -0.353918      0      Responders   \n",
       "Pt4         -0.653527          0.069488      0      Responders   \n",
       "Pt5         -0.207254         -0.252492      0      Responders   \n",
       "Pt6         -1.718683          0.120916      0      Responders   \n",
       "\n",
       "                        study       EMT Patient Name  \n",
       "Pt1  Melanoma (pembrolizumab)  0.260706          Pt1  \n",
       "Pt2  Melanoma (pembrolizumab)  0.156756          Pt2  \n",
       "Pt4  Melanoma (pembrolizumab)  0.218487          Pt4  \n",
       "Pt5  Melanoma (pembrolizumab)  0.198487          Pt5  \n",
       "Pt6  Melanoma (pembrolizumab)  0.255385          Pt6  "
      ]
     },
     "execution_count": 160,
     "metadata": {},
     "output_type": "execute_result"
    }
   ],
   "source": [
    "ip.head()"
   ]
  },
  {
   "cell_type": "code",
   "execution_count": 144,
   "id": "ffc10db0-9406-4bb7-89ea-30bdf33ca3e0",
   "metadata": {},
   "outputs": [],
   "source": [
    "box_pairs=[]\n",
    "for i in ip['study'].unique():\n",
    "    t1=((i,'Responders'),(i,'Non-Responders'))\n",
    "    box_pairs.append(t1)"
   ]
  },
  {
   "cell_type": "code",
   "execution_count": 145,
   "id": "9e6fdbae-d480-4642-befa-9b7758ce91a3",
   "metadata": {},
   "outputs": [
    {
     "data": {
      "text/plain": [
       "array(['Melanoma (pembrolizumab)', 'Melanoma (ipilimumab)',\n",
       "       'Oral (nivolumab)', 'NSCLC (nivolumab)', 'Renal (nivolumab)',\n",
       "       'Eso-gastric (Durvalumab)', 'Thyme (pembrolizumab)',\n",
       "       'Breast (pembrolizumab)', 'Bladder (atezolizumab)'], dtype=object)"
      ]
     },
     "execution_count": 145,
     "metadata": {},
     "output_type": "execute_result"
    }
   ],
   "source": [
    "ip.study.unique()"
   ]
  },
  {
   "cell_type": "code",
   "execution_count": 150,
   "id": "d8decab8-ddbc-49c3-9e29-9e14b1839e70",
   "metadata": {},
   "outputs": [
    {
     "name": "stdout",
     "output_type": "stream",
     "text": [
      "Renal (nivolumab)_Non-Responders v.s. Renal (nivolumab)_Responders: Mann-Whitney-Wilcoxon test smaller, P_val=8.903e-01 U_stat=2.000e+01\n",
      "Melanoma (ipilimumab)_Non-Responders v.s. Melanoma (ipilimumab)_Responders: Mann-Whitney-Wilcoxon test smaller, P_val=6.436e-02 U_stat=9.800e+01\n",
      "Melanoma (pembrolizumab)_Non-Responders v.s. Melanoma (pembrolizumab)_Responders: Mann-Whitney-Wilcoxon test smaller, P_val=9.991e-02 U_stat=5.900e+01\n",
      "NSCLC (nivolumab)_Non-Responders v.s. NSCLC (nivolumab)_Responders: Mann-Whitney-Wilcoxon test smaller, P_val=5.637e-02 U_stat=1.300e+01\n",
      "Oral (nivolumab)_Non-Responders v.s. Oral (nivolumab)_Responders: Mann-Whitney-Wilcoxon test smaller, P_val=6.203e-01 U_stat=1.300e+01\n",
      "Eso-gastric (Durvalumab)_Non-Responders v.s. Eso-gastric (Durvalumab)_Responders: Mann-Whitney-Wilcoxon test smaller, P_val=6.270e-01 U_stat=2.000e+02\n",
      "Thyme (pembrolizumab)_Non-Responders v.s. Thyme (pembrolizumab)_Responders: Mann-Whitney-Wilcoxon test smaller, P_val=1.867e-02 U_stat=1.000e+00\n",
      "Breast (pembrolizumab)_Non-Responders v.s. Breast (pembrolizumab)_Responders: Mann-Whitney-Wilcoxon test smaller, P_val=1.009e-03 U_stat=2.400e+01\n",
      "Bladder (atezolizumab)_Non-Responders v.s. Bladder (atezolizumab)_Responders: Mann-Whitney-Wilcoxon test smaller, P_val=9.916e-03 U_stat=7.786e+03\n"
     ]
    },
    {
     "data": {
      "image/png": "[encoded data removed]",
      "text/plain": [
       "<Figure size 765.75x432 with 1 Axes>"
      ]
     },
     "metadata": {
      "needs_background": "light"
     },
     "output_type": "display_data"
    }
   ],
   "source": [
    "ax=sns.catplot(x=\"study\", y=\"Immunoproteasome\", hue=\"name\", data=ip,palette=['#deebf7','#fde0dd'],height=6,  aspect=1.5,kind='box',showfliers=False,order=order)\n",
    "res=sns.stripplot(x=\"study\", y=\"Immunoproteasome\", hue=\"name\", data=ip,palette=['black','black'],jitter=True, dodge=True,alpha=0.4,order=order)\n",
    "add_stat_annotation(res, data=ip, x='study',y='Immunoproteasome',test='Mann-Whitney-ls', hue='name' ,box_pairs=box_pairs,text_format='simple', loc='inside',comparisons_correction=None ,verbose=2,order=order)\n",
    "res.get_legend().remove()\n",
    "plt.title('Immunoproteasome Expression with respect to ICB Response')\n",
    "plt.xticks(rotation=90)\n",
    "res.set_xlabel(\"Study Set\")\n",
    "res.annotate('NR(u) less than R(u)',(1.5,3.5))\n",
    "res.set_ylabel(\"Zscore IP Expression \")\n",
    "plt.savefig('Results/IP_response_gt.svg',bbox_inches = \"tight\",format='svg')\n",
    "plt.show()"
   ]
  },
  {
   "cell_type": "code",
   "execution_count": 151,
   "id": "6f6fac48-3c79-4e6c-8804-0189bf385566",
   "metadata": {},
   "outputs": [
    {
     "name": "stdout",
     "output_type": "stream",
     "text": [
      "Renal (nivolumab)_Non-Responders v.s. Renal (nivolumab)_Responders: Mann-Whitney-Wilcoxon test smaller, P_val=8.025e-01 U_stat=1.800e+01\n",
      "Melanoma (ipilimumab)_Non-Responders v.s. Melanoma (ipilimumab)_Responders: Mann-Whitney-Wilcoxon test smaller, P_val=2.112e-01 U_stat=1.190e+02\n",
      "Melanoma (pembrolizumab)_Non-Responders v.s. Melanoma (pembrolizumab)_Responders: Mann-Whitney-Wilcoxon test smaller, P_val=3.222e-01 U_stat=7.500e+01\n",
      "NSCLC (nivolumab)_Non-Responders v.s. NSCLC (nivolumab)_Responders: Mann-Whitney-Wilcoxon test smaller, P_val=9.130e-01 U_stat=3.900e+01\n",
      "Oral (nivolumab)_Non-Responders v.s. Oral (nivolumab)_Responders: Mann-Whitney-Wilcoxon test smaller, P_val=7.934e-01 U_stat=1.550e+01\n",
      "Eso-gastric (Durvalumab)_Non-Responders v.s. Eso-gastric (Durvalumab)_Responders: Mann-Whitney-Wilcoxon test smaller, P_val=1.390e-01 U_stat=1.500e+02\n",
      "Thyme (pembrolizumab)_Non-Responders v.s. Thyme (pembrolizumab)_Responders: Mann-Whitney-Wilcoxon test smaller, P_val=5.487e-01 U_stat=1.000e+01\n",
      "Breast (pembrolizumab)_Non-Responders v.s. Breast (pembrolizumab)_Responders: Mann-Whitney-Wilcoxon test smaller, P_val=9.743e-02 U_stat=6.200e+01\n",
      "Bladder (atezolizumab)_Non-Responders v.s. Bladder (atezolizumab)_Responders: Mann-Whitney-Wilcoxon test smaller, P_val=2.580e-02 U_stat=8.071e+03\n"
     ]
    },
    {
     "data": {
      "image/png": "[encoded data removed]",
      "text/plain": [
       "<Figure size 765.75x432 with 1 Axes>"
      ]
     },
     "metadata": {
      "needs_background": "light"
     },
     "output_type": "display_data"
    }
   ],
   "source": [
    "ax=sns.catplot(x=\"study\", y=\"Const_proteasome\", hue=\"name\", data=ip,palette=['#deebf7','#fde0dd'],height=6,  aspect=1.5,kind='box',showfliers=False,order=order)\n",
    "res=sns.stripplot(x=\"study\", y=\"Const_proteasome\", hue=\"name\", data=ip,palette=['black','black'],jitter=True, dodge=True,alpha=0.4,order=order)\n",
    "add_stat_annotation(res, data=ip, x='study',y='Const_proteasome',test='Mann-Whitney-ls', hue='name' ,box_pairs=box_pairs,text_format='simple', loc='inside',comparisons_correction=None ,verbose=2,order=order)\n",
    "res.get_legend().remove()\n",
    "plt.title('Constitutive proteasome Expression with respect to ICB Response')\n",
    "plt.xticks(rotation=90)\n",
    "res.set_xlabel(\"Study Set\")\n",
    "res.annotate('NR(u) less than R(u)',(1.5,3.5))\n",
    "res.set_ylabel(\"Zscore IP Expression \")\n",
    "plt.savefig('Results/CP_response_gt.svg',bbox_inches = \"tight\",format='svg')\n",
    "plt.show()"
   ]
  },
  {
   "cell_type": "markdown",
   "id": "ac3b1e85-b4ea-42e4-be60-5c96d258f12c",
   "metadata": {},
   "source": [
    "## Figure 5C"
   ]
  },
  {
   "cell_type": "code",
   "execution_count": 152,
   "id": "513ebdce-5f51-4a5a-9744-8bbfe0047bf2",
   "metadata": {},
   "outputs": [],
   "source": [
    "studies=['bladder_pd','Breast_pd','Eso_pd','lung_pd','renal_pd','Thyme_pd','Oral_pd','Melanoma_ct','Melanoma_pd']"
   ]
  },
  {
   "cell_type": "code",
   "execution_count": 153,
   "id": "fee98bb7-b302-409c-a84c-18d0ee347c0c",
   "metadata": {},
   "outputs": [],
   "source": [
    "dif_gsva=[]\n",
    "for n in studies:\n",
    "    temp=pd.read_csv(F\"data/Immunotherapy/GSVA/results/high_low_immuno_prtoeasome_Diff_immune_score_{n}.csv\",index_col=0)\n",
    "    temp['study']=n\n",
    "    #temp.index=temp.index.str.replace('_',' ')\n",
    "    #temp.index=temp.index.str.replace('cells','')\n",
    "    #temp.index=temp.index.str.replace('cell','')\n",
    "    \n",
    "    dif_gsva.append(temp[['logFC','study']])\n",
    "dif_gsva=pd.concat(dif_gsva)"
   ]
  },
  {
   "cell_type": "code",
   "execution_count": 154,
   "id": "9ba17cce-2788-45a2-a182-613d192cf3ec",
   "metadata": {},
   "outputs": [],
   "source": [
    "dif_gsva=dif_gsva.pivot(columns='study')\n",
    "dif_gsva.fillna(0,inplace=True)"
   ]
  },
  {
   "cell_type": "code",
   "execution_count": 155,
   "id": "4f2e11b6-1d74-4c7a-b770-ec61deef27ed",
   "metadata": {},
   "outputs": [],
   "source": [
    "dif_gsva=dif_gsva[[('logFC', 'Melanoma_pd'),('logFC', 'Melanoma_ct'),('logFC',        'lung_pd'), ('logFC',       'Thyme_pd'),('logFC',      'Breast_pd'),('logFC',      'bladder_pd'),('logFC',         'Eso_pd'),('logFC',        'Oral_pd'),('logFC',       'renal_pd')]]"
   ]
  },
  {
   "cell_type": "code",
   "execution_count": 156,
   "id": "c1525bbd-04ca-410f-bbde-1f38b8426836",
   "metadata": {},
   "outputs": [
    {
     "data": {
      "image/png": "[encoded data removed]",
      "text/plain": [
       "<Figure size 1080x720 with 4 Axes>"
      ]
     },
     "metadata": {
      "needs_background": "light"
     },
     "output_type": "display_data"
    }
   ],
   "source": [
    "ax=sns.clustermap(dif_gsva,robust=True,cmap='RdBu_r',figsize=(15,10),col_cluster=False,center=0,cbar_pos=(1, 0.3, 0.02, 0.5))\n",
    "plt.savefig('Results/Immuno_erich.svg',bbox_inches = \"tight\",format='svg')\n",
    "plt.show()"
   ]
  }
 ],
 "metadata": {
  "kernelspec": {
   "display_name": "Python 3 (ipykernel)",
   "language": "python",
   "name": "python3"
  },
  "language_info": {
   "codemirror_mode": {
    "name": "ipython",
    "version": 3
   },
   "file_extension": ".py",
   "mimetype": "text/x-python",
   "name": "python",
   "nbconvert_exporter": "python",
   "pygments_lexer": "ipython3",
   "version": "3.7.12"
  },
  "toc-autonumbering": false
 },
 "nbformat": 4,
 "nbformat_minor": 5
}
