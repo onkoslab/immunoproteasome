{
 "cells": [
  {
   "cell_type": "markdown",
   "id": "42fba403-c2d1-4226-8409-5629ff458750",
   "metadata": {},
   "source": [
    "# Single-Cell Data Processing"
   ]
  },
  {
   "cell_type": "code",
   "execution_count": 1,
   "id": "25581dee-9bec-470f-9c65-b5734626be51",
   "metadata": {},
   "outputs": [],
   "source": [
    "import numpy as np\n",
    "import scipy\n",
    "import scanpy as sc\n",
    "import pandas as pd"
   ]
  },
  {
   "cell_type": "markdown",
   "id": "171ffd2e-cc4e-4dc8-a78f-3bc40880952c",
   "metadata": {},
   "source": [
    "## Functions"
   ]
  },
  {
   "cell_type": "code",
   "execution_count": 2,
   "id": "8fbcde35-1148-44c1-8168-b5f47c1b30d8",
   "metadata": {},
   "outputs": [],
   "source": [
    "def filt(adata,st):\n",
    "    ## selected dataset:\n",
    "    gns=['PSMB5',  'PSMB6',  'PSMB7',  'PSMB8',  'PSMB9',  'PSMB10',  'PTPRC']\n",
    "    \n",
    "    ## filtering cells with less genes and genes withh less cells\n",
    "    sc.pp.filter_cells(adata, min_genes=200)\n",
    "    sc.pp.filter_genes(adata, min_cells=3)\n",
    "    rw=adata[:, gns]\n",
    "\n",
    "    ##raw counts\n",
    "    if st =='csv':\n",
    "        y=pd.DataFrame(data=rw.X, index=rw.obs_names, columns=rw.var_names)\n",
    "    if st== 'sparse':\n",
    "        y=pd.DataFrame.sparse.from_spmatrix(data=rw.X, index=rw.obs_names, columns=rw.var_names)\n",
    "    ## Total-count normalize (library-size correct) the data matrix X to 10,000 reads per cell, so that counts become comparable among cells.\n",
    "    sc.pp.normalize_total(adata, target_sum=1e4)\n",
    "    adata=adata[:, gns]\n",
    "    ## storing sparse matrin to pandas\n",
    "    if st =='csv':\n",
    "        x=pd.DataFrame(data=adata.X, index=adata.obs_names, columns=adata.var_names)\n",
    "    if st== 'sparse':\n",
    "        x=pd.DataFrame.sparse.from_spmatrix(data=adata.X, index=adata.obs_names, columns=adata.var_names)\n",
    "    #return raw and\n",
    "\n",
    "    return (x,y)"
   ]
  },
  {
   "cell_type": "code",
   "execution_count": 3,
   "id": "7a206fbe-7305-43dd-b35b-95394129ef90",
   "metadata": {},
   "outputs": [],
   "source": [
    "def avg_score(dt1):\n",
    "    ## for proteasomes\n",
    "    dt1['Immunoproteasome']= (1/3)*(np.log2(dt1[\"PSMB8\"]+1)+np.log2(dt1[\"PSMB9\"]+1)+np.log2(dt1[\"PSMB10\"]+1))\n",
    "    dt1['Const_proteasome']=(1/3)*(np.log2(dt1[\"PSMB5\"]+1)+np.log2(dt1[\"PSMB6\"]+1)+np.log2(dt1[\"PSMB7\"]+1))\n",
    "    return dt1"
   ]
  },
  {
   "cell_type": "code",
   "execution_count": 29,
   "id": "5b054bff-a744-4e2c-8269-ebf99dd8b6cc",
   "metadata": {},
   "outputs": [],
   "source": [
    "combined_st=[] ## All studies"
   ]
  },
  {
   "cell_type": "code",
   "execution_count": 9,
   "id": "e485f4e3-bcc1-4b2c-9c5a-7cf71a85e1e2",
   "metadata": {},
   "outputs": [],
   "source": [
    "pth='data/Single-cell/'"
   ]
  },
  {
   "cell_type": "code",
   "execution_count": 28,
   "id": "f7bf21b8-4338-4b55-9387-57c38be65e55",
   "metadata": {},
   "outputs": [],
   "source": [
    "results='Results/'"
   ]
  },
  {
   "cell_type": "markdown",
   "id": "359bf350-ebb4-424f-bd0a-17da9f655c20",
   "metadata": {},
   "source": [
    "## Average Score: Immunoproteasome and Constitutive (10x)"
   ]
  },
  {
   "cell_type": "markdown",
   "id": "44262c39-bb19-43d6-b93a-58e97cb4f15a",
   "metadata": {},
   "source": [
    "\n",
    "### Breast Cancer \n",
    "https://doi.org/10.1038/s41422-020-0355-0 <br>"
   ]
  },
  {
   "cell_type": "code",
   "execution_count": 5,
   "id": "97020c2e-aab0-4d62-b3ee-e65df7cab485",
   "metadata": {},
   "outputs": [],
   "source": [
    "## Reading counts and features\n",
    "bcr = sc.read_10x_mtx(\n",
    "    'Wu_etal_2021_BRCA_scRNASeq/',  # the directory with the `.mtx` file\n",
    "    var_names='gene_symbols',                # use gene symbols for the variable names (variables-axis index)\n",
    "    cache=True)  "
   ]
  },
  {
   "cell_type": "code",
   "execution_count": 6,
   "id": "2d9a0edc-b313-482d-a3b8-7faabe8b8780",
   "metadata": {},
   "outputs": [],
   "source": [
    "## creating raw and normalized data for plotting\n",
    "bcr_pd,bcr_raw=filt(bcr,'sparse')"
   ]
  },
  {
   "cell_type": "code",
   "execution_count": 104,
   "id": "9ab1f367-5fb1-4aa0-92c0-db4924559d3f",
   "metadata": {},
   "outputs": [
    {
     "name": "stderr",
     "output_type": "stream",
     "text": [
      "/home/sabari/dbhavya/miniconda3/envs/single-cell/lib/python3.7/site-packages/IPython/core/interactiveshell.py:3444: DtypeWarning: Columns (2,3,4) have mixed types.Specify dtype option on import or set low_memory=False.\n",
      "  exec(code_obj, self.user_global_ns, self.user_ns)\n"
     ]
    },
    {
     "data": {
      "text/html": [
       "<div>\n",
       "<style scoped>\n",
       "    .dataframe tbody tr th:only-of-type {\n",
       "        vertical-align: middle;\n",
       "    }\n",
       "\n",
       "    .dataframe tbody tr th {\n",
       "        vertical-align: top;\n",
       "    }\n",
       "\n",
       "    .dataframe thead th {\n",
       "        text-align: right;\n",
       "    }\n",
       "</style>\n",
       "<table border=\"1\" class=\"dataframe\">\n",
       "  <thead>\n",
       "    <tr style=\"text-align: right;\">\n",
       "      <th></th>\n",
       "      <th>NAME</th>\n",
       "      <th>Patient</th>\n",
       "      <th>Percent_mito</th>\n",
       "      <th>nCount_RNA</th>\n",
       "      <th>nFeature_RNA</th>\n",
       "      <th>celltype_major</th>\n",
       "      <th>celltype_minor</th>\n",
       "      <th>celltype_subset</th>\n",
       "      <th>subtype</th>\n",
       "      <th>gene_module</th>\n",
       "      <th>Calls</th>\n",
       "      <th>normal_cell_call</th>\n",
       "      <th>CNA_value</th>\n",
       "    </tr>\n",
       "  </thead>\n",
       "  <tbody>\n",
       "    <tr>\n",
       "      <th>1</th>\n",
       "      <td>CID3586_AAGACCTCAGCATGAG</td>\n",
       "      <td>CID3586</td>\n",
       "      <td>1.506221349</td>\n",
       "      <td>4581</td>\n",
       "      <td>1689</td>\n",
       "      <td>Endothelial</td>\n",
       "      <td>Endothelial ACKR1</td>\n",
       "      <td>Endothelial ACKR1</td>\n",
       "      <td>HER2+</td>\n",
       "      <td>no_gene_module</td>\n",
       "      <td>no_scTYPER_call</td>\n",
       "      <td>no_inferCNV_call</td>\n",
       "      <td>no_CNA_value</td>\n",
       "    </tr>\n",
       "    <tr>\n",
       "      <th>2</th>\n",
       "      <td>CID3586_AAGGTTCGTAGTACCT</td>\n",
       "      <td>CID3586</td>\n",
       "      <td>5.793742758</td>\n",
       "      <td>1726</td>\n",
       "      <td>779</td>\n",
       "      <td>Endothelial</td>\n",
       "      <td>Endothelial ACKR1</td>\n",
       "      <td>Endothelial ACKR1</td>\n",
       "      <td>HER2+</td>\n",
       "      <td>no_gene_module</td>\n",
       "      <td>no_scTYPER_call</td>\n",
       "      <td>no_inferCNV_call</td>\n",
       "      <td>no_CNA_value</td>\n",
       "    </tr>\n",
       "    <tr>\n",
       "      <th>3</th>\n",
       "      <td>CID3586_ACCAGTAGTTGTGGCC</td>\n",
       "      <td>CID3586</td>\n",
       "      <td>1.383238405</td>\n",
       "      <td>1229</td>\n",
       "      <td>514</td>\n",
       "      <td>Endothelial</td>\n",
       "      <td>Endothelial ACKR1</td>\n",
       "      <td>Endothelial ACKR1</td>\n",
       "      <td>HER2+</td>\n",
       "      <td>no_gene_module</td>\n",
       "      <td>no_scTYPER_call</td>\n",
       "      <td>no_inferCNV_call</td>\n",
       "      <td>no_CNA_value</td>\n",
       "    </tr>\n",
       "    <tr>\n",
       "      <th>4</th>\n",
       "      <td>CID3586_ACCCACTAGATGTCGG</td>\n",
       "      <td>CID3586</td>\n",
       "      <td>1.923076923</td>\n",
       "      <td>1352</td>\n",
       "      <td>609</td>\n",
       "      <td>Endothelial</td>\n",
       "      <td>Endothelial ACKR1</td>\n",
       "      <td>Endothelial ACKR1</td>\n",
       "      <td>HER2+</td>\n",
       "      <td>no_gene_module</td>\n",
       "      <td>no_scTYPER_call</td>\n",
       "      <td>no_inferCNV_call</td>\n",
       "      <td>no_CNA_value</td>\n",
       "    </tr>\n",
       "    <tr>\n",
       "      <th>5</th>\n",
       "      <td>CID3586_ACTGATGGTCAACTGT</td>\n",
       "      <td>CID3586</td>\n",
       "      <td>13.32554062</td>\n",
       "      <td>1711</td>\n",
       "      <td>807</td>\n",
       "      <td>Endothelial</td>\n",
       "      <td>Endothelial ACKR1</td>\n",
       "      <td>Endothelial ACKR1</td>\n",
       "      <td>HER2+</td>\n",
       "      <td>no_gene_module</td>\n",
       "      <td>no_scTYPER_call</td>\n",
       "      <td>no_inferCNV_call</td>\n",
       "      <td>no_CNA_value</td>\n",
       "    </tr>\n",
       "  </tbody>\n",
       "</table>\n",
       "</div>"
      ],
      "text/plain": [
       "                       NAME  Patient Percent_mito nCount_RNA nFeature_RNA  \\\n",
       "1  CID3586_AAGACCTCAGCATGAG  CID3586  1.506221349       4581         1689   \n",
       "2  CID3586_AAGGTTCGTAGTACCT  CID3586  5.793742758       1726          779   \n",
       "3  CID3586_ACCAGTAGTTGTGGCC  CID3586  1.383238405       1229          514   \n",
       "4  CID3586_ACCCACTAGATGTCGG  CID3586  1.923076923       1352          609   \n",
       "5  CID3586_ACTGATGGTCAACTGT  CID3586  13.32554062       1711          807   \n",
       "\n",
       "  celltype_major     celltype_minor    celltype_subset subtype  \\\n",
       "1    Endothelial  Endothelial ACKR1  Endothelial ACKR1   HER2+   \n",
       "2    Endothelial  Endothelial ACKR1  Endothelial ACKR1   HER2+   \n",
       "3    Endothelial  Endothelial ACKR1  Endothelial ACKR1   HER2+   \n",
       "4    Endothelial  Endothelial ACKR1  Endothelial ACKR1   HER2+   \n",
       "5    Endothelial  Endothelial ACKR1  Endothelial ACKR1   HER2+   \n",
       "\n",
       "      gene_module            Calls  normal_cell_call     CNA_value  \n",
       "1  no_gene_module  no_scTYPER_call  no_inferCNV_call  no_CNA_value  \n",
       "2  no_gene_module  no_scTYPER_call  no_inferCNV_call  no_CNA_value  \n",
       "3  no_gene_module  no_scTYPER_call  no_inferCNV_call  no_CNA_value  \n",
       "4  no_gene_module  no_scTYPER_call  no_inferCNV_call  no_CNA_value  \n",
       "5  no_gene_module  no_scTYPER_call  no_inferCNV_call  no_CNA_value  "
      ]
     },
     "execution_count": 104,
     "metadata": {},
     "output_type": "execute_result"
    }
   ],
   "source": [
    "## Meta Data\n",
    "meta=pd.read_csv(pth+\"Breast_meta.csv\")\n",
    "meta.drop(0,axis=0,inplace=True)\n",
    "meta.head()"
   ]
  },
  {
   "cell_type": "code",
   "execution_count": 105,
   "id": "78c7b4d4-276f-4943-b301-3343cacddcad",
   "metadata": {},
   "outputs": [],
   "source": [
    "## Calculate average proteasme score\n",
    "bcr_pd['NAME']=bcr_pd.index\n",
    "norm=meta.merge(bcr_pd,on='NAME')\n",
    "norm=avg_score(norm)"
   ]
  },
  {
   "cell_type": "code",
   "execution_count": 107,
   "id": "81097d30-65b6-4656-927a-d20faf3b7836",
   "metadata": {},
   "outputs": [],
   "source": [
    "## save files for plotting\n",
    "norm.to_csv(results+\"/breast_score.csv\")"
   ]
  },
  {
   "cell_type": "code",
   "execution_count": 14,
   "id": "3bea95e8-d7d3-46c1-ac91-d5e60465eac2",
   "metadata": {},
   "outputs": [
    {
     "data": {
      "text/plain": [
       "array(['Endothelial', 'CAFs', 'PVL', 'B-cells', 'T-cells', 'Myeloid',\n",
       "       'Normal Epithelial', 'Plasmablasts', 'Cancer Epithelial'],\n",
       "      dtype=object)"
      ]
     },
     "execution_count": 14,
     "metadata": {},
     "output_type": "execute_result"
    }
   ],
   "source": [
    "norm.celltype_major.unique()"
   ]
  },
  {
   "cell_type": "code",
   "execution_count": 33,
   "id": "2a31c8f0-1dcb-4100-9f29-d27c06bbf735",
   "metadata": {},
   "outputs": [
    {
     "name": "stderr",
     "output_type": "stream",
     "text": [
      "/home/sabari/dbhavya/miniconda3/envs/single-cell/lib/python3.7/site-packages/ipykernel_launcher.py:7: SettingWithCopyWarning: \n",
      "A value is trying to be set on a copy of a slice from a DataFrame.\n",
      "Try using .loc[row_indexer,col_indexer] = value instead\n",
      "\n",
      "See the caveats in the documentation: https://pandas.pydata.org/pandas-docs/stable/user_guide/indexing.html#returning-a-view-versus-a-copy\n",
      "  import sys\n"
     ]
    }
   ],
   "source": [
    "## Consistency across cell annotation \n",
    "norm['celltype_major']=norm['celltype_major'].str.replace('T-cells','T-cell')\n",
    "norm['celltype_major']=norm['celltype_major'].str.replace('Cancer Epithelial','Epithelial-cell')\n",
    "norm['celltype_major']=norm['celltype_major'].str.replace('B-cells','B-cell')\n",
    "x=norm[['NAME','celltype_major','Immunoproteasome','Const_proteasome']] ## Only tumour population selected\n",
    "x.columns=['Sample','cell-type','Immunoproteasome','Const_proteasome']\n",
    "x['Tumour']='Breast'\n",
    "combined_st.append(x)"
   ]
  },
  {
   "cell_type": "markdown",
   "id": "9a1f71a8-f542-43ae-941c-66f135d1f5ba",
   "metadata": {},
   "source": [
    "### Colon Cancer \n"
   ]
  },
  {
   "cell_type": "code",
   "execution_count": 113,
   "id": "25985daa-6183-4f48-b310-02bc02e0e4e5",
   "metadata": {},
   "outputs": [],
   "source": [
    "colon_all=[]"
   ]
  },
  {
   "cell_type": "markdown",
   "id": "dca283c1-da0a-46ba-abf6-c090509175ff",
   "metadata": {
    "tags": []
   },
   "source": [
    "#### Study 1\n",
    "https://doi.org/10.1038/s41588-020-0636-z<br>"
   ]
  },
  {
   "cell_type": "code",
   "execution_count": 16,
   "id": "005c9b11-1fd2-4586-801e-7d2642611502",
   "metadata": {},
   "outputs": [],
   "source": [
    "colon=sc.read_csv('GSE132465_GEO_processed_CRC_10X_raw_UMI_count_matrix.txt.gz',delimiter=\"\\t\")\n",
    "colon1=colon.transpose()"
   ]
  },
  {
   "cell_type": "code",
   "execution_count": 17,
   "id": "95142e3d-9080-446d-83cd-739bb836ad88",
   "metadata": {},
   "outputs": [],
   "source": [
    "## creating raw and normalized data for plotting\n",
    "colon1_pd,colon1_raw=filt(colon1, 'csv')"
   ]
  },
  {
   "cell_type": "code",
   "execution_count": 114,
   "id": "a4f3f0ed-1bf3-40c1-affc-c6deddea0aa1",
   "metadata": {},
   "outputs": [
    {
     "data": {
      "text/html": [
       "<div>\n",
       "<style scoped>\n",
       "    .dataframe tbody tr th:only-of-type {\n",
       "        vertical-align: middle;\n",
       "    }\n",
       "\n",
       "    .dataframe tbody tr th {\n",
       "        vertical-align: top;\n",
       "    }\n",
       "\n",
       "    .dataframe thead th {\n",
       "        text-align: right;\n",
       "    }\n",
       "</style>\n",
       "<table border=\"1\" class=\"dataframe\">\n",
       "  <thead>\n",
       "    <tr style=\"text-align: right;\">\n",
       "      <th></th>\n",
       "      <th>Index</th>\n",
       "      <th>Patient</th>\n",
       "      <th>Class</th>\n",
       "      <th>Sample</th>\n",
       "      <th>Cell_type</th>\n",
       "      <th>Cell_subtype</th>\n",
       "    </tr>\n",
       "  </thead>\n",
       "  <tbody>\n",
       "    <tr>\n",
       "      <th>0</th>\n",
       "      <td>SMC01-T_AAACCTGCATACGCCG</td>\n",
       "      <td>SMC01</td>\n",
       "      <td>Tumor</td>\n",
       "      <td>SMC01-T</td>\n",
       "      <td>Epithelial cells</td>\n",
       "      <td>CMS2</td>\n",
       "    </tr>\n",
       "    <tr>\n",
       "      <th>1</th>\n",
       "      <td>SMC01-T_AAACCTGGTCGCATAT</td>\n",
       "      <td>SMC01</td>\n",
       "      <td>Tumor</td>\n",
       "      <td>SMC01-T</td>\n",
       "      <td>Epithelial cells</td>\n",
       "      <td>CMS2</td>\n",
       "    </tr>\n",
       "    <tr>\n",
       "      <th>2</th>\n",
       "      <td>SMC01-T_AAACCTGTCCCTTGCA</td>\n",
       "      <td>SMC01</td>\n",
       "      <td>Tumor</td>\n",
       "      <td>SMC01-T</td>\n",
       "      <td>Epithelial cells</td>\n",
       "      <td>CMS2</td>\n",
       "    </tr>\n",
       "    <tr>\n",
       "      <th>3</th>\n",
       "      <td>SMC01-T_AAACGGGAGGGAAACA</td>\n",
       "      <td>SMC01</td>\n",
       "      <td>Tumor</td>\n",
       "      <td>SMC01-T</td>\n",
       "      <td>Epithelial cells</td>\n",
       "      <td>CMS2</td>\n",
       "    </tr>\n",
       "    <tr>\n",
       "      <th>4</th>\n",
       "      <td>SMC01-T_AAACGGGGTATAGGTA</td>\n",
       "      <td>SMC01</td>\n",
       "      <td>Tumor</td>\n",
       "      <td>SMC01-T</td>\n",
       "      <td>Epithelial cells</td>\n",
       "      <td>CMS2</td>\n",
       "    </tr>\n",
       "    <tr>\n",
       "      <th>...</th>\n",
       "      <td>...</td>\n",
       "      <td>...</td>\n",
       "      <td>...</td>\n",
       "      <td>...</td>\n",
       "      <td>...</td>\n",
       "      <td>...</td>\n",
       "    </tr>\n",
       "    <tr>\n",
       "      <th>63684</th>\n",
       "      <td>SMC10-N_TCAGCTCGTAGCGTCC</td>\n",
       "      <td>SMC10</td>\n",
       "      <td>Normal</td>\n",
       "      <td>SMC10-N</td>\n",
       "      <td>Mast cells</td>\n",
       "      <td>Mast cells</td>\n",
       "    </tr>\n",
       "    <tr>\n",
       "      <th>63685</th>\n",
       "      <td>SMC10-N_TGACTAGCAGACGCAA</td>\n",
       "      <td>SMC10</td>\n",
       "      <td>Normal</td>\n",
       "      <td>SMC10-N</td>\n",
       "      <td>Mast cells</td>\n",
       "      <td>Mast cells</td>\n",
       "    </tr>\n",
       "    <tr>\n",
       "      <th>63686</th>\n",
       "      <td>SMC10-N_TGCTACCGTCTCCATC</td>\n",
       "      <td>SMC10</td>\n",
       "      <td>Normal</td>\n",
       "      <td>SMC10-N</td>\n",
       "      <td>Mast cells</td>\n",
       "      <td>Mast cells</td>\n",
       "    </tr>\n",
       "    <tr>\n",
       "      <th>63687</th>\n",
       "      <td>SMC10-N_TTTATGCAGTGTCTCA</td>\n",
       "      <td>SMC10</td>\n",
       "      <td>Normal</td>\n",
       "      <td>SMC10-N</td>\n",
       "      <td>Mast cells</td>\n",
       "      <td>Mast cells</td>\n",
       "    </tr>\n",
       "    <tr>\n",
       "      <th>63688</th>\n",
       "      <td>SMC10-N_TTTGGTTAGTGCCATT</td>\n",
       "      <td>SMC10</td>\n",
       "      <td>Normal</td>\n",
       "      <td>SMC10-N</td>\n",
       "      <td>Mast cells</td>\n",
       "      <td>Mast cells</td>\n",
       "    </tr>\n",
       "  </tbody>\n",
       "</table>\n",
       "<p>63689 rows × 6 columns</p>\n",
       "</div>"
      ],
      "text/plain": [
       "                          Index Patient   Class   Sample         Cell_type  \\\n",
       "0      SMC01-T_AAACCTGCATACGCCG   SMC01   Tumor  SMC01-T  Epithelial cells   \n",
       "1      SMC01-T_AAACCTGGTCGCATAT   SMC01   Tumor  SMC01-T  Epithelial cells   \n",
       "2      SMC01-T_AAACCTGTCCCTTGCA   SMC01   Tumor  SMC01-T  Epithelial cells   \n",
       "3      SMC01-T_AAACGGGAGGGAAACA   SMC01   Tumor  SMC01-T  Epithelial cells   \n",
       "4      SMC01-T_AAACGGGGTATAGGTA   SMC01   Tumor  SMC01-T  Epithelial cells   \n",
       "...                         ...     ...     ...      ...               ...   \n",
       "63684  SMC10-N_TCAGCTCGTAGCGTCC   SMC10  Normal  SMC10-N        Mast cells   \n",
       "63685  SMC10-N_TGACTAGCAGACGCAA   SMC10  Normal  SMC10-N        Mast cells   \n",
       "63686  SMC10-N_TGCTACCGTCTCCATC   SMC10  Normal  SMC10-N        Mast cells   \n",
       "63687  SMC10-N_TTTATGCAGTGTCTCA   SMC10  Normal  SMC10-N        Mast cells   \n",
       "63688  SMC10-N_TTTGGTTAGTGCCATT   SMC10  Normal  SMC10-N        Mast cells   \n",
       "\n",
       "      Cell_subtype  \n",
       "0             CMS2  \n",
       "1             CMS2  \n",
       "2             CMS2  \n",
       "3             CMS2  \n",
       "4             CMS2  \n",
       "...            ...  \n",
       "63684   Mast cells  \n",
       "63685   Mast cells  \n",
       "63686   Mast cells  \n",
       "63687   Mast cells  \n",
       "63688   Mast cells  \n",
       "\n",
       "[63689 rows x 6 columns]"
      ]
     },
     "execution_count": 114,
     "metadata": {},
     "output_type": "execute_result"
    }
   ],
   "source": [
    "## Meta Data\n",
    "meta=pd.read_csv(pth+\"GSE132465_GEO_processed_CRC_10X_cell_annotation.txt.gz\",sep='\\t')\n",
    "meta"
   ]
  },
  {
   "cell_type": "code",
   "execution_count": 115,
   "id": "16efd034-eb03-42ec-a449-4f8450f0e164",
   "metadata": {},
   "outputs": [],
   "source": [
    "## Calculate average proteasme score\n",
    "colon1_pd['Index']=colon1_pd.index\n",
    "norm=meta.merge(colon1_pd,on='Index')\n",
    "norm=avg_score(norm)\n",
    "\n",
    "colon1_raw['Index']=colon1_raw.index\n",
    "raw=meta.merge(colon1_raw,on='Index')\n",
    "raw=avg_score(raw)"
   ]
  },
  {
   "cell_type": "code",
   "execution_count": 116,
   "id": "5aa3ef22-b997-4961-9932-18145f177a27",
   "metadata": {},
   "outputs": [],
   "source": [
    "###selecting cells from 25% percentile for Figure 3\n",
    "colon_all.append(norm[norm['Const_proteasome']>norm['Const_proteasome'].quantile(0.5)])"
   ]
  },
  {
   "cell_type": "code",
   "execution_count": 36,
   "id": "19141d47-0835-4dde-92b9-5c45b6909e42",
   "metadata": {},
   "outputs": [],
   "source": [
    "## Consistency across cell annotation \n",
    "norm['Cell_type']=norm['Cell_type'].str.replace('T cells','T-cell')\n",
    "norm['Cell_type']=norm['Cell_type'].str.replace('Epithelial cells','Epithelial-cell')\n",
    "norm['Cell_type']=norm['Cell_type'].str.replace('B cells','B-cell')\n",
    "x=norm[['Index','Cell_type','Immunoproteasome','Const_proteasome']][norm['Class']=='Tumor']\n",
    "x.columns=['Sample','cell-type','Immunoproteasome','Const_proteasome']\n",
    "x['Tumour']='Colon1'\n",
    "combined_st.append(x)"
   ]
  },
  {
   "cell_type": "markdown",
   "id": "53a8bbcf-f23d-4af9-b8e0-e180c024d3be",
   "metadata": {},
   "source": [
    "#### Study 2\n",
    "https://doi.org/10.1038/s41588-020-0636-z<br>"
   ]
  },
  {
   "cell_type": "code",
   "execution_count": 23,
   "id": "1f37db6e-a163-4243-aa48-ecd2effe80fd",
   "metadata": {},
   "outputs": [],
   "source": [
    "colon2=sc.read_csv('GSE144735_processed_KUL3_CRC_10X_raw_UMI_count_matrix.txt.gz',delimiter=\"\\t\")\n",
    "colon2=colon2.transpose()"
   ]
  },
  {
   "cell_type": "code",
   "execution_count": 24,
   "id": "ae07a5e3-38ec-4605-9ffb-82d4e7ad64f5",
   "metadata": {},
   "outputs": [],
   "source": [
    "## creating raw and normalized data for plotting\n",
    "colon2_pd,colon2_raw=filt(colon2, 'csv')"
   ]
  },
  {
   "cell_type": "code",
   "execution_count": 117,
   "id": "037ce613-9ac0-430c-9be7-b03afd8fc9fc",
   "metadata": {},
   "outputs": [
    {
     "data": {
      "text/html": [
       "<div>\n",
       "<style scoped>\n",
       "    .dataframe tbody tr th:only-of-type {\n",
       "        vertical-align: middle;\n",
       "    }\n",
       "\n",
       "    .dataframe tbody tr th {\n",
       "        vertical-align: top;\n",
       "    }\n",
       "\n",
       "    .dataframe thead th {\n",
       "        text-align: right;\n",
       "    }\n",
       "</style>\n",
       "<table border=\"1\" class=\"dataframe\">\n",
       "  <thead>\n",
       "    <tr style=\"text-align: right;\">\n",
       "      <th></th>\n",
       "      <th>Index</th>\n",
       "      <th>Patient</th>\n",
       "      <th>Class</th>\n",
       "      <th>Sample</th>\n",
       "      <th>Cell_type</th>\n",
       "      <th>Cell_subtype</th>\n",
       "    </tr>\n",
       "  </thead>\n",
       "  <tbody>\n",
       "    <tr>\n",
       "      <th>0</th>\n",
       "      <td>KUL01-T_AAACCTGGTCTTTCAT</td>\n",
       "      <td>KUL01</td>\n",
       "      <td>Tumor</td>\n",
       "      <td>KUL01-T</td>\n",
       "      <td>Epithelial cells</td>\n",
       "      <td>CMS1</td>\n",
       "    </tr>\n",
       "    <tr>\n",
       "      <th>1</th>\n",
       "      <td>KUL01-T_AAACGGGTCGGTTAAC</td>\n",
       "      <td>KUL01</td>\n",
       "      <td>Tumor</td>\n",
       "      <td>KUL01-T</td>\n",
       "      <td>Epithelial cells</td>\n",
       "      <td>CMS3</td>\n",
       "    </tr>\n",
       "    <tr>\n",
       "      <th>2</th>\n",
       "      <td>KUL01-T_AAAGATGGTATAGGGC</td>\n",
       "      <td>KUL01</td>\n",
       "      <td>Tumor</td>\n",
       "      <td>KUL01-T</td>\n",
       "      <td>Epithelial cells</td>\n",
       "      <td>CMS3</td>\n",
       "    </tr>\n",
       "    <tr>\n",
       "      <th>3</th>\n",
       "      <td>KUL01-T_AAAGATGGTGGCCCTA</td>\n",
       "      <td>KUL01</td>\n",
       "      <td>Tumor</td>\n",
       "      <td>KUL01-T</td>\n",
       "      <td>Epithelial cells</td>\n",
       "      <td>CMS1</td>\n",
       "    </tr>\n",
       "    <tr>\n",
       "      <th>4</th>\n",
       "      <td>KUL01-T_AAAGCAAGTAAACACA</td>\n",
       "      <td>KUL01</td>\n",
       "      <td>Tumor</td>\n",
       "      <td>KUL01-T</td>\n",
       "      <td>Epithelial cells</td>\n",
       "      <td>CMS3</td>\n",
       "    </tr>\n",
       "  </tbody>\n",
       "</table>\n",
       "</div>"
      ],
      "text/plain": [
       "                      Index Patient  Class   Sample         Cell_type  \\\n",
       "0  KUL01-T_AAACCTGGTCTTTCAT   KUL01  Tumor  KUL01-T  Epithelial cells   \n",
       "1  KUL01-T_AAACGGGTCGGTTAAC   KUL01  Tumor  KUL01-T  Epithelial cells   \n",
       "2  KUL01-T_AAAGATGGTATAGGGC   KUL01  Tumor  KUL01-T  Epithelial cells   \n",
       "3  KUL01-T_AAAGATGGTGGCCCTA   KUL01  Tumor  KUL01-T  Epithelial cells   \n",
       "4  KUL01-T_AAAGCAAGTAAACACA   KUL01  Tumor  KUL01-T  Epithelial cells   \n",
       "\n",
       "  Cell_subtype  \n",
       "0         CMS1  \n",
       "1         CMS3  \n",
       "2         CMS3  \n",
       "3         CMS1  \n",
       "4         CMS3  "
      ]
     },
     "execution_count": 117,
     "metadata": {},
     "output_type": "execute_result"
    }
   ],
   "source": [
    "## Meta Data\n",
    "meta=pd.read_csv(pth+\"/GSE144735_processed_KUL3_CRC_10X_annotation.txt.gz\",sep='\\t')\n",
    "#meta['region']=meta['Sample'].str.slice(-1)\n",
    "meta.head()"
   ]
  },
  {
   "cell_type": "code",
   "execution_count": 118,
   "id": "c2120838-743e-4bdd-abbb-2b74834f1d49",
   "metadata": {},
   "outputs": [],
   "source": [
    "## Calculate average proteasme score\n",
    "colon2_pd['Index']=colon2_pd.index\n",
    "norm=meta.merge(colon2_pd,on='Index')\n",
    "norm=avg_score(norm)\n",
    "\n",
    "colon2_raw['Index']=colon2_raw.index\n",
    "raw=meta.merge(colon2_raw,on='Index')\n",
    "raw=avg_score(raw)"
   ]
  },
  {
   "cell_type": "code",
   "execution_count": 119,
   "id": "91de58e5-169d-4323-bd22-989c19e5eabc",
   "metadata": {},
   "outputs": [],
   "source": [
    "temp2=pd.melt(raw[(raw['Class']!='Normal')&(raw['Cell_type']=='Epithelial cells')], id_vars=[ 'Class', 'Cell_type'], value_vars=['Const_proteasome','Immunoproteasome'])\n",
    "###selecting cells from 25% percentile for Figure 3\n",
    "colon_all.append(norm[norm['Const_proteasome']>norm['Const_proteasome'].quantile(0.5)])"
   ]
  },
  {
   "cell_type": "code",
   "execution_count": 39,
   "id": "a57ce848-bea9-4ab9-b01d-f3fe1fff917f",
   "metadata": {},
   "outputs": [],
   "source": [
    "norm.Cell_type.unique()\n",
    "norm['Cell_type']=norm['Cell_type'].str.replace('T cells','T-cell')\n",
    "norm['Cell_type']=norm['Cell_type'].str.replace('Epithelial cells','Epithelial-cell')\n",
    "norm['Cell_type']=norm['Cell_type'].str.replace('B cells','B-cell')\n",
    "x=norm[['Index','Cell_type','Immunoproteasome','Const_proteasome']][norm['Class']=='Tumor']\n",
    "x.columns=['Sample','cell-type','Immunoproteasome','Const_proteasome']\n",
    "x['Tumour']='Colon2'\n",
    "combined_st.append(x)"
   ]
  },
  {
   "cell_type": "code",
   "execution_count": 122,
   "id": "6325051d-e317-461b-9bc7-a452a6131dae",
   "metadata": {},
   "outputs": [],
   "source": [
    "temp2.to_csv(results+'colon2_border.csv')\n",
    "pd.concat(colon_all).to_csv(results+'colon_all.csv')"
   ]
  },
  {
   "cell_type": "markdown",
   "id": "66e07a36-db64-4546-882d-e0914a28dd35",
   "metadata": {},
   "source": [
    "### Prostate Cancer "
   ]
  },
  {
   "cell_type": "code",
   "execution_count": 40,
   "id": "bd9a0a33-5c9c-451a-8066-3cc28e087189",
   "metadata": {},
   "outputs": [],
   "source": [
    "pros = sc.read_10x_mtx(\n",
    "    'Prostate/',  \n",
    "    var_names='gene_symbols', # the directory with the `.mtx` file                # use gene symbols for the variable names (variables-axis index)\n",
    "    cache=True)  "
   ]
  },
  {
   "cell_type": "code",
   "execution_count": 41,
   "id": "cd34aa0e-2b4b-497b-ac21-57e035852f9b",
   "metadata": {},
   "outputs": [],
   "source": [
    "pros_pd,pros_raw=filt(pros,'sparse')"
   ]
  },
  {
   "cell_type": "code",
   "execution_count": 42,
   "id": "b4247942-45b8-4f07-9523-d0fb33332336",
   "metadata": {},
   "outputs": [],
   "source": [
    "meta= pd.read_csv(pth+\"Prostate_meta.csv\")"
   ]
  },
  {
   "cell_type": "code",
   "execution_count": 43,
   "id": "38fdb6ef-8df0-410e-aa81-e2f6c625ffd3",
   "metadata": {},
   "outputs": [],
   "source": [
    "pros_pd['cell_name']=pros_pd.index\n",
    "norm=meta.merge(pros_pd,on='cell_name')\n",
    "norm=avg_score(norm)\n",
    "\n",
    "pros_raw['cell_name']=pros_raw.index\n",
    "raw=meta.merge(pros_raw,on='cell_name')\n",
    "raw=avg_score(raw)"
   ]
  },
  {
   "cell_type": "code",
   "execution_count": 45,
   "id": "3c4b0c22-828d-4c07-a867-ddd6054fa09a",
   "metadata": {},
   "outputs": [
    {
     "data": {
      "text/plain": [
       "array(['Epithelial', 'Malignant', nan, 'Fibroblast', 'Endothelial',\n",
       "       'Lymphoid', 'Myeloid'], dtype=object)"
      ]
     },
     "execution_count": 45,
     "metadata": {},
     "output_type": "execute_result"
    }
   ],
   "source": [
    "norm['cell_type'].unique()"
   ]
  },
  {
   "cell_type": "code",
   "execution_count": 46,
   "id": "151e50e4-40b7-4a2b-b9b6-7b40afda3f96",
   "metadata": {},
   "outputs": [
    {
     "name": "stderr",
     "output_type": "stream",
     "text": [
      "/home/sabari/dbhavya/miniconda3/envs/single-cell/lib/python3.7/site-packages/ipykernel_launcher.py:4: SettingWithCopyWarning: \n",
      "A value is trying to be set on a copy of a slice from a DataFrame.\n",
      "Try using .loc[row_indexer,col_indexer] = value instead\n",
      "\n",
      "See the caveats in the documentation: https://pandas.pydata.org/pandas-docs/stable/user_guide/indexing.html#returning-a-view-versus-a-copy\n",
      "  after removing the cwd from sys.path.\n"
     ]
    }
   ],
   "source": [
    "norm['cell_type']=norm['cell_type'].str.replace('Malignant','Epithelial-cell')\n",
    "x=norm[['cell_name','cell_type','Immunoproteasome','Const_proteasome']]\n",
    "x.columns=['Sample','cell-type','Immunoproteasome','Const_proteasome']\n",
    "x['Tumour']='Prostate'\n",
    "combined_st.append(x)"
   ]
  },
  {
   "cell_type": "markdown",
   "id": "34c40367-7c17-4e1a-a375-8d1390402ed0",
   "metadata": {},
   "source": [
    "### Liver Cancer "
   ]
  },
  {
   "cell_type": "markdown",
   "id": "60255e20-a325-4727-9b96-bacbfbd50c52",
   "metadata": {},
   "source": [
    "Data already normalized by log2 (TPM + 1) <br>\n",
    "https://doi.org/10.1016/j.cell.2020.11.041"
   ]
  },
  {
   "cell_type": "code",
   "execution_count": 47,
   "id": "08d8246b-8d22-4f3f-86b6-2d3740036919",
   "metadata": {},
   "outputs": [],
   "source": [
    "liver = sc.read_10x_mtx(\n",
    "    'LIver/',  \n",
    "    var_names='gene_symbols', # the directory with the `.mtx` file                # use gene symbols for the variable names (variables-axis index)\n",
    "    cache=True)  "
   ]
  },
  {
   "cell_type": "code",
   "execution_count": 48,
   "id": "8020decb-4014-4563-a953-c17dad8e5d8a",
   "metadata": {},
   "outputs": [],
   "source": [
    "liver_pd,liver_raw=filt(liver,'sparse')"
   ]
  },
  {
   "cell_type": "code",
   "execution_count": 49,
   "id": "0eb8685c-fc0c-48f3-94a9-cdc6283c3627",
   "metadata": {},
   "outputs": [],
   "source": [
    "meta=pd.read_csv(pth+\"Liver_meta.txt\",sep=\" \")"
   ]
  },
  {
   "cell_type": "markdown",
   "id": "c62514f7-cd54-40ff-b018-0f9d486f88a6",
   "metadata": {},
   "source": [
    " Liver data is already in Log2(TPM+1). So the raw dataframe is converted to antilog for further calculations"
   ]
  },
  {
   "cell_type": "code",
   "execution_count": 50,
   "id": "f145dc2d-5798-4931-99d9-1248c6dcae11",
   "metadata": {},
   "outputs": [],
   "source": [
    "liver_counts=(2**liver_raw)-1"
   ]
  },
  {
   "cell_type": "code",
   "execution_count": 51,
   "id": "2f786c74-d737-4807-999e-b77248b284a0",
   "metadata": {},
   "outputs": [],
   "source": [
    "liver_counts['cell_name']=liver_counts.index\n",
    "norm=meta.merge(liver_counts,on='cell_name')\n",
    "norm=avg_score(norm)"
   ]
  },
  {
   "cell_type": "code",
   "execution_count": 52,
   "id": "1767b1d9-a67e-4603-b8ce-9ecbe67b47f7",
   "metadata": {},
   "outputs": [],
   "source": [
    "norm.to_csv(results+\"liver_score.csv\")"
   ]
  },
  {
   "cell_type": "code",
   "execution_count": 53,
   "id": "2b0dd769-36f7-4086-a024-902e4da70db5",
   "metadata": {},
   "outputs": [
    {
     "data": {
      "text/html": [
       "<div>\n",
       "<style scoped>\n",
       "    .dataframe tbody tr th:only-of-type {\n",
       "        vertical-align: middle;\n",
       "    }\n",
       "\n",
       "    .dataframe tbody tr th {\n",
       "        vertical-align: top;\n",
       "    }\n",
       "\n",
       "    .dataframe thead th {\n",
       "        text-align: right;\n",
       "    }\n",
       "</style>\n",
       "<table border=\"1\" class=\"dataframe\">\n",
       "  <thead>\n",
       "    <tr style=\"text-align: right;\">\n",
       "      <th></th>\n",
       "      <th>index</th>\n",
       "      <th>cell_name</th>\n",
       "      <th>sample</th>\n",
       "      <th>source</th>\n",
       "      <th>disease</th>\n",
       "      <th>cell_type</th>\n",
       "      <th>malignant</th>\n",
       "      <th>cell_subtype_clusters</th>\n",
       "      <th>PSMB5</th>\n",
       "      <th>PSMB6</th>\n",
       "      <th>PSMB7</th>\n",
       "      <th>PSMB8</th>\n",
       "      <th>PSMB9</th>\n",
       "      <th>PSMB10</th>\n",
       "      <th>PTPRC</th>\n",
       "      <th>Immunoproteasome</th>\n",
       "      <th>Const_proteasome</th>\n",
       "    </tr>\n",
       "  </thead>\n",
       "  <tbody>\n",
       "    <tr>\n",
       "      <th>0</th>\n",
       "      <td>1</td>\n",
       "      <td>P01_T_0001</td>\n",
       "      <td>P01</td>\n",
       "      <td>Tumor</td>\n",
       "      <td>Relapsed_HCC</td>\n",
       "      <td>Malignant</td>\n",
       "      <td>yes</td>\n",
       "      <td>C10_Tumor</td>\n",
       "      <td>42.411339</td>\n",
       "      <td>0.205808</td>\n",
       "      <td>0.672493</td>\n",
       "      <td>0.027544</td>\n",
       "      <td>0.193336</td>\n",
       "      <td>0.041238</td>\n",
       "      <td>0.048045</td>\n",
       "      <td>0.117500</td>\n",
       "      <td>2.150667</td>\n",
       "    </tr>\n",
       "    <tr>\n",
       "      <th>1</th>\n",
       "      <td>2</td>\n",
       "      <td>P01_T_0003</td>\n",
       "      <td>P01</td>\n",
       "      <td>Tumor</td>\n",
       "      <td>Relapsed_HCC</td>\n",
       "      <td>Malignant</td>\n",
       "      <td>yes</td>\n",
       "      <td>C10_Tumor</td>\n",
       "      <td>0.068287</td>\n",
       "      <td>70.012451</td>\n",
       "      <td>61.249920</td>\n",
       "      <td>0.041238</td>\n",
       "      <td>0.095052</td>\n",
       "      <td>0.068287</td>\n",
       "      <td>0.020729</td>\n",
       "      <td>0.094867</td>\n",
       "      <td>4.068433</td>\n",
       "    </tr>\n",
       "    <tr>\n",
       "      <th>2</th>\n",
       "      <td>3</td>\n",
       "      <td>P01_T_0004</td>\n",
       "      <td>P01</td>\n",
       "      <td>Tumor</td>\n",
       "      <td>Relapsed_HCC</td>\n",
       "      <td>NK_cell</td>\n",
       "      <td>no</td>\n",
       "      <td>C4_NK</td>\n",
       "      <td>0.068287</td>\n",
       "      <td>0.244012</td>\n",
       "      <td>139.069611</td>\n",
       "      <td>78.893166</td>\n",
       "      <td>0.269271</td>\n",
       "      <td>74.583519</td>\n",
       "      <td>40.642944</td>\n",
       "      <td>4.301333</td>\n",
       "      <td>2.513433</td>\n",
       "    </tr>\n",
       "    <tr>\n",
       "      <th>3</th>\n",
       "      <td>4</td>\n",
       "      <td>P01_T_0007</td>\n",
       "      <td>P01</td>\n",
       "      <td>Tumor</td>\n",
       "      <td>Relapsed_HCC</td>\n",
       "      <td>Malignant</td>\n",
       "      <td>yes</td>\n",
       "      <td>C10_Tumor</td>\n",
       "      <td>0.167158</td>\n",
       "      <td>0.034404</td>\n",
       "      <td>0.027544</td>\n",
       "      <td>0.000000</td>\n",
       "      <td>0.020729</td>\n",
       "      <td>0.034404</td>\n",
       "      <td>0.000000</td>\n",
       "      <td>0.026133</td>\n",
       "      <td>0.103667</td>\n",
       "    </tr>\n",
       "    <tr>\n",
       "      <th>4</th>\n",
       "      <td>5</td>\n",
       "      <td>P01_T_0008</td>\n",
       "      <td>P01</td>\n",
       "      <td>Tumor</td>\n",
       "      <td>Relapsed_HCC</td>\n",
       "      <td>Endothelial</td>\n",
       "      <td>no</td>\n",
       "      <td>C17_Endo.</td>\n",
       "      <td>0.034404</td>\n",
       "      <td>0.379361</td>\n",
       "      <td>0.173648</td>\n",
       "      <td>14.032365</td>\n",
       "      <td>0.212513</td>\n",
       "      <td>0.000000</td>\n",
       "      <td>0.054822</td>\n",
       "      <td>1.396000</td>\n",
       "      <td>0.247933</td>\n",
       "    </tr>\n",
       "  </tbody>\n",
       "</table>\n",
       "</div>"
      ],
      "text/plain": [
       "   index   cell_name sample source       disease    cell_type malignant  \\\n",
       "0      1  P01_T_0001    P01  Tumor  Relapsed_HCC    Malignant       yes   \n",
       "1      2  P01_T_0003    P01  Tumor  Relapsed_HCC    Malignant       yes   \n",
       "2      3  P01_T_0004    P01  Tumor  Relapsed_HCC      NK_cell        no   \n",
       "3      4  P01_T_0007    P01  Tumor  Relapsed_HCC    Malignant       yes   \n",
       "4      5  P01_T_0008    P01  Tumor  Relapsed_HCC  Endothelial        no   \n",
       "\n",
       "  cell_subtype_clusters      PSMB5      PSMB6       PSMB7      PSMB8  \\\n",
       "0             C10_Tumor  42.411339   0.205808    0.672493   0.027544   \n",
       "1             C10_Tumor   0.068287  70.012451   61.249920   0.041238   \n",
       "2                 C4_NK   0.068287   0.244012  139.069611  78.893166   \n",
       "3             C10_Tumor   0.167158   0.034404    0.027544   0.000000   \n",
       "4             C17_Endo.   0.034404   0.379361    0.173648  14.032365   \n",
       "\n",
       "      PSMB9     PSMB10      PTPRC  Immunoproteasome  Const_proteasome  \n",
       "0  0.193336   0.041238   0.048045          0.117500          2.150667  \n",
       "1  0.095052   0.068287   0.020729          0.094867          4.068433  \n",
       "2  0.269271  74.583519  40.642944          4.301333          2.513433  \n",
       "3  0.020729   0.034404   0.000000          0.026133          0.103667  \n",
       "4  0.212513   0.000000   0.054822          1.396000          0.247933  "
      ]
     },
     "execution_count": 53,
     "metadata": {},
     "output_type": "execute_result"
    }
   ],
   "source": [
    "norm.head()"
   ]
  },
  {
   "cell_type": "code",
   "execution_count": 54,
   "id": "fc000bb9-2e83-4cec-a097-56e259128296",
   "metadata": {},
   "outputs": [
    {
     "data": {
      "text/plain": [
       "array(['Malignant', 'NK_cell', 'Endothelial', 'Myeloid', 'T_cell', 'HSC',\n",
       "       'Plasma', 'B_cell', 'Dendritic', 'Epithelial'], dtype=object)"
      ]
     },
     "execution_count": 54,
     "metadata": {},
     "output_type": "execute_result"
    }
   ],
   "source": [
    "norm['cell_type'].unique()"
   ]
  },
  {
   "cell_type": "code",
   "execution_count": 55,
   "id": "63baf65b-be6a-4560-bb47-b38b0ece1389",
   "metadata": {},
   "outputs": [
    {
     "name": "stderr",
     "output_type": "stream",
     "text": [
      "/home/sabari/dbhavya/miniconda3/envs/single-cell/lib/python3.7/site-packages/ipykernel_launcher.py:6: SettingWithCopyWarning: \n",
      "A value is trying to be set on a copy of a slice from a DataFrame.\n",
      "Try using .loc[row_indexer,col_indexer] = value instead\n",
      "\n",
      "See the caveats in the documentation: https://pandas.pydata.org/pandas-docs/stable/user_guide/indexing.html#returning-a-view-versus-a-copy\n",
      "  \n"
     ]
    }
   ],
   "source": [
    "norm['cell_type']=norm['cell_type'].str.replace('Malignant','Epithelial-cell')\n",
    "norm['cell_type']=norm['cell_type'].str.replace('T_cell','T-cell')\n",
    "norm['cell_type']=norm['cell_type'].str.replace('B_cell','B-cell')\n",
    "x=norm[['cell_name','cell_type','Immunoproteasome','Const_proteasome']]\n",
    "x.columns=['Sample','cell-type','Immunoproteasome','Const_proteasome']\n",
    "x['Tumour']='Liver'\n",
    "combined_st.append(x)"
   ]
  },
  {
   "cell_type": "markdown",
   "id": "39f56dee-d9e7-415b-9031-b4af71f968fe",
   "metadata": {},
   "source": [
    "### Pancreas Cancer "
   ]
  },
  {
   "cell_type": "code",
   "execution_count": 56,
   "id": "bc8afcf4-5f9b-45de-acf8-b04d075f6e5f",
   "metadata": {},
   "outputs": [],
   "source": [
    "pnc = sc.read_10x_mtx(\n",
    "    'Pancreas/',  \n",
    "    var_names='gene_symbols', # the directory with the `.mtx` file                # use gene symbols for the variable names (variables-axis index)\n",
    "    cache=True)  "
   ]
  },
  {
   "cell_type": "code",
   "execution_count": 57,
   "id": "c8b0c7fd-1102-441e-bb2d-f2caa2165e1c",
   "metadata": {},
   "outputs": [],
   "source": [
    "pnc_pd,pnc_raw=filt(pnc,'sparse')"
   ]
  },
  {
   "cell_type": "code",
   "execution_count": 58,
   "id": "264e796b-03c1-4320-8c0b-8ed5462b40dd",
   "metadata": {},
   "outputs": [
    {
     "name": "stderr",
     "output_type": "stream",
     "text": [
      "/home/sabari/dbhavya/miniconda3/envs/single-cell/lib/python3.7/site-packages/ipykernel_launcher.py:3: SettingWithCopyWarning: \n",
      "A value is trying to be set on a copy of a slice from a DataFrame\n",
      "\n",
      "See the caveats in the documentation: https://pandas.pydata.org/pandas-docs/stable/user_guide/indexing.html#returning-a-view-versus-a-copy\n",
      "  This is separate from the ipykernel package so we can avoid doing imports until\n"
     ]
    }
   ],
   "source": [
    "meta=pd.read_csv(pth+\"Pancreas_meta.txt\",sep=\" \")\n",
    "meta['Type']='Metastasis'\n",
    "meta['Type'][meta['sample'].str.contains(\"P0\")]='Primary'"
   ]
  },
  {
   "cell_type": "code",
   "execution_count": 59,
   "id": "c15b2126-6a8b-4ca9-a91a-ee50003cf1cf",
   "metadata": {},
   "outputs": [],
   "source": [
    " ## Calculate average proteasme score\n",
    "pnc_pd['cell_name']=pnc_pd.index\n",
    "norm=meta.merge(pnc_pd,on='cell_name')\n",
    "norm=avg_score(norm)\n",
    "\n",
    "pnc_raw['cell_name']=pnc_raw.index\n",
    "raw=meta.merge(pnc_raw,on='cell_name')\n",
    "raw=avg_score(raw)"
   ]
  },
  {
   "cell_type": "code",
   "execution_count": 61,
   "id": "d08d1753-097a-42e0-8555-16f1f0725b77",
   "metadata": {},
   "outputs": [],
   "source": [
    " ## Calculate average proteasme score\n",
    "pnc_pd['cell_name']=pnc_pd.index\n",
    "norm=meta.merge(pnc_pd,on='cell_name')\n",
    "norm=avg_score(norm)\n",
    "\n",
    "pnc_raw['cell_name']=pnc_raw.index\n",
    "raw=meta.merge(pnc_raw,on='cell_name')\n",
    "raw=avg_score(raw)"
   ]
  },
  {
   "cell_type": "code",
   "execution_count": 62,
   "id": "c922e02a-eb99-4239-a2e6-981d2f25203b",
   "metadata": {},
   "outputs": [
    {
     "data": {
      "text/plain": [
       "array(['EMT', 'Fibroblast', 'Macrophage', 'Endothelial', 'ETC', 'TIL'],\n",
       "      dtype=object)"
      ]
     },
     "execution_count": 62,
     "metadata": {},
     "output_type": "execute_result"
    }
   ],
   "source": [
    "norm['cell_type'].unique()"
   ]
  },
  {
   "cell_type": "code",
   "execution_count": 63,
   "id": "de4dfff2-40ea-4628-8292-389f4f6d37f1",
   "metadata": {},
   "outputs": [
    {
     "data": {
      "text/html": [
       "<div>\n",
       "<style scoped>\n",
       "    .dataframe tbody tr th:only-of-type {\n",
       "        vertical-align: middle;\n",
       "    }\n",
       "\n",
       "    .dataframe tbody tr th {\n",
       "        vertical-align: top;\n",
       "    }\n",
       "\n",
       "    .dataframe thead th {\n",
       "        text-align: right;\n",
       "    }\n",
       "</style>\n",
       "<table border=\"1\" class=\"dataframe\">\n",
       "  <thead>\n",
       "    <tr style=\"text-align: right;\">\n",
       "      <th></th>\n",
       "      <th>index</th>\n",
       "      <th>cell_name</th>\n",
       "      <th>sample</th>\n",
       "      <th>cell_type</th>\n",
       "      <th>malignant</th>\n",
       "      <th>Type</th>\n",
       "      <th>PSMB5</th>\n",
       "      <th>PSMB6</th>\n",
       "      <th>PSMB7</th>\n",
       "      <th>PSMB8</th>\n",
       "      <th>PSMB9</th>\n",
       "      <th>PSMB10</th>\n",
       "      <th>PTPRC</th>\n",
       "      <th>Immunoproteasome</th>\n",
       "      <th>Const_proteasome</th>\n",
       "    </tr>\n",
       "  </thead>\n",
       "  <tbody>\n",
       "    <tr>\n",
       "      <th>0</th>\n",
       "      <td>1</td>\n",
       "      <td>P03:1</td>\n",
       "      <td>P03</td>\n",
       "      <td>EMT</td>\n",
       "      <td>yes</td>\n",
       "      <td>Primary</td>\n",
       "      <td>2.644803</td>\n",
       "      <td>2.644803</td>\n",
       "      <td>2.644803</td>\n",
       "      <td>2.644803</td>\n",
       "      <td>0.000000</td>\n",
       "      <td>0.000000</td>\n",
       "      <td>0.0</td>\n",
       "      <td>0.621947</td>\n",
       "      <td>1.865841</td>\n",
       "    </tr>\n",
       "    <tr>\n",
       "      <th>1</th>\n",
       "      <td>2</td>\n",
       "      <td>P03:2</td>\n",
       "      <td>P03</td>\n",
       "      <td>EMT</td>\n",
       "      <td>yes</td>\n",
       "      <td>Primary</td>\n",
       "      <td>0.000000</td>\n",
       "      <td>0.000000</td>\n",
       "      <td>0.000000</td>\n",
       "      <td>0.000000</td>\n",
       "      <td>0.000000</td>\n",
       "      <td>0.000000</td>\n",
       "      <td>0.0</td>\n",
       "      <td>0.000000</td>\n",
       "      <td>0.000000</td>\n",
       "    </tr>\n",
       "    <tr>\n",
       "      <th>2</th>\n",
       "      <td>3</td>\n",
       "      <td>P03:3</td>\n",
       "      <td>P03</td>\n",
       "      <td>EMT</td>\n",
       "      <td>yes</td>\n",
       "      <td>Primary</td>\n",
       "      <td>0.000000</td>\n",
       "      <td>0.000000</td>\n",
       "      <td>0.000000</td>\n",
       "      <td>9.212345</td>\n",
       "      <td>0.000000</td>\n",
       "      <td>0.000000</td>\n",
       "      <td>0.0</td>\n",
       "      <td>1.117414</td>\n",
       "      <td>0.000000</td>\n",
       "    </tr>\n",
       "    <tr>\n",
       "      <th>3</th>\n",
       "      <td>4</td>\n",
       "      <td>P03:4</td>\n",
       "      <td>P03</td>\n",
       "      <td>Fibroblast</td>\n",
       "      <td>no</td>\n",
       "      <td>Primary</td>\n",
       "      <td>2.883506</td>\n",
       "      <td>2.883506</td>\n",
       "      <td>0.000000</td>\n",
       "      <td>2.883506</td>\n",
       "      <td>2.883506</td>\n",
       "      <td>2.883506</td>\n",
       "      <td>0.0</td>\n",
       "      <td>1.957360</td>\n",
       "      <td>1.304907</td>\n",
       "    </tr>\n",
       "    <tr>\n",
       "      <th>4</th>\n",
       "      <td>5</td>\n",
       "      <td>P03:5</td>\n",
       "      <td>P03</td>\n",
       "      <td>EMT</td>\n",
       "      <td>yes</td>\n",
       "      <td>Primary</td>\n",
       "      <td>0.000000</td>\n",
       "      <td>0.000000</td>\n",
       "      <td>0.000000</td>\n",
       "      <td>1.631321</td>\n",
       "      <td>1.631321</td>\n",
       "      <td>1.631321</td>\n",
       "      <td>0.0</td>\n",
       "      <td>1.395787</td>\n",
       "      <td>0.000000</td>\n",
       "    </tr>\n",
       "  </tbody>\n",
       "</table>\n",
       "</div>"
      ],
      "text/plain": [
       "   index cell_name sample   cell_type malignant     Type     PSMB5     PSMB6  \\\n",
       "0      1     P03:1    P03         EMT       yes  Primary  2.644803  2.644803   \n",
       "1      2     P03:2    P03         EMT       yes  Primary  0.000000  0.000000   \n",
       "2      3     P03:3    P03         EMT       yes  Primary  0.000000  0.000000   \n",
       "3      4     P03:4    P03  Fibroblast        no  Primary  2.883506  2.883506   \n",
       "4      5     P03:5    P03         EMT       yes  Primary  0.000000  0.000000   \n",
       "\n",
       "      PSMB7     PSMB8     PSMB9    PSMB10  PTPRC  Immunoproteasome  \\\n",
       "0  2.644803  2.644803  0.000000  0.000000    0.0          0.621947   \n",
       "1  0.000000  0.000000  0.000000  0.000000    0.0          0.000000   \n",
       "2  0.000000  9.212345  0.000000  0.000000    0.0          1.117414   \n",
       "3  0.000000  2.883506  2.883506  2.883506    0.0          1.957360   \n",
       "4  0.000000  1.631321  1.631321  1.631321    0.0          1.395787   \n",
       "\n",
       "   Const_proteasome  \n",
       "0          1.865841  \n",
       "1          0.000000  \n",
       "2          0.000000  \n",
       "3          1.304907  \n",
       "4          0.000000  "
      ]
     },
     "execution_count": 63,
     "metadata": {},
     "output_type": "execute_result"
    }
   ],
   "source": [
    "norm.head()"
   ]
  },
  {
   "cell_type": "code",
   "execution_count": 64,
   "id": "b19e11cd-59df-4404-8293-ece186e0ca31",
   "metadata": {},
   "outputs": [],
   "source": [
    "norm['cell_type']=norm['cell_type'].str.replace('ETC','Epithelial-cell')\n",
    "x=norm[['cell_name','cell_type','Immunoproteasome','Const_proteasome']][(norm['malignant']=='yes')&(norm['Type']=='Primary')]\n",
    "x.columns=['Sample','cell-type','Immunoproteasome','Const_proteasome']\n",
    "x['Tumour']='Pancreas'\n",
    "combined_st.append(x)"
   ]
  },
  {
   "cell_type": "markdown",
   "id": "623dfa12-2707-4c1c-8cc0-59ec2b38d67f",
   "metadata": {},
   "source": [
    "### Lung Cancer "
   ]
  },
  {
   "cell_type": "code",
   "execution_count": 65,
   "id": "7fa3f45f-0aca-4eea-8b75-07aac16245de",
   "metadata": {},
   "outputs": [],
   "source": [
    "lcs = sc.read_10x_mtx(\n",
    "    'LC_counts/',  # the directory with the `.mtx` file\n",
    "    var_names='gene_symbols',                # use gene symbols for the variable names (variables-axis index)\n",
    "    cache=True) "
   ]
  },
  {
   "cell_type": "code",
   "execution_count": 66,
   "id": "2caa1635-c70c-48f1-b027-6b9f9afe6763",
   "metadata": {},
   "outputs": [],
   "source": [
    "lc_pd,lc_raw=filt(lcs,'sparse')"
   ]
  },
  {
   "cell_type": "code",
   "execution_count": 67,
   "id": "1f22e34c-391a-458b-926c-a13d254644e6",
   "metadata": {},
   "outputs": [],
   "source": [
    "meta=pd.read_csv(pth+\"Lung_metadata.csv.gz\")"
   ]
  },
  {
   "cell_type": "code",
   "execution_count": 68,
   "id": "1d931d78-04f5-4901-b646-80b96be8d01e",
   "metadata": {},
   "outputs": [],
   "source": [
    "lc_pd['Cell']=lc_pd.index\n",
    "norm=meta.merge(lc_pd,on='Cell')\n",
    "norm=avg_score(norm)\n",
    "\n",
    "lc_raw['Cell']=lc_pd.index\n",
    "raw=meta.merge(lc_raw,on='Cell')\n",
    "raw=avg_score(raw)"
   ]
  },
  {
   "cell_type": "code",
   "execution_count": 70,
   "id": "fb148eae-188e-46b5-8dd9-05a7334e9aed",
   "metadata": {},
   "outputs": [],
   "source": [
    "## Consistency across cell annotation \n",
    "norm.CellType.unique()\n",
    "norm['CellType']=norm['CellType'].str.replace('T_cell','T-cell')\n",
    "norm['CellType']=norm['CellType'].str.replace('Cancer','Epithelial-cell')\n",
    "norm['CellType']=norm['CellType'].str.replace('B_cell','B-cell')\n",
    "x=norm[['Cell','CellType','Immunoproteasome','Const_proteasome']][norm['CellFromTumor']==True] ## Only tumour population selected\n",
    "x.columns=['Sample','cell-type','Immunoproteasome','Const_proteasome']\n",
    "x['Tumour']='Lung'\n",
    "combined_st.append(x)"
   ]
  },
  {
   "cell_type": "markdown",
   "id": "6552c9c3-00ac-469a-a447-595c42ec7710",
   "metadata": {},
   "source": [
    "### Kidney Cancer "
   ]
  },
  {
   "cell_type": "code",
   "execution_count": 71,
   "id": "b8f7c929-2cd0-4ab5-abc5-9f0b6b115950",
   "metadata": {},
   "outputs": [],
   "source": [
    "kid = sc.read_10x_mtx(\n",
    "    'KIdney/',  \n",
    "    var_names='gene_symbols', # the directory with the `.mtx` file                # use gene symbols for the variable names (variables-axis index)\n",
    "    cache=True)  "
   ]
  },
  {
   "cell_type": "code",
   "execution_count": 72,
   "id": "8057b100-a8bb-4a9f-80cb-bf8fad1b000d",
   "metadata": {},
   "outputs": [],
   "source": [
    "kid_pd,kid_raw=filt(kid,'sparse')"
   ]
  },
  {
   "cell_type": "code",
   "execution_count": 74,
   "id": "0558ad0f-9a84-4163-a68f-10faef07e512",
   "metadata": {},
   "outputs": [],
   "source": [
    "meta=pd.read_csv(pth+\"Kidney_meta.txt\",sep=\" \")"
   ]
  },
  {
   "cell_type": "code",
   "execution_count": 75,
   "id": "bcfbdcd6-73e5-4646-979d-81e992f3024b",
   "metadata": {},
   "outputs": [
    {
     "data": {
      "text/html": [
       "<div>\n",
       "<style scoped>\n",
       "    .dataframe tbody tr th:only-of-type {\n",
       "        vertical-align: middle;\n",
       "    }\n",
       "\n",
       "    .dataframe tbody tr th {\n",
       "        vertical-align: top;\n",
       "    }\n",
       "\n",
       "    .dataframe thead th {\n",
       "        text-align: right;\n",
       "    }\n",
       "</style>\n",
       "<table border=\"1\" class=\"dataframe\">\n",
       "  <thead>\n",
       "    <tr style=\"text-align: right;\">\n",
       "      <th></th>\n",
       "      <th>cell_name</th>\n",
       "      <th>patient</th>\n",
       "      <th>sample</th>\n",
       "      <th>disease</th>\n",
       "      <th>cell_type</th>\n",
       "      <th>malignant</th>\n",
       "      <th>cell_subtype</th>\n",
       "    </tr>\n",
       "  </thead>\n",
       "  <tbody>\n",
       "    <tr>\n",
       "      <th>1</th>\n",
       "      <td>SI_18854_AAACCTGCAAGTAGTA-1</td>\n",
       "      <td>SS_2005</td>\n",
       "      <td>SI_18854</td>\n",
       "      <td>Clear_Cell_RCC</td>\n",
       "      <td>Malignant</td>\n",
       "      <td>yes</td>\n",
       "      <td>Malignant</td>\n",
       "    </tr>\n",
       "    <tr>\n",
       "      <th>2</th>\n",
       "      <td>SI_18854_AAACCTGTCCACTGGG-1</td>\n",
       "      <td>SS_2005</td>\n",
       "      <td>SI_18854</td>\n",
       "      <td>Clear_Cell_RCC</td>\n",
       "      <td>Malignant</td>\n",
       "      <td>yes</td>\n",
       "      <td>Malignant</td>\n",
       "    </tr>\n",
       "    <tr>\n",
       "      <th>3</th>\n",
       "      <td>SI_18854_AAACCTGTCCTTTCTC-1</td>\n",
       "      <td>SS_2005</td>\n",
       "      <td>SI_18854</td>\n",
       "      <td>Clear_Cell_RCC</td>\n",
       "      <td>Malignant</td>\n",
       "      <td>yes</td>\n",
       "      <td>Malignant</td>\n",
       "    </tr>\n",
       "    <tr>\n",
       "      <th>4</th>\n",
       "      <td>SI_18854_AAACGGGCAAACTGCT-1</td>\n",
       "      <td>SS_2005</td>\n",
       "      <td>SI_18854</td>\n",
       "      <td>Clear_Cell_RCC</td>\n",
       "      <td>Macrophage</td>\n",
       "      <td>no</td>\n",
       "      <td>Macrophage</td>\n",
       "    </tr>\n",
       "    <tr>\n",
       "      <th>5</th>\n",
       "      <td>SI_18854_AAACGGGCAAGGTTTC-1</td>\n",
       "      <td>SS_2005</td>\n",
       "      <td>SI_18854</td>\n",
       "      <td>Clear_Cell_RCC</td>\n",
       "      <td>Malignant</td>\n",
       "      <td>yes</td>\n",
       "      <td>Malignant</td>\n",
       "    </tr>\n",
       "  </tbody>\n",
       "</table>\n",
       "</div>"
      ],
      "text/plain": [
       "                     cell_name  patient    sample         disease   cell_type  \\\n",
       "1  SI_18854_AAACCTGCAAGTAGTA-1  SS_2005  SI_18854  Clear_Cell_RCC   Malignant   \n",
       "2  SI_18854_AAACCTGTCCACTGGG-1  SS_2005  SI_18854  Clear_Cell_RCC   Malignant   \n",
       "3  SI_18854_AAACCTGTCCTTTCTC-1  SS_2005  SI_18854  Clear_Cell_RCC   Malignant   \n",
       "4  SI_18854_AAACGGGCAAACTGCT-1  SS_2005  SI_18854  Clear_Cell_RCC  Macrophage   \n",
       "5  SI_18854_AAACGGGCAAGGTTTC-1  SS_2005  SI_18854  Clear_Cell_RCC   Malignant   \n",
       "\n",
       "  malignant cell_subtype  \n",
       "1       yes    Malignant  \n",
       "2       yes    Malignant  \n",
       "3       yes    Malignant  \n",
       "4        no   Macrophage  \n",
       "5       yes    Malignant  "
      ]
     },
     "execution_count": 75,
     "metadata": {},
     "output_type": "execute_result"
    }
   ],
   "source": [
    "meta.head()"
   ]
  },
  {
   "cell_type": "code",
   "execution_count": 76,
   "id": "0a4d765c-9ec5-44e6-b95b-9ee2b44fd06c",
   "metadata": {},
   "outputs": [],
   "source": [
    "kid_raw['cell_name']=kid_raw.index\n",
    "raw=meta.merge(kid_raw,on='cell_name')\n",
    "raw=avg_score(raw)\n",
    "\n",
    "kid_pd['cell_name']=kid_pd.index\n",
    "norm=meta.merge(kid_pd,on='cell_name')\n",
    "norm=avg_score(norm)"
   ]
  },
  {
   "cell_type": "code",
   "execution_count": 78,
   "id": "dc505c34-b847-4661-9c85-7b41367080f0",
   "metadata": {},
   "outputs": [
    {
     "data": {
      "text/html": [
       "<div>\n",
       "<style scoped>\n",
       "    .dataframe tbody tr th:only-of-type {\n",
       "        vertical-align: middle;\n",
       "    }\n",
       "\n",
       "    .dataframe tbody tr th {\n",
       "        vertical-align: top;\n",
       "    }\n",
       "\n",
       "    .dataframe thead th {\n",
       "        text-align: right;\n",
       "    }\n",
       "</style>\n",
       "<table border=\"1\" class=\"dataframe\">\n",
       "  <thead>\n",
       "    <tr style=\"text-align: right;\">\n",
       "      <th></th>\n",
       "      <th>cell_name</th>\n",
       "      <th>patient</th>\n",
       "      <th>sample</th>\n",
       "      <th>disease</th>\n",
       "      <th>cell_type</th>\n",
       "      <th>malignant</th>\n",
       "      <th>cell_subtype</th>\n",
       "      <th>PSMB5</th>\n",
       "      <th>PSMB6</th>\n",
       "      <th>PSMB7</th>\n",
       "      <th>PSMB8</th>\n",
       "      <th>PSMB9</th>\n",
       "      <th>PSMB10</th>\n",
       "      <th>PTPRC</th>\n",
       "      <th>Immunoproteasome</th>\n",
       "      <th>Const_proteasome</th>\n",
       "    </tr>\n",
       "  </thead>\n",
       "  <tbody>\n",
       "    <tr>\n",
       "      <th>0</th>\n",
       "      <td>SI_18854_AAACCTGCAAGTAGTA-1</td>\n",
       "      <td>SS_2005</td>\n",
       "      <td>SI_18854</td>\n",
       "      <td>Clear_Cell_RCC</td>\n",
       "      <td>Malignant</td>\n",
       "      <td>yes</td>\n",
       "      <td>Malignant</td>\n",
       "      <td>1.726817</td>\n",
       "      <td>2.590226</td>\n",
       "      <td>3.453635</td>\n",
       "      <td>6.043861</td>\n",
       "      <td>5.180452</td>\n",
       "      <td>0.000000</td>\n",
       "      <td>0.000000</td>\n",
       "      <td>1.814693</td>\n",
       "      <td>1.815425</td>\n",
       "    </tr>\n",
       "    <tr>\n",
       "      <th>1</th>\n",
       "      <td>SI_18854_AAACCTGTCCACTGGG-1</td>\n",
       "      <td>SS_2005</td>\n",
       "      <td>SI_18854</td>\n",
       "      <td>Clear_Cell_RCC</td>\n",
       "      <td>Malignant</td>\n",
       "      <td>yes</td>\n",
       "      <td>Malignant</td>\n",
       "      <td>2.238263</td>\n",
       "      <td>0.559566</td>\n",
       "      <td>1.119132</td>\n",
       "      <td>6.714789</td>\n",
       "      <td>6.714789</td>\n",
       "      <td>1.119132</td>\n",
       "      <td>0.000000</td>\n",
       "      <td>2.326242</td>\n",
       "      <td>1.139946</td>\n",
       "    </tr>\n",
       "    <tr>\n",
       "      <th>2</th>\n",
       "      <td>SI_18854_AAACCTGTCCTTTCTC-1</td>\n",
       "      <td>SS_2005</td>\n",
       "      <td>SI_18854</td>\n",
       "      <td>Clear_Cell_RCC</td>\n",
       "      <td>Malignant</td>\n",
       "      <td>yes</td>\n",
       "      <td>Malignant</td>\n",
       "      <td>2.879632</td>\n",
       "      <td>1.919754</td>\n",
       "      <td>0.000000</td>\n",
       "      <td>8.638894</td>\n",
       "      <td>8.638894</td>\n",
       "      <td>0.959877</td>\n",
       "      <td>0.000000</td>\n",
       "      <td>2.502833</td>\n",
       "      <td>1.167256</td>\n",
       "    </tr>\n",
       "    <tr>\n",
       "      <th>3</th>\n",
       "      <td>SI_18854_AAACGGGCAAACTGCT-1</td>\n",
       "      <td>SS_2005</td>\n",
       "      <td>SI_18854</td>\n",
       "      <td>Clear_Cell_RCC</td>\n",
       "      <td>Macrophage</td>\n",
       "      <td>no</td>\n",
       "      <td>Macrophage</td>\n",
       "      <td>0.000000</td>\n",
       "      <td>0.000000</td>\n",
       "      <td>0.804311</td>\n",
       "      <td>0.804311</td>\n",
       "      <td>1.608622</td>\n",
       "      <td>0.804311</td>\n",
       "      <td>0.804311</td>\n",
       "      <td>1.028728</td>\n",
       "      <td>0.283816</td>\n",
       "    </tr>\n",
       "    <tr>\n",
       "      <th>4</th>\n",
       "      <td>SI_18854_AAACGGGCAAGGTTTC-1</td>\n",
       "      <td>SS_2005</td>\n",
       "      <td>SI_18854</td>\n",
       "      <td>Clear_Cell_RCC</td>\n",
       "      <td>Malignant</td>\n",
       "      <td>yes</td>\n",
       "      <td>Malignant</td>\n",
       "      <td>1.742009</td>\n",
       "      <td>3.484017</td>\n",
       "      <td>0.871004</td>\n",
       "      <td>1.742009</td>\n",
       "      <td>5.226026</td>\n",
       "      <td>0.000000</td>\n",
       "      <td>0.000000</td>\n",
       "      <td>1.364515</td>\n",
       "      <td>1.507946</td>\n",
       "    </tr>\n",
       "  </tbody>\n",
       "</table>\n",
       "</div>"
      ],
      "text/plain": [
       "                     cell_name  patient    sample         disease   cell_type  \\\n",
       "0  SI_18854_AAACCTGCAAGTAGTA-1  SS_2005  SI_18854  Clear_Cell_RCC   Malignant   \n",
       "1  SI_18854_AAACCTGTCCACTGGG-1  SS_2005  SI_18854  Clear_Cell_RCC   Malignant   \n",
       "2  SI_18854_AAACCTGTCCTTTCTC-1  SS_2005  SI_18854  Clear_Cell_RCC   Malignant   \n",
       "3  SI_18854_AAACGGGCAAACTGCT-1  SS_2005  SI_18854  Clear_Cell_RCC  Macrophage   \n",
       "4  SI_18854_AAACGGGCAAGGTTTC-1  SS_2005  SI_18854  Clear_Cell_RCC   Malignant   \n",
       "\n",
       "  malignant cell_subtype     PSMB5     PSMB6     PSMB7     PSMB8     PSMB9  \\\n",
       "0       yes    Malignant  1.726817  2.590226  3.453635  6.043861  5.180452   \n",
       "1       yes    Malignant  2.238263  0.559566  1.119132  6.714789  6.714789   \n",
       "2       yes    Malignant  2.879632  1.919754  0.000000  8.638894  8.638894   \n",
       "3        no   Macrophage  0.000000  0.000000  0.804311  0.804311  1.608622   \n",
       "4       yes    Malignant  1.742009  3.484017  0.871004  1.742009  5.226026   \n",
       "\n",
       "     PSMB10     PTPRC  Immunoproteasome  Const_proteasome  \n",
       "0  0.000000  0.000000          1.814693          1.815425  \n",
       "1  1.119132  0.000000          2.326242          1.139946  \n",
       "2  0.959877  0.000000          2.502833          1.167256  \n",
       "3  0.804311  0.804311          1.028728          0.283816  \n",
       "4  0.000000  0.000000          1.364515          1.507946  "
      ]
     },
     "execution_count": 78,
     "metadata": {},
     "output_type": "execute_result"
    }
   ],
   "source": [
    "norm.head()"
   ]
  },
  {
   "cell_type": "code",
   "execution_count": 79,
   "id": "d7926a8f-c14c-443d-9fbb-7024df58110b",
   "metadata": {},
   "outputs": [
    {
     "data": {
      "text/plain": [
       "array(['Malignant', 'Macrophage', 'T_cell', 'Endothelial', 'vSMC', 'ua',\n",
       "       'Mast', 'Plasma', 'Epithelial', 'B_cell', 'Monocyte', 'NK_cell',\n",
       "       'Unassigned', 'Pericyte', 'Mesangial'], dtype=object)"
      ]
     },
     "execution_count": 79,
     "metadata": {},
     "output_type": "execute_result"
    }
   ],
   "source": [
    "norm['cell_type'].unique()"
   ]
  },
  {
   "cell_type": "code",
   "execution_count": 80,
   "id": "12964113-ccb8-4fe4-b0ba-ba6b03a81db1",
   "metadata": {},
   "outputs": [
    {
     "name": "stderr",
     "output_type": "stream",
     "text": [
      "/home/sabari/dbhavya/miniconda3/envs/single-cell/lib/python3.7/site-packages/ipykernel_launcher.py:6: SettingWithCopyWarning: \n",
      "A value is trying to be set on a copy of a slice from a DataFrame.\n",
      "Try using .loc[row_indexer,col_indexer] = value instead\n",
      "\n",
      "See the caveats in the documentation: https://pandas.pydata.org/pandas-docs/stable/user_guide/indexing.html#returning-a-view-versus-a-copy\n",
      "  \n"
     ]
    }
   ],
   "source": [
    "norm['cell_type']=norm['cell_type'].str.replace('Malignant','Epithelial-cell')\n",
    "norm['cell_type']=norm['cell_type'].str.replace('T_cell','T-cell')\n",
    "norm['cell_type']=norm['cell_type'].str.replace('B_cell','B-cell')\n",
    "x=norm[['cell_name','cell_type','Immunoproteasome','Const_proteasome']]\n",
    "x.columns=['Sample','cell-type','Immunoproteasome','Const_proteasome']\n",
    "x['Tumour']='Kidney'\n",
    "combined_st.append(x)"
   ]
  },
  {
   "cell_type": "markdown",
   "id": "31a6965c-1c6f-4dd4-8cea-17c88a192a32",
   "metadata": {
    "tags": []
   },
   "source": [
    "### Ovarian Cancer "
   ]
  },
  {
   "cell_type": "code",
   "execution_count": 81,
   "id": "49933f1f-77be-46c8-bba6-87e08dfda58a",
   "metadata": {},
   "outputs": [],
   "source": [
    "oc = sc.read_10x_mtx(\n",
    "    'Ovarian/Group1/',  \n",
    "    var_names='gene_symbols', # the directory with the `.mtx` file                # use gene symbols for the variable names (variables-axis index)\n",
    "    cache=True)  "
   ]
  },
  {
   "cell_type": "code",
   "execution_count": 82,
   "id": "fcfdbb6c-ee38-467d-82f6-a8001bdddaf0",
   "metadata": {},
   "outputs": [
    {
     "data": {
      "text/html": [
       "<div>\n",
       "<style scoped>\n",
       "    .dataframe tbody tr th:only-of-type {\n",
       "        vertical-align: middle;\n",
       "    }\n",
       "\n",
       "    .dataframe tbody tr th {\n",
       "        vertical-align: top;\n",
       "    }\n",
       "\n",
       "    .dataframe thead th {\n",
       "        text-align: right;\n",
       "    }\n",
       "</style>\n",
       "<table border=\"1\" class=\"dataframe\">\n",
       "  <thead>\n",
       "    <tr style=\"text-align: right;\">\n",
       "      <th></th>\n",
       "      <th>cell_name</th>\n",
       "      <th>sample</th>\n",
       "      <th>patient</th>\n",
       "      <th>cell_type</th>\n",
       "      <th>cluster_old</th>\n",
       "      <th>cluster_new</th>\n",
       "      <th>tsne_x</th>\n",
       "      <th>tsne_y</th>\n",
       "    </tr>\n",
       "  </thead>\n",
       "  <tbody>\n",
       "    <tr>\n",
       "      <th>0</th>\n",
       "      <td>10x_3288_t1_AAACATACCTTCCG-1</td>\n",
       "      <td>3288.1</td>\n",
       "      <td>5</td>\n",
       "      <td>Macrophage</td>\n",
       "      <td>1</td>\n",
       "      <td>13</td>\n",
       "      <td>45.336310</td>\n",
       "      <td>46.933480</td>\n",
       "    </tr>\n",
       "    <tr>\n",
       "      <th>1</th>\n",
       "      <td>10x_3288_t1_AAACATACTCCTAT-1</td>\n",
       "      <td>3288.1</td>\n",
       "      <td>5</td>\n",
       "      <td>Macrophage</td>\n",
       "      <td>1</td>\n",
       "      <td>13</td>\n",
       "      <td>35.076090</td>\n",
       "      <td>-20.101050</td>\n",
       "    </tr>\n",
       "    <tr>\n",
       "      <th>2</th>\n",
       "      <td>10x_3288_t1_AAACATTGAACTGC-1</td>\n",
       "      <td>3288.1</td>\n",
       "      <td>5</td>\n",
       "      <td>Macrophage</td>\n",
       "      <td>1</td>\n",
       "      <td>13</td>\n",
       "      <td>27.412720</td>\n",
       "      <td>-1.876431</td>\n",
       "    </tr>\n",
       "    <tr>\n",
       "      <th>3</th>\n",
       "      <td>10x_3288_t1_AAACATTGCTGACA-1</td>\n",
       "      <td>3288.1</td>\n",
       "      <td>5</td>\n",
       "      <td>Fibroblast</td>\n",
       "      <td>2</td>\n",
       "      <td>8</td>\n",
       "      <td>-12.224810</td>\n",
       "      <td>-86.460820</td>\n",
       "    </tr>\n",
       "    <tr>\n",
       "      <th>4</th>\n",
       "      <td>10x_3288_t1_AAACCGTGACAGTC-1</td>\n",
       "      <td>3288.1</td>\n",
       "      <td>5</td>\n",
       "      <td>Fibroblast</td>\n",
       "      <td>2</td>\n",
       "      <td>8</td>\n",
       "      <td>-1.349342</td>\n",
       "      <td>-65.225150</td>\n",
       "    </tr>\n",
       "  </tbody>\n",
       "</table>\n",
       "</div>"
      ],
      "text/plain": [
       "                      cell_name  sample  patient   cell_type  cluster_old  \\\n",
       "0  10x_3288_t1_AAACATACCTTCCG-1  3288.1        5  Macrophage            1   \n",
       "1  10x_3288_t1_AAACATACTCCTAT-1  3288.1        5  Macrophage            1   \n",
       "2  10x_3288_t1_AAACATTGAACTGC-1  3288.1        5  Macrophage            1   \n",
       "3  10x_3288_t1_AAACATTGCTGACA-1  3288.1        5  Fibroblast            2   \n",
       "4  10x_3288_t1_AAACCGTGACAGTC-1  3288.1        5  Fibroblast            2   \n",
       "\n",
       "   cluster_new     tsne_x     tsne_y  \n",
       "0           13  45.336310  46.933480  \n",
       "1           13  35.076090 -20.101050  \n",
       "2           13  27.412720  -1.876431  \n",
       "3            8 -12.224810 -86.460820  \n",
       "4            8  -1.349342 -65.225150  "
      ]
     },
     "execution_count": 82,
     "metadata": {},
     "output_type": "execute_result"
    }
   ],
   "source": [
    "meta=pd.read_csv(pth+\"ovarian_meta.txt\",sep=\",\")\n",
    "meta.head()"
   ]
  },
  {
   "cell_type": "code",
   "execution_count": 83,
   "id": "ca5ebca5-bb15-4182-a3b4-a336f5794b38",
   "metadata": {},
   "outputs": [],
   "source": [
    "oc_pd,oc_raw=filt(oc,'sparse')"
   ]
  },
  {
   "cell_type": "code",
   "execution_count": 84,
   "id": "b79fa5d0-ee7c-4b90-9298-acfc9b6c2489",
   "metadata": {},
   "outputs": [],
   "source": [
    "oc_raw['cell_name']=oc_raw.index\n",
    "norm=meta.merge(oc_raw,on='cell_name')\n",
    "norm=avg_score(norm)"
   ]
  },
  {
   "cell_type": "code",
   "execution_count": 86,
   "id": "215c5f7e-e0eb-4f6e-a00c-0687750f75dd",
   "metadata": {},
   "outputs": [
    {
     "data": {
      "text/plain": [
       "array(['Macrophage', 'Fibroblast', 'Malignant', nan, 'B_cell', 'T_cell',\n",
       "       'Erythrocyte', 'Dendritic'], dtype=object)"
      ]
     },
     "execution_count": 86,
     "metadata": {},
     "output_type": "execute_result"
    }
   ],
   "source": [
    "meta['cell_type'].unique()"
   ]
  },
  {
   "cell_type": "code",
   "execution_count": 87,
   "id": "81b025cd-5be2-4311-b77d-b2ae9c827172",
   "metadata": {},
   "outputs": [
    {
     "name": "stderr",
     "output_type": "stream",
     "text": [
      "/home/sabari/dbhavya/miniconda3/envs/single-cell/lib/python3.7/site-packages/ipykernel_launcher.py:6: SettingWithCopyWarning: \n",
      "A value is trying to be set on a copy of a slice from a DataFrame.\n",
      "Try using .loc[row_indexer,col_indexer] = value instead\n",
      "\n",
      "See the caveats in the documentation: https://pandas.pydata.org/pandas-docs/stable/user_guide/indexing.html#returning-a-view-versus-a-copy\n",
      "  \n"
     ]
    }
   ],
   "source": [
    "norm['cell_type']=norm['cell_type'].str.replace('Malignant','Epithelial-cell')\n",
    "norm['cell_type']=norm['cell_type'].str.replace('T_cell','T-cell')\n",
    "norm['cell_type']=norm['cell_type'].str.replace('B_cell','B-cell')\n",
    "x=norm[['cell_name','cell_type','Immunoproteasome','Const_proteasome']]\n",
    "x.columns=['Sample','cell-type','Immunoproteasome','Const_proteasome']\n",
    "x['Tumour']='Ovarian'\n",
    "combined_st.append(x)"
   ]
  },
  {
   "cell_type": "markdown",
   "id": "7c050e5b-fc23-4362-b487-f679d43dd632",
   "metadata": {},
   "source": [
    "## Average Score: Immunoproteasome and Constitutive (SMRT-seq)"
   ]
  },
  {
   "cell_type": "markdown",
   "id": "2ec50ce5-e8d4-477e-b34a-a4fbf231eb0b",
   "metadata": {},
   "source": [
    "### Oral Cancer "
   ]
  },
  {
   "cell_type": "markdown",
   "id": "0c7b58c0-6b4e-486f-9a77-e593fba6991b",
   "metadata": {},
   "source": [
    "Primary tumors from 18 treatment-naive patients and matching lymph node metastasis samples\n",
    "from five of these patients. Cells with less than 2000 counts were excluded."
   ]
  },
  {
   "cell_type": "code",
   "execution_count": 88,
   "id": "feef8388-2f77-4807-9757-90e0a3abc5f3",
   "metadata": {},
   "outputs": [],
   "source": [
    "hnsc = sc.read_10x_mtx(\n",
    "    'HNSC/',  \n",
    "    var_names='gene_symbols', # the directory with the `.mtx` file                # use gene symbols for the variable names (variables-axis index)\n",
    "    cache=True)  "
   ]
  },
  {
   "cell_type": "code",
   "execution_count": 89,
   "id": "7b7025b7-deee-4edb-a389-5e4e0cc89a0f",
   "metadata": {},
   "outputs": [],
   "source": [
    "hnsc_pd,hnsc_raw=filt(hnsc,'sparse')"
   ]
  },
  {
   "cell_type": "code",
   "execution_count": 90,
   "id": "b1244fb5-23a3-4f1b-a11e-e65926da098a",
   "metadata": {},
   "outputs": [
    {
     "data": {
      "text/html": [
       "<div>\n",
       "<style scoped>\n",
       "    .dataframe tbody tr th:only-of-type {\n",
       "        vertical-align: middle;\n",
       "    }\n",
       "\n",
       "    .dataframe tbody tr th {\n",
       "        vertical-align: top;\n",
       "    }\n",
       "\n",
       "    .dataframe thead th {\n",
       "        text-align: right;\n",
       "    }\n",
       "</style>\n",
       "<table border=\"1\" class=\"dataframe\">\n",
       "  <thead>\n",
       "    <tr style=\"text-align: right;\">\n",
       "      <th></th>\n",
       "      <th>cell_name</th>\n",
       "      <th>sample</th>\n",
       "      <th>cell_type</th>\n",
       "      <th>subclone</th>\n",
       "      <th>source</th>\n",
       "      <th>malignant</th>\n",
       "    </tr>\n",
       "  </thead>\n",
       "  <tbody>\n",
       "    <tr>\n",
       "      <th>1</th>\n",
       "      <td>HN28_P15_D06_S330_comb</td>\n",
       "      <td>28</td>\n",
       "      <td>Fibroblast</td>\n",
       "      <td>0</td>\n",
       "      <td>Lymph_node</td>\n",
       "      <td>no</td>\n",
       "    </tr>\n",
       "    <tr>\n",
       "      <th>2</th>\n",
       "      <td>HN28_P6_G05_S173_comb</td>\n",
       "      <td>28</td>\n",
       "      <td>Fibroblast</td>\n",
       "      <td>0</td>\n",
       "      <td>Primary</td>\n",
       "      <td>no</td>\n",
       "    </tr>\n",
       "    <tr>\n",
       "      <th>3</th>\n",
       "      <td>HN26_P14_D11_S239_comb</td>\n",
       "      <td>26</td>\n",
       "      <td>Malignant</td>\n",
       "      <td>1</td>\n",
       "      <td>Lymph_node</td>\n",
       "      <td>yes</td>\n",
       "    </tr>\n",
       "    <tr>\n",
       "      <th>4</th>\n",
       "      <td>HN26_P14_H05_S281_comb</td>\n",
       "      <td>26</td>\n",
       "      <td>Fibroblast</td>\n",
       "      <td>0</td>\n",
       "      <td>Lymph_node</td>\n",
       "      <td>no</td>\n",
       "    </tr>\n",
       "    <tr>\n",
       "      <th>5</th>\n",
       "      <td>HN26_P25_H09_S189_comb</td>\n",
       "      <td>26</td>\n",
       "      <td>Malignant</td>\n",
       "      <td>1</td>\n",
       "      <td>Lymph_node</td>\n",
       "      <td>yes</td>\n",
       "    </tr>\n",
       "  </tbody>\n",
       "</table>\n",
       "</div>"
      ],
      "text/plain": [
       "                cell_name  sample   cell_type  subclone      source malignant\n",
       "1  HN28_P15_D06_S330_comb      28  Fibroblast         0  Lymph_node        no\n",
       "2   HN28_P6_G05_S173_comb      28  Fibroblast         0     Primary        no\n",
       "3  HN26_P14_D11_S239_comb      26   Malignant         1  Lymph_node       yes\n",
       "4  HN26_P14_H05_S281_comb      26  Fibroblast         0  Lymph_node        no\n",
       "5  HN26_P25_H09_S189_comb      26   Malignant         1  Lymph_node       yes"
      ]
     },
     "execution_count": 90,
     "metadata": {},
     "output_type": "execute_result"
    }
   ],
   "source": [
    "meta=pd.read_csv(pth+\"oral_meta.txt\",sep=\" \")\n",
    "meta.head()"
   ]
  },
  {
   "cell_type": "code",
   "execution_count": 91,
   "id": "26276f39-1f61-4247-877c-d617ea2f01c3",
   "metadata": {},
   "outputs": [
    {
     "data": {
      "text/plain": [
       "array(['Fibroblast', 'Malignant', 'B_cell', 'Myocyte', 'Macrophage',\n",
       "       'Endothelial', 'T_cell', 'Dendritic', 'Mast'], dtype=object)"
      ]
     },
     "execution_count": 91,
     "metadata": {},
     "output_type": "execute_result"
    }
   ],
   "source": [
    "meta['cell_type'].unique()"
   ]
  },
  {
   "cell_type": "code",
   "execution_count": 92,
   "id": "5665fe6c-7390-4b5d-91b5-176d89302daa",
   "metadata": {},
   "outputs": [],
   "source": [
    "hnsc_raw['cell_name']=hnsc_raw.index\n",
    "norm=meta.merge(hnsc_raw,on='cell_name')\n",
    "norm=avg_score(norm)"
   ]
  },
  {
   "cell_type": "code",
   "execution_count": 240,
   "id": "b64883d5-f7d5-4d76-bd03-9387991b2847",
   "metadata": {},
   "outputs": [],
   "source": [
    "norm['cell_type']=norm['cell_type'].str.replace('Malignant','Epithelial-cell')\n",
    "norm['cell_type']=norm['cell_type'].str.replace('T_cell','T-cell')\n",
    "norm['cell_type']=norm['cell_type'].str.replace('B_cell','B-cell')\n",
    "x=norm[['cell_name','cell_type','Immunoproteasome','Const_proteasome']][(norm['malignant']=='yes')]\n",
    "x.columns=['Sample','cell-type','Immunoproteasome','Const_proteasome']\n",
    "x['Tumour']='Oral'\n",
    "combined_st.append(x)"
   ]
  },
  {
   "cell_type": "markdown",
   "id": "f997b4bd-ab98-4c84-8b20-71eba1596d1e",
   "metadata": {},
   "source": [
    "Combining all the studies for futher plots"
   ]
  },
  {
   "cell_type": "code",
   "execution_count": 364,
   "id": "52a8b021-54b9-4e6d-afa6-1369338bca12",
   "metadata": {},
   "outputs": [
    {
     "data": {
      "text/html": [
       "<div>\n",
       "<style scoped>\n",
       "    .dataframe tbody tr th:only-of-type {\n",
       "        vertical-align: middle;\n",
       "    }\n",
       "\n",
       "    .dataframe tbody tr th {\n",
       "        vertical-align: top;\n",
       "    }\n",
       "\n",
       "    .dataframe thead th {\n",
       "        text-align: right;\n",
       "    }\n",
       "</style>\n",
       "<table border=\"1\" class=\"dataframe\">\n",
       "  <thead>\n",
       "    <tr style=\"text-align: right;\">\n",
       "      <th></th>\n",
       "      <th>Sample</th>\n",
       "      <th>cell-type</th>\n",
       "      <th>Immunoproteasome</th>\n",
       "      <th>Const_proteasome</th>\n",
       "      <th>Tumour</th>\n",
       "    </tr>\n",
       "  </thead>\n",
       "  <tbody>\n",
       "    <tr>\n",
       "      <th>0</th>\n",
       "      <td>CID3586_AAGACCTCAGCATGAG</td>\n",
       "      <td>Endothelial</td>\n",
       "      <td>1.615873</td>\n",
       "      <td>0.556785</td>\n",
       "      <td>Breast</td>\n",
       "    </tr>\n",
       "    <tr>\n",
       "      <th>1</th>\n",
       "      <td>CID3586_AAGGTTCGTAGTACCT</td>\n",
       "      <td>Endothelial</td>\n",
       "      <td>0.921402</td>\n",
       "      <td>0.000000</td>\n",
       "      <td>Breast</td>\n",
       "    </tr>\n",
       "    <tr>\n",
       "      <th>2</th>\n",
       "      <td>CID3586_ACCAGTAGTTGTGGCC</td>\n",
       "      <td>Endothelial</td>\n",
       "      <td>0.000000</td>\n",
       "      <td>0.000000</td>\n",
       "      <td>Breast</td>\n",
       "    </tr>\n",
       "    <tr>\n",
       "      <th>3</th>\n",
       "      <td>CID3586_ACCCACTAGATGTCGG</td>\n",
       "      <td>Endothelial</td>\n",
       "      <td>0.000000</td>\n",
       "      <td>0.000000</td>\n",
       "      <td>Breast</td>\n",
       "    </tr>\n",
       "    <tr>\n",
       "      <th>4</th>\n",
       "      <td>CID3586_ACTGATGGTCAACTGT</td>\n",
       "      <td>Endothelial</td>\n",
       "      <td>0.924984</td>\n",
       "      <td>0.924984</td>\n",
       "      <td>Breast</td>\n",
       "    </tr>\n",
       "  </tbody>\n",
       "</table>\n",
       "</div>"
      ],
      "text/plain": [
       "                     Sample    cell-type  Immunoproteasome  Const_proteasome  \\\n",
       "0  CID3586_AAGACCTCAGCATGAG  Endothelial          1.615873          0.556785   \n",
       "1  CID3586_AAGGTTCGTAGTACCT  Endothelial          0.921402          0.000000   \n",
       "2  CID3586_ACCAGTAGTTGTGGCC  Endothelial          0.000000          0.000000   \n",
       "3  CID3586_ACCCACTAGATGTCGG  Endothelial          0.000000          0.000000   \n",
       "4  CID3586_ACTGATGGTCAACTGT  Endothelial          0.924984          0.924984   \n",
       "\n",
       "   Tumour  \n",
       "0  Breast  \n",
       "1  Breast  \n",
       "2  Breast  \n",
       "3  Breast  \n",
       "4  Breast  "
      ]
     },
     "execution_count": 364,
     "metadata": {},
     "output_type": "execute_result"
    }
   ],
   "source": [
    "combined=pd.concat(combined_st)\n",
    "combined.head()"
   ]
  },
  {
   "cell_type": "code",
   "execution_count": 365,
   "id": "79e04e0f-9ffe-49b7-8ff0-652b570898c4",
   "metadata": {},
   "outputs": [],
   "source": [
    "combined.to_csv(results+\"All_studies.csv\",index=None)"
   ]
  }
 ],
 "metadata": {
  "kernelspec": {
   "display_name": "Python 3 (ipykernel)",
   "language": "python",
   "name": "python3"
  },
  "language_info": {
   "codemirror_mode": {
    "name": "ipython",
    "version": 3
   },
   "file_extension": ".py",
   "mimetype": "text/x-python",
   "name": "python",
   "nbconvert_exporter": "python",
   "pygments_lexer": "ipython3",
   "version": "3.7.12"
  },
  "toc-showtags": true
 },
 "nbformat": 4,
 "nbformat_minor": 5
}
