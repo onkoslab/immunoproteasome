{
 "cells": [
  {
   "cell_type": "code",
   "execution_count": 1,
   "metadata": {},
   "outputs": [],
   "source": [
    "import pandas as pd \n",
    "import numpy as np\n",
    "import sys\n",
    "import seaborn as sns\n",
    "import matplotlib.pyplot as plt\n",
    "import glob, os"
   ]
  },
  {
   "cell_type": "code",
   "execution_count": 2,
   "metadata": {},
   "outputs": [],
   "source": [
    "## Customizing plots \n",
    "commonFontsize=8\n",
    "def config_rcparams():\n",
    "    plt.rcParams['font.family'] = ['sans-serif']\n",
    "    plt.rcParams['font.sans-serif'] = ['arial']\n",
    "    plt.rcParams['font.size'] = commonFontsize\n",
    "    plt.rcParams['axes.labelsize'] = commonFontsize\n",
    "    plt.rcParams['xtick.labelsize'] = commonFontsize\n",
    "    plt.rcParams['ytick.labelsize'] = commonFontsize\n",
    "    plt.rcParams['axes.titlesize'] = commonFontsize\n",
    "    plt.rcParams['svg.fonttype'] = 'none'\n",
    "    plt.rcParams['mathtext.fontset'] = 'custom'\n",
    "    plt.rcParams['mathtext.cal'] = 'arial'\n",
    "    plt.rcParams['mathtext.rm'] = 'arial'\n",
    "    plt.rcParams['axes.edgecolor'] = 'black'\n",
    "    plt.rcParams['ytick.color'] = 'black'\n",
    "    plt.rcParams['axes.linewidth'] = 0.7\n",
    "    plt.rcParams['xtick.major.width'] = 0.7\n",
    "    plt.rcParams['ytick.major.width'] = 0.7\n",
    "    plt.rcParams['xtick.major.size' ] = 3\n",
    "    plt.rcParams['ytick.major.size' ] = 3\n",
    "config_rcparams()"
   ]
  },
  {
   "cell_type": "code",
   "execution_count": 3,
   "metadata": {},
   "outputs": [],
   "source": [
    "## Listing tumor file name containing immune cells GSVA score\n",
    "os.chdir(\"data/r_output/\")\n",
    "diff_immune_gsva_score_info=[]\n",
    "for  i in glob.glob(\"high_low_immuno_prtoeasome_Diff_immune_score*.csv\"):\n",
    "    diff_immune_gsva_score_info.append(i.split('_')[7].split('.')[0])"
   ]
  },
  {
   "cell_type": "markdown",
   "metadata": {},
   "source": [
    "### Figure 3A. Differential Immune cells enrichment plot based on IP "
   ]
  },
  {
   "cell_type": "code",
   "execution_count": 4,
   "metadata": {},
   "outputs": [],
   "source": [
    "input_path2=\"data/r_output/\"\n",
    "all_tumor_immune_cells_df=pd.DataFrame()\n",
    "for i in range(len(diff_immune_gsva_score_info)):\n",
    "    diff_immune_cells_gsva_score=pd.read_csv(input_path2+'high_low_immuno_prtoeasome_Diff_immune_score_'+diff_immune_gsva_score_info[i]+'.csv',index_col='Unnamed: 0')\n",
    "    diff_immune_cells_gsva_score=diff_immune_cells_gsva_score[['logFC','adj.P.Val']]\n",
    "    tumor_name=diff_immune_gsva_score_info[i]\n",
    "    diff_immune_cells_gsva_score=diff_immune_cells_gsva_score.rename(columns={'logFC':'logFC_'+tumor_name,'adj.P.Val':'adj.P.Val_'+tumor_name})\n",
    "    all_tumor_immune_cells_df=pd.concat([all_tumor_immune_cells_df, diff_immune_cells_gsva_score], axis=1)\n"
   ]
  },
  {
   "cell_type": "code",
   "execution_count": 5,
   "metadata": {},
   "outputs": [],
   "source": [
    "### Getting the GSVA score tumor tissue wise\n",
    "GSVA_score_difference=all_tumor_immune_cells_df.T.iloc[::2]\n",
    "GSVA_score_difference.index=GSVA_score_difference.index.str.split('_').str[1:2].str.join('.')\n",
    "\n",
    "### Masking the score\n",
    "mask3=(GSVA_score_difference>-0.2)&(GSVA_score_difference<0.2)\n",
    "GSVA_score_difference[mask3]=np.nan\n",
    "\n",
    "## Getting the p values\n",
    "gsva_p_values=all_tumor_immune_cells_df.T.iloc[1:66:2]\n",
    "gsva_p_values.index=gsva_p_values.index.str.split('_').str[1:2].str.join('.')\n",
    "\n",
    "## masking the P value\n",
    "mask1=gsva_p_values<0.1\n",
    "mask2=gsva_p_values>0.1\n",
    "gsva_p_values[mask1]=1\n",
    "gsva_p_values[mask2]=np.nan\n",
    "\n",
    "## getting only those values in the dataframe which has |>0.2| gsva score and adj p values<0.01\n",
    "GSVA_score_p_values_df=pd.DataFrame(GSVA_score_difference.values*gsva_p_values.values, columns=GSVA_score_difference.columns, index=GSVA_score_difference.index)\n",
    "GSVA_score_p_values_df.rename(columns = {\"Exhaustive T cell\": \"Exhausted T cell\"},inplace = True)"
   ]
  },
  {
   "cell_type": "code",
   "execution_count": 6,
   "metadata": {},
   "outputs": [],
   "source": [
    "### ordering the rows and columns of the dataframe\n",
    "index_list=['Exhausted T cell','Activated CD8 T cell','aDC','Cytotoxic cells','Regulatory T cell','NK CD56dim cells',\n",
    " 'Gamma delta T cell','B cells','Neutrophils','iDC','Macrophages','NK CD56bright cells','Mast cells','Tem cells','Tfh cells','T helper cells','Eosinophils','Tcm cells']\n",
    "col_list=['LGG','GBM','BRCA','BLCA','THCA','TGCT','PAAD','SKCM','UCS','DLBC','HNSC','UVM','LIHC','LUSC',\n",
    "                 'ACC','KIRC','PRAD','STAD','OV','KICH','LUAD','SARC','CESC','UCEC','MESO','THYM','COAD','READ',\n",
    "                 'KIRP','CHOL','PCPG','ESCA','LAML']"
   ]
  },
  {
   "cell_type": "code",
   "execution_count": 7,
   "metadata": {},
   "outputs": [],
   "source": [
    "GSVA_score_p_values_df1=GSVA_score_p_values_df\n",
    "GSVA_score_p_values_df1=GSVA_score_p_values_df1.reindex(col_list)\n",
    "GSVA_score_p_values_df2=GSVA_score_p_values_df1[index_list]"
   ]
  },
  {
   "cell_type": "code",
   "execution_count": 8,
   "metadata": {},
   "outputs": [],
   "source": [
    "### Immune cells significantly up or down regulated in more than 2 tumor tissue types\n",
    "df_tmp=pd.DataFrame(GSVA_score_p_values_df2.notnull().sum(axis = 0))\n",
    "final_immune_cell_list=list(df_tmp[df_tmp[0]>2].index)\n",
    "GSVA_score_p_values_df3=GSVA_score_p_values_df2[final_immune_cell_list]"
   ]
  },
  {
   "cell_type": "code",
   "execution_count": 9,
   "metadata": {},
   "outputs": [
    {
     "data": {
      "image/png": "[encoded data removed]",
      "text/plain": [
       "<Figure size 648x288 with 2 Axes>"
      ]
     },
     "metadata": {
      "needs_background": "light"
     },
     "output_type": "display_data"
    }
   ],
   "source": [
    "## Plotting the GSVA score |>0.2| having adj p values <0.1 and \n",
    "fig=plt.figure(figsize=(9,4))\n",
    "res=sns.heatmap(GSVA_score_p_values_df3.T,linewidths=0.1, linecolor='black',center=0,square=True,rasterized=False,cmap=\"RdBu_r\")\n",
    "res.set_xticklabels(res.get_xmajorticklabels(), fontsize = 8)\n",
    "res.set_yticklabels(res.get_ymajorticklabels(), fontsize = 8)\n",
    "plt.title('Immune cells enriched in high IP samples',fontsize=8)\n",
    "#plt.savefig(\"plots/\"+'Differential_immune_cells_high_low_IP_rev_v2_24223'+'.svg',bbox_inches = \"tight\",dpi=500)\n",
    "plt.show()"
   ]
  },
  {
   "cell_type": "markdown",
   "metadata": {},
   "source": [
    "### Differentially expressed immune cells in High CP"
   ]
  },
  {
   "cell_type": "code",
   "execution_count": 10,
   "metadata": {},
   "outputs": [],
   "source": [
    "os.chdir(\"data/r_output/\")\n",
    "diff_immune_gsva_score_info=[]\n",
    "for  i in glob.glob(\"high_low_const_prtoeasome_Diff_immune_score*.csv\"):\n",
    "    diff_immune_gsva_score_info.append(i.split('_')[7].split('.')[0])"
   ]
  },
  {
   "cell_type": "code",
   "execution_count": 11,
   "metadata": {},
   "outputs": [],
   "source": [
    "input_path2=\"data/r_output/\"\n",
    "all_tumor_immune_cells_df=pd.DataFrame()\n",
    "for i in range(len(diff_immune_gsva_score_info)):\n",
    "    diff_immune_cells_gsva_score=pd.read_csv(input_path2+'high_low_const_prtoeasome_Diff_immune_score_'+diff_immune_gsva_score_info[i]+'.csv',index_col='Unnamed: 0')\n",
    "    diff_immune_cells_gsva_score=diff_immune_cells_gsva_score[['logFC','adj.P.Val']]\n",
    "    tumor_name=diff_immune_gsva_score_info[i]\n",
    "    diff_immune_cells_gsva_score=diff_immune_cells_gsva_score.rename(columns={'logFC':'logFC_'+tumor_name,'adj.P.Val':'adj.P.Val_'+tumor_name})\n",
    "    all_tumor_immune_cells_df=pd.concat([all_tumor_immune_cells_df, diff_immune_cells_gsva_score], axis=1)\n"
   ]
  },
  {
   "cell_type": "code",
   "execution_count": 12,
   "metadata": {},
   "outputs": [],
   "source": [
    "### Getting the GSVA score tumor tissue wise\n",
    "GSVA_score_difference=all_tumor_immune_cells_df.T.iloc[::2]\n",
    "GSVA_score_difference.index=GSVA_score_difference.index.str.split('_').str[1:2].str.join('.')\n",
    "\n",
    "### Masking the score\n",
    "mask3=(GSVA_score_difference>-0.2)&(GSVA_score_difference<0.2)\n",
    "GSVA_score_difference[mask3]=np.nan\n",
    "\n",
    "## Getting the p values\n",
    "gsva_p_values=all_tumor_immune_cells_df.T.iloc[1:66:2]\n",
    "gsva_p_values.index=gsva_p_values.index.str.split('_').str[1:2].str.join('.')\n",
    "\n",
    "## masking the P value\n",
    "mask1=gsva_p_values<0.1\n",
    "mask2=gsva_p_values>0.1\n",
    "gsva_p_values[mask1]=1\n",
    "gsva_p_values[mask2]=np.nan\n",
    "\n",
    "## getting only those values in the dataframe which has |>0.2| gsva score and adj p values<0.1\n",
    "GSVA_score_p_values_df=pd.DataFrame(GSVA_score_difference.values*gsva_p_values.values, columns=GSVA_score_difference.columns, index=GSVA_score_difference.index)\n",
    "GSVA_score_p_values_df.rename(columns = {\"Exhaustive T cell\": \"Exhausted T cell\"},inplace = True)"
   ]
  },
  {
   "cell_type": "code",
   "execution_count": 13,
   "metadata": {},
   "outputs": [],
   "source": [
    "###oredring the rows and columns of the dataframe\n",
    "index_list=['Gamma delta T cell','Activated CD8 T cell','Exhausted T cell','NK CD56dim cells','iDC','Cytotoxic cells','NK CD56bright cells',\n",
    " 'Macrophages','Regulatory T cell','Neutrophils','T helper cells','B cells','Tem cells',\n",
    " 'Mast cells','Eosinophils','Tfh cells','aDC','Tcm cells']\n",
    "col_list=['LGG','GBM','BRCA','BLCA','THCA','TGCT','PAAD','SKCM','UCS','DLBC','HNSC','UVM','LIHC','LUSC',\n",
    "                 'ACC','KIRC','PRAD','STAD','OV','KICH','LUAD','SARC','CESC','UCEC','MESO','THYM','COAD','READ',\n",
    "                 'KIRP','CHOL','PCPG','ESCA','LAML']"
   ]
  },
  {
   "cell_type": "code",
   "execution_count": 14,
   "metadata": {},
   "outputs": [],
   "source": [
    "GSVA_score_p_values_df1=GSVA_score_p_values_df\n",
    "GSVA_score_p_values_df1=GSVA_score_p_values_df1.reindex(col_list)\n",
    "GSVA_score_p_values_df2=GSVA_score_p_values_df1[index_list]"
   ]
  },
  {
   "cell_type": "code",
   "execution_count": 15,
   "metadata": {},
   "outputs": [],
   "source": [
    "### Immune cells significantly up or down regulated in more than 2 tumor tissue types\n",
    "df_tmp=pd.DataFrame(GSVA_score_p_values_df2.notnull().sum(axis = 0))\n",
    "final_immune_cell_list=list(df_tmp[df_tmp[0]>2].index)\n",
    "GSVA_score_p_values_df3=GSVA_score_p_values_df2[final_immune_cell_list]"
   ]
  },
  {
   "cell_type": "code",
   "execution_count": 16,
   "metadata": {},
   "outputs": [
    {
     "data": {
      "image/png": "[encoded data removed]",
      "text/plain": [
       "<Figure size 648x288 with 2 Axes>"
      ]
     },
     "metadata": {
      "needs_background": "light"
     },
     "output_type": "display_data"
    }
   ],
   "source": [
    "## Plotting the GSVA score |>0.2| having adj p values <0.1 and \n",
    "fig=plt.figure(figsize=(9,4))\n",
    "res=sns.heatmap(GSVA_score_p_values_df3.T,linewidths=0.1, linecolor='black',center=0,square=True,rasterized=False,cmap=\"RdBu_r\")\n",
    "res.set_xticklabels(res.get_xmajorticklabels(), fontsize = 8)\n",
    "res.set_yticklabels(res.get_ymajorticklabels(), fontsize = 8)\n",
    "plt.title('Immune cells enriched in high CP samples',fontsize=8)\n",
    "#plt.savefig(\"plots/\"+'Differential_immune_cells_high_low_CP_rev_v2_24223'+'.svg',bbox_inches = \"tight\",dpi=500)\n",
    "plt.show()"
   ]
  },
  {
   "cell_type": "markdown",
   "metadata": {},
   "source": [
    "### Supplementary Table 3: Sample level GSVA score of 18 different immune across 33 tumour tisssue"
   ]
  },
  {
   "cell_type": "code",
   "execution_count": 17,
   "metadata": {},
   "outputs": [],
   "source": [
    "## Extracting tumor file name containing immune cells GSVA score\n",
    "os.chdir(\"data/r_output/\")\n",
    "immune_gsva_score_info=[]\n",
    "for  i in glob.glob(\"GSVA_immune_cells*.tsv\"):\n",
    "    immune_gsva_score_info.append(i)"
   ]
  },
  {
   "cell_type": "code",
   "execution_count": 18,
   "metadata": {},
   "outputs": [],
   "source": [
    "## Generating Supplementary Table 3 containg immune cells GSVA score across 33 tumor tissue samples.\n",
    "input_path2=\"data/r_output/\"\n",
    "df_list={}\n",
    "for i in range(33):\n",
    "    immune_cells_gsva_score=pd.read_csv(input_path2+immune_gsva_score_info[i],sep=\"\\t\")\n",
    "    immune_cells_gsva_score1=immune_cells_gsva_score.T\n",
    "    immune_cells_gsva_score1['Tissue type']=immune_gsva_score_info[i].split(\"_\")[3].split('.')[0]\n",
    "    df_list[i]=immune_cells_gsva_score1\n",
    "\n",
    "immune_cell_df=pd.concat(df_list)\n",
    "with pd.ExcelWriter('supplementary_tables/TableS3.xlsx') as writer: \n",
    "    immune_cell_df.to_excel(writer, sheet_name='Sheet_name_1')"
   ]
  },
  {
   "cell_type": "code",
   "execution_count": null,
   "metadata": {},
   "outputs": [],
   "source": []
  },
  {
   "cell_type": "code",
   "execution_count": null,
   "metadata": {},
   "outputs": [],
   "source": []
  }
 ],
 "metadata": {
  "kernelspec": {
   "display_name": "Python 3",
   "language": "python",
   "name": "python3"
  },
  "language_info": {
   "codemirror_mode": {
    "name": "ipython",
    "version": 3
   },
   "file_extension": ".py",
   "mimetype": "text/x-python",
   "name": "python",
   "nbconvert_exporter": "python",
   "pygments_lexer": "ipython3",
   "version": "3.6.8"
  }
 },
 "nbformat": 4,
 "nbformat_minor": 2
}
